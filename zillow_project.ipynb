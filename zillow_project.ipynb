{
 "cells": [
  {
   "cell_type": "markdown",
   "id": "06990b2c",
   "metadata": {},
   "source": [
    "# Zillow Project"
   ]
  },
  {
   "cell_type": "code",
   "execution_count": 58,
   "id": "f3fc389f",
   "metadata": {},
   "outputs": [],
   "source": [
    "# Imports necessary for the notebook\n",
    "\n",
    "import pandas as pd\n",
    "import numpy as np\n",
    "import matplotlib.pyplot as plt\n",
    "import scipy.stats\n",
    "import sklearn.preprocessing\n",
    "from sklearn.model_selection import train_test_split\n",
    "\n",
    "import os\n",
    "import wrangle\n",
    "from env import host, user, password\n",
    "\n",
    "import seaborn as sns\n",
    "import warnings\n",
    "warnings.filterwarnings('ignore')"
   ]
  },
  {
   "cell_type": "code",
   "execution_count": 4,
   "id": "f262787c",
   "metadata": {},
   "outputs": [
    {
     "data": {
      "text/html": [
       "<div>\n",
       "<style scoped>\n",
       "    .dataframe tbody tr th:only-of-type {\n",
       "        vertical-align: middle;\n",
       "    }\n",
       "\n",
       "    .dataframe tbody tr th {\n",
       "        vertical-align: top;\n",
       "    }\n",
       "\n",
       "    .dataframe thead th {\n",
       "        text-align: right;\n",
       "    }\n",
       "</style>\n",
       "<table border=\"1\" class=\"dataframe\">\n",
       "  <thead>\n",
       "    <tr style=\"text-align: right;\">\n",
       "      <th></th>\n",
       "      <th>bedroomcnt</th>\n",
       "      <th>bathroomcnt</th>\n",
       "      <th>calculatedfinishedsquarefeet</th>\n",
       "      <th>taxvaluedollarcnt</th>\n",
       "      <th>propertylandusetypeid</th>\n",
       "      <th>transactiondate</th>\n",
       "    </tr>\n",
       "  </thead>\n",
       "  <tbody>\n",
       "    <tr>\n",
       "      <th>0</th>\n",
       "      <td>4.0</td>\n",
       "      <td>3.5</td>\n",
       "      <td>3100.0</td>\n",
       "      <td>1023282.0</td>\n",
       "      <td>261.0</td>\n",
       "      <td>2017-01-01</td>\n",
       "    </tr>\n",
       "    <tr>\n",
       "      <th>1</th>\n",
       "      <td>2.0</td>\n",
       "      <td>1.0</td>\n",
       "      <td>1465.0</td>\n",
       "      <td>464000.0</td>\n",
       "      <td>261.0</td>\n",
       "      <td>2017-01-01</td>\n",
       "    </tr>\n",
       "    <tr>\n",
       "      <th>2</th>\n",
       "      <td>3.0</td>\n",
       "      <td>2.0</td>\n",
       "      <td>1243.0</td>\n",
       "      <td>564778.0</td>\n",
       "      <td>261.0</td>\n",
       "      <td>2017-01-01</td>\n",
       "    </tr>\n",
       "    <tr>\n",
       "      <th>3</th>\n",
       "      <td>4.0</td>\n",
       "      <td>3.0</td>\n",
       "      <td>2376.0</td>\n",
       "      <td>145143.0</td>\n",
       "      <td>261.0</td>\n",
       "      <td>2017-01-01</td>\n",
       "    </tr>\n",
       "    <tr>\n",
       "      <th>4</th>\n",
       "      <td>4.0</td>\n",
       "      <td>3.0</td>\n",
       "      <td>2962.0</td>\n",
       "      <td>773303.0</td>\n",
       "      <td>261.0</td>\n",
       "      <td>2017-01-01</td>\n",
       "    </tr>\n",
       "  </tbody>\n",
       "</table>\n",
       "</div>"
      ],
      "text/plain": [
       "   bedroomcnt  bathroomcnt  calculatedfinishedsquarefeet  taxvaluedollarcnt  \\\n",
       "0         4.0          3.5                        3100.0          1023282.0   \n",
       "1         2.0          1.0                        1465.0           464000.0   \n",
       "2         3.0          2.0                        1243.0           564778.0   \n",
       "3         4.0          3.0                        2376.0           145143.0   \n",
       "4         4.0          3.0                        2962.0           773303.0   \n",
       "\n",
       "   propertylandusetypeid transactiondate  \n",
       "0                  261.0      2017-01-01  \n",
       "1                  261.0      2017-01-01  \n",
       "2                  261.0      2017-01-01  \n",
       "3                  261.0      2017-01-01  \n",
       "4                  261.0      2017-01-01  "
      ]
     },
     "execution_count": 4,
     "metadata": {},
     "output_type": "execute_result"
    }
   ],
   "source": [
    "# Getting the file\n",
    "\n",
    "properties_2017 = wrangle.wrangle_zillow()\n",
    "properties_2017.head()"
   ]
  },
  {
   "cell_type": "code",
   "execution_count": 10,
   "id": "55644337",
   "metadata": {},
   "outputs": [],
   "source": [
    "properties_2017.to_csv('/Users/arsen/codeup-data-science/zillow_project/properties_2017.csv')"
   ]
  },
  {
   "cell_type": "code",
   "execution_count": 5,
   "id": "24d447c5",
   "metadata": {},
   "outputs": [
    {
     "name": "stdout",
     "output_type": "stream",
     "text": [
      "<class 'pandas.core.frame.DataFrame'>\n",
      "RangeIndex: 52442 entries, 0 to 52441\n",
      "Data columns (total 6 columns):\n",
      " #   Column                        Non-Null Count  Dtype  \n",
      "---  ------                        --------------  -----  \n",
      " 0   bedroomcnt                    52442 non-null  float64\n",
      " 1   bathroomcnt                   52442 non-null  float64\n",
      " 2   calculatedfinishedsquarefeet  52360 non-null  float64\n",
      " 3   taxvaluedollarcnt             52441 non-null  float64\n",
      " 4   propertylandusetypeid         52442 non-null  float64\n",
      " 5   transactiondate               52442 non-null  object \n",
      "dtypes: float64(5), object(1)\n",
      "memory usage: 2.4+ MB\n"
     ]
    }
   ],
   "source": [
    "# Getting information about number of coulumns, number of rows data type, size of the file (for pushing to github)\n",
    "\n",
    "properties_2017.info(verbose = True)"
   ]
  },
  {
   "cell_type": "code",
   "execution_count": 6,
   "id": "a2dabb1c",
   "metadata": {
    "scrolled": false
   },
   "outputs": [
    {
     "data": {
      "text/plain": [
       "bedroomcnt                      0.0000\n",
       "bathroomcnt                     0.0000\n",
       "calculatedfinishedsquarefeet    0.0016\n",
       "taxvaluedollarcnt               0.0000\n",
       "propertylandusetypeid           0.0000\n",
       "transactiondate                 0.0000\n",
       "dtype: float64"
      ]
     },
     "execution_count": 6,
     "metadata": {},
     "output_type": "execute_result"
    }
   ],
   "source": [
    "round(properties_2017.isnull().mean(), 4)"
   ]
  },
  {
   "cell_type": "code",
   "execution_count": 17,
   "id": "aee99824",
   "metadata": {},
   "outputs": [
    {
     "name": "stdout",
     "output_type": "stream",
     "text": [
      "bedroomcnt\n",
      "3.0     23360\n",
      "4.0     15240\n",
      "2.0      8340\n",
      "5.0      3973\n",
      "6.0       635\n",
      "1.0       612\n",
      "0.0       137\n",
      "7.0       106\n",
      "8.0        24\n",
      "9.0         8\n",
      "12.0        3\n",
      "10.0        2\n",
      "14.0        1\n",
      "11.0        1\n",
      "Name: bedroomcnt, dtype: int64\n",
      "\n",
      "##########################\n",
      "\n",
      "bathroomcnt\n",
      "2.0     21894\n",
      "3.0     10673\n",
      "1.0      9568\n",
      "2.5      3934\n",
      "4.0      2227\n",
      "3.5       918\n",
      "1.5       841\n",
      "5.0       803\n",
      "4.5       687\n",
      "6.0       322\n",
      "5.5       224\n",
      "0.0       121\n",
      "7.0        88\n",
      "8.0        53\n",
      "6.5        47\n",
      "7.5        16\n",
      "9.0        13\n",
      "10.0        5\n",
      "11.0        3\n",
      "8.5         3\n",
      "18.0        1\n",
      "13.0        1\n",
      "Name: bathroomcnt, dtype: int64\n",
      "\n",
      "##########################\n",
      "\n",
      "calculatedfinishedsquarefeet\n",
      "1120.0    128\n",
      "1200.0    119\n",
      "1080.0    102\n",
      "1040.0     86\n",
      "936.0      86\n",
      "         ... \n",
      "7088.0      1\n",
      "604.0       1\n",
      "5422.0      1\n",
      "534.0       1\n",
      "5655.0      1\n",
      "Name: calculatedfinishedsquarefeet, Length: 4723, dtype: int64\n",
      "\n",
      "##########################\n",
      "\n",
      "taxvaluedollarcnt\n",
      "455000.0    34\n",
      "600000.0    30\n",
      "550000.0    24\n",
      "500000.0    24\n",
      "450000.0    24\n",
      "            ..\n",
      "209341.0     1\n",
      "203304.0     1\n",
      "497409.0     1\n",
      "421945.0     1\n",
      "49546.0      1\n",
      "Name: taxvaluedollarcnt, Length: 38942, dtype: int64\n",
      "\n",
      "##########################\n",
      "\n",
      "propertylandusetypeid\n",
      "261.0    52442\n",
      "Name: propertylandusetypeid, dtype: int64\n",
      "\n",
      "##########################\n",
      "\n",
      "transactiondate\n",
      "2017-06-30    810\n",
      "2017-04-28    617\n",
      "2017-05-31    566\n",
      "2017-07-28    546\n",
      "2017-08-31    528\n",
      "             ... \n",
      "2017-05-07      1\n",
      "2017-05-13      1\n",
      "2017-05-20      1\n",
      "2017-06-11      1\n",
      "2018-05-25      1\n",
      "Name: transactiondate, Length: 258, dtype: int64\n",
      "\n",
      "##########################\n",
      "\n"
     ]
    }
   ],
   "source": [
    "for column in properties_2017.columns:\n",
    "    print(column)\n",
    "    print(properties_2017[column].value_counts())\n",
    "    print('\\n##########################\\n')"
   ]
  },
  {
   "cell_type": "markdown",
   "id": "90a08dc2",
   "metadata": {},
   "source": [
    "## Takeaways\n",
    "* Observations\n",
    "    - There are very few null values\n",
    "    - The column names are hard to read\n",
    "    - There are no numbers behind the comma of bedroomcnt, calculatedfinishedsquarefeet, and taxvaluedollarcnt\n",
    "    - The transactiondate is an object type, cannot be scaled\n",
    "* To-dos\n",
    "    - Drop null values\n",
    "    - The propertylandusetypeid column can be dropped. It is an identifier for the type of house I am working on\n",
    "    - Convert bedroomcnt, calculatedfinishedsquarefeet, taxvaluedollarcnt, and transactiondate to int\n",
    "    - Leave bathroomcnt as is\n",
    "    - Rename columns"
   ]
  },
  {
   "cell_type": "code",
   "execution_count": 7,
   "id": "5c8fb191",
   "metadata": {},
   "outputs": [],
   "source": [
    "houses = properties_2017.dropna(axis = 0, how ='any')"
   ]
  },
  {
   "cell_type": "code",
   "execution_count": 8,
   "id": "209ad0f6",
   "metadata": {},
   "outputs": [
    {
     "name": "stdout",
     "output_type": "stream",
     "text": [
      "Properties_2017 length: 52442 \n",
      "Houses length: 52359 \n",
      "Percentage of rows with at least 1 NA value dropped:  0.16\n"
     ]
    }
   ],
   "source": [
    "print(\"Properties_2017 length:\", len(properties_2017), \"\\nHouses length:\", \n",
    "       len(houses), \"\\nPercentage of rows with at least 1 NA value dropped: \",\n",
    "       round(((len(properties_2017)-len(houses))/len(properties_2017))*100, 2))"
   ]
  },
  {
   "cell_type": "code",
   "execution_count": 9,
   "id": "f5e3b832",
   "metadata": {},
   "outputs": [
    {
     "data": {
      "text/html": [
       "<div>\n",
       "<style scoped>\n",
       "    .dataframe tbody tr th:only-of-type {\n",
       "        vertical-align: middle;\n",
       "    }\n",
       "\n",
       "    .dataframe tbody tr th {\n",
       "        vertical-align: top;\n",
       "    }\n",
       "\n",
       "    .dataframe thead th {\n",
       "        text-align: right;\n",
       "    }\n",
       "</style>\n",
       "<table border=\"1\" class=\"dataframe\">\n",
       "  <thead>\n",
       "    <tr style=\"text-align: right;\">\n",
       "      <th></th>\n",
       "      <th>bedroomcnt</th>\n",
       "      <th>bathroomcnt</th>\n",
       "      <th>calculatedfinishedsquarefeet</th>\n",
       "      <th>taxvaluedollarcnt</th>\n",
       "      <th>transactiondate</th>\n",
       "    </tr>\n",
       "  </thead>\n",
       "  <tbody>\n",
       "    <tr>\n",
       "      <th>0</th>\n",
       "      <td>4.0</td>\n",
       "      <td>3.5</td>\n",
       "      <td>3100.0</td>\n",
       "      <td>1023282.0</td>\n",
       "      <td>2017-01-01</td>\n",
       "    </tr>\n",
       "    <tr>\n",
       "      <th>1</th>\n",
       "      <td>2.0</td>\n",
       "      <td>1.0</td>\n",
       "      <td>1465.0</td>\n",
       "      <td>464000.0</td>\n",
       "      <td>2017-01-01</td>\n",
       "    </tr>\n",
       "    <tr>\n",
       "      <th>2</th>\n",
       "      <td>3.0</td>\n",
       "      <td>2.0</td>\n",
       "      <td>1243.0</td>\n",
       "      <td>564778.0</td>\n",
       "      <td>2017-01-01</td>\n",
       "    </tr>\n",
       "    <tr>\n",
       "      <th>3</th>\n",
       "      <td>4.0</td>\n",
       "      <td>3.0</td>\n",
       "      <td>2376.0</td>\n",
       "      <td>145143.0</td>\n",
       "      <td>2017-01-01</td>\n",
       "    </tr>\n",
       "    <tr>\n",
       "      <th>4</th>\n",
       "      <td>4.0</td>\n",
       "      <td>3.0</td>\n",
       "      <td>2962.0</td>\n",
       "      <td>773303.0</td>\n",
       "      <td>2017-01-01</td>\n",
       "    </tr>\n",
       "  </tbody>\n",
       "</table>\n",
       "</div>"
      ],
      "text/plain": [
       "   bedroomcnt  bathroomcnt  calculatedfinishedsquarefeet  taxvaluedollarcnt  \\\n",
       "0         4.0          3.5                        3100.0          1023282.0   \n",
       "1         2.0          1.0                        1465.0           464000.0   \n",
       "2         3.0          2.0                        1243.0           564778.0   \n",
       "3         4.0          3.0                        2376.0           145143.0   \n",
       "4         4.0          3.0                        2962.0           773303.0   \n",
       "\n",
       "  transactiondate  \n",
       "0      2017-01-01  \n",
       "1      2017-01-01  \n",
       "2      2017-01-01  \n",
       "3      2017-01-01  \n",
       "4      2017-01-01  "
      ]
     },
     "execution_count": 9,
     "metadata": {},
     "output_type": "execute_result"
    }
   ],
   "source": [
    "houses = houses.drop(['propertylandusetypeid'], axis = 1)\n",
    "houses.head()"
   ]
  },
  {
   "cell_type": "code",
   "execution_count": 11,
   "id": "4419dfd7",
   "metadata": {},
   "outputs": [
    {
     "data": {
      "text/html": [
       "<div>\n",
       "<style scoped>\n",
       "    .dataframe tbody tr th:only-of-type {\n",
       "        vertical-align: middle;\n",
       "    }\n",
       "\n",
       "    .dataframe tbody tr th {\n",
       "        vertical-align: top;\n",
       "    }\n",
       "\n",
       "    .dataframe thead th {\n",
       "        text-align: right;\n",
       "    }\n",
       "</style>\n",
       "<table border=\"1\" class=\"dataframe\">\n",
       "  <thead>\n",
       "    <tr style=\"text-align: right;\">\n",
       "      <th></th>\n",
       "      <th>bedrooms</th>\n",
       "      <th>bathrooms</th>\n",
       "      <th>indoor_sqft</th>\n",
       "      <th>tax_value</th>\n",
       "      <th>sale_date</th>\n",
       "    </tr>\n",
       "  </thead>\n",
       "  <tbody>\n",
       "    <tr>\n",
       "      <th>0</th>\n",
       "      <td>4.0</td>\n",
       "      <td>3.5</td>\n",
       "      <td>3100.0</td>\n",
       "      <td>1023282.0</td>\n",
       "      <td>2017-01-01</td>\n",
       "    </tr>\n",
       "    <tr>\n",
       "      <th>1</th>\n",
       "      <td>2.0</td>\n",
       "      <td>1.0</td>\n",
       "      <td>1465.0</td>\n",
       "      <td>464000.0</td>\n",
       "      <td>2017-01-01</td>\n",
       "    </tr>\n",
       "    <tr>\n",
       "      <th>2</th>\n",
       "      <td>3.0</td>\n",
       "      <td>2.0</td>\n",
       "      <td>1243.0</td>\n",
       "      <td>564778.0</td>\n",
       "      <td>2017-01-01</td>\n",
       "    </tr>\n",
       "    <tr>\n",
       "      <th>3</th>\n",
       "      <td>4.0</td>\n",
       "      <td>3.0</td>\n",
       "      <td>2376.0</td>\n",
       "      <td>145143.0</td>\n",
       "      <td>2017-01-01</td>\n",
       "    </tr>\n",
       "    <tr>\n",
       "      <th>4</th>\n",
       "      <td>4.0</td>\n",
       "      <td>3.0</td>\n",
       "      <td>2962.0</td>\n",
       "      <td>773303.0</td>\n",
       "      <td>2017-01-01</td>\n",
       "    </tr>\n",
       "  </tbody>\n",
       "</table>\n",
       "</div>"
      ],
      "text/plain": [
       "   bedrooms  bathrooms  indoor_sqft  tax_value   sale_date\n",
       "0       4.0        3.5       3100.0  1023282.0  2017-01-01\n",
       "1       2.0        1.0       1465.0   464000.0  2017-01-01\n",
       "2       3.0        2.0       1243.0   564778.0  2017-01-01\n",
       "3       4.0        3.0       2376.0   145143.0  2017-01-01\n",
       "4       4.0        3.0       2962.0   773303.0  2017-01-01"
      ]
     },
     "execution_count": 11,
     "metadata": {},
     "output_type": "execute_result"
    }
   ],
   "source": [
    "# Renaming columns\n",
    "\n",
    "cols_to_rename = {\n",
    "    'calculatedfinishedsquarefeet': 'indoor_sqft',\n",
    "    'taxvaluedollarcnt': 'tax_value',\n",
    "    'transactiondate': 'sale_date',\n",
    "    'bedroomcnt': 'bedrooms',\n",
    "    'bathroomcnt': 'bathrooms',\n",
    "}\n",
    "\n",
    "houses = houses.rename(columns=cols_to_rename)\n",
    "houses.head()"
   ]
  },
  {
   "cell_type": "code",
   "execution_count": 12,
   "id": "14898c9c",
   "metadata": {
    "scrolled": true
   },
   "outputs": [
    {
     "data": {
      "text/html": [
       "<div>\n",
       "<style scoped>\n",
       "    .dataframe tbody tr th:only-of-type {\n",
       "        vertical-align: middle;\n",
       "    }\n",
       "\n",
       "    .dataframe tbody tr th {\n",
       "        vertical-align: top;\n",
       "    }\n",
       "\n",
       "    .dataframe thead th {\n",
       "        text-align: right;\n",
       "    }\n",
       "</style>\n",
       "<table border=\"1\" class=\"dataframe\">\n",
       "  <thead>\n",
       "    <tr style=\"text-align: right;\">\n",
       "      <th></th>\n",
       "      <th>bedrooms</th>\n",
       "      <th>bathrooms</th>\n",
       "      <th>indoor_sqft</th>\n",
       "      <th>tax_value</th>\n",
       "      <th>sale_date</th>\n",
       "    </tr>\n",
       "  </thead>\n",
       "  <tbody>\n",
       "    <tr>\n",
       "      <th>0</th>\n",
       "      <td>4</td>\n",
       "      <td>3.5</td>\n",
       "      <td>3100</td>\n",
       "      <td>1023282</td>\n",
       "      <td>1483228800000000000</td>\n",
       "    </tr>\n",
       "    <tr>\n",
       "      <th>1</th>\n",
       "      <td>2</td>\n",
       "      <td>1.0</td>\n",
       "      <td>1465</td>\n",
       "      <td>464000</td>\n",
       "      <td>1483228800000000000</td>\n",
       "    </tr>\n",
       "    <tr>\n",
       "      <th>2</th>\n",
       "      <td>3</td>\n",
       "      <td>2.0</td>\n",
       "      <td>1243</td>\n",
       "      <td>564778</td>\n",
       "      <td>1483228800000000000</td>\n",
       "    </tr>\n",
       "    <tr>\n",
       "      <th>3</th>\n",
       "      <td>4</td>\n",
       "      <td>3.0</td>\n",
       "      <td>2376</td>\n",
       "      <td>145143</td>\n",
       "      <td>1483228800000000000</td>\n",
       "    </tr>\n",
       "    <tr>\n",
       "      <th>4</th>\n",
       "      <td>4</td>\n",
       "      <td>3.0</td>\n",
       "      <td>2962</td>\n",
       "      <td>773303</td>\n",
       "      <td>1483228800000000000</td>\n",
       "    </tr>\n",
       "  </tbody>\n",
       "</table>\n",
       "</div>"
      ],
      "text/plain": [
       "   bedrooms  bathrooms  indoor_sqft  tax_value            sale_date\n",
       "0         4        3.5         3100    1023282  1483228800000000000\n",
       "1         2        1.0         1465     464000  1483228800000000000\n",
       "2         3        2.0         1243     564778  1483228800000000000\n",
       "3         4        3.0         2376     145143  1483228800000000000\n",
       "4         4        3.0         2962     773303  1483228800000000000"
      ]
     },
     "execution_count": 12,
     "metadata": {},
     "output_type": "execute_result"
    }
   ],
   "source": [
    "# Transforming data types to int particularly sale_date so I can scale it\n",
    "\n",
    "houses['bedrooms'] = houses['bedrooms'].astype(int)\n",
    "houses['indoor_sqft'] = houses['indoor_sqft'].astype(int)\n",
    "houses['tax_value'] = houses['tax_value'].astype(int)\n",
    "houses['sale_date'] = pd.to_datetime(houses['sale_date']).astype('int64')\n",
    "\n",
    "houses.head()"
   ]
  },
  {
   "cell_type": "code",
   "execution_count": 13,
   "id": "4fa9a5e4",
   "metadata": {},
   "outputs": [
    {
     "data": {
      "text/plain": [
       "bedrooms         int64\n",
       "bathrooms      float64\n",
       "indoor_sqft      int64\n",
       "tax_value        int64\n",
       "sale_date        int64\n",
       "dtype: object"
      ]
     },
     "execution_count": 13,
     "metadata": {},
     "output_type": "execute_result"
    }
   ],
   "source": [
    "# Checking the data types\n",
    "\n",
    "houses.dtypes"
   ]
  },
  {
   "cell_type": "code",
   "execution_count": 16,
   "id": "1d02bc18",
   "metadata": {
    "scrolled": true
   },
   "outputs": [
    {
     "data": {
      "text/html": [
       "<div>\n",
       "<style scoped>\n",
       "    .dataframe tbody tr th:only-of-type {\n",
       "        vertical-align: middle;\n",
       "    }\n",
       "\n",
       "    .dataframe tbody tr th {\n",
       "        vertical-align: top;\n",
       "    }\n",
       "\n",
       "    .dataframe thead th {\n",
       "        text-align: right;\n",
       "    }\n",
       "</style>\n",
       "<table border=\"1\" class=\"dataframe\">\n",
       "  <thead>\n",
       "    <tr style=\"text-align: right;\">\n",
       "      <th></th>\n",
       "      <th>count</th>\n",
       "      <th>mean</th>\n",
       "      <th>std</th>\n",
       "      <th>min</th>\n",
       "      <th>25%</th>\n",
       "      <th>50%</th>\n",
       "      <th>75%</th>\n",
       "      <th>max</th>\n",
       "    </tr>\n",
       "  </thead>\n",
       "  <tbody>\n",
       "    <tr>\n",
       "      <th>bedrooms</th>\n",
       "      <td>52359</td>\n",
       "      <td>3</td>\n",
       "      <td>0</td>\n",
       "      <td>0</td>\n",
       "      <td>3</td>\n",
       "      <td>3</td>\n",
       "      <td>4</td>\n",
       "      <td>14</td>\n",
       "    </tr>\n",
       "    <tr>\n",
       "      <th>bathrooms</th>\n",
       "      <td>52359</td>\n",
       "      <td>2</td>\n",
       "      <td>1</td>\n",
       "      <td>0</td>\n",
       "      <td>2</td>\n",
       "      <td>2</td>\n",
       "      <td>3</td>\n",
       "      <td>18</td>\n",
       "    </tr>\n",
       "    <tr>\n",
       "      <th>indoor_sqft</th>\n",
       "      <td>52359</td>\n",
       "      <td>1922</td>\n",
       "      <td>1004</td>\n",
       "      <td>128</td>\n",
       "      <td>1268</td>\n",
       "      <td>1659</td>\n",
       "      <td>2306</td>\n",
       "      <td>21929</td>\n",
       "    </tr>\n",
       "    <tr>\n",
       "      <th>tax_value</th>\n",
       "      <td>52359</td>\n",
       "      <td>528020</td>\n",
       "      <td>748323</td>\n",
       "      <td>1000</td>\n",
       "      <td>193644</td>\n",
       "      <td>373374</td>\n",
       "      <td>618531</td>\n",
       "      <td>49061236</td>\n",
       "    </tr>\n",
       "    <tr>\n",
       "      <th>sale_date</th>\n",
       "      <td>52359</td>\n",
       "      <td>1495171565782307072</td>\n",
       "      <td>6175659714323023</td>\n",
       "      <td>1483228800000000000</td>\n",
       "      <td>1490227200000000000</td>\n",
       "      <td>1495497600000000000</td>\n",
       "      <td>1500336000000000000</td>\n",
       "      <td>1527206400000000000</td>\n",
       "    </tr>\n",
       "  </tbody>\n",
       "</table>\n",
       "</div>"
      ],
      "text/plain": [
       "             count                 mean               std  \\\n",
       "bedrooms     52359                    3                 0   \n",
       "bathrooms    52359                    2                 1   \n",
       "indoor_sqft  52359                 1922              1004   \n",
       "tax_value    52359               528020            748323   \n",
       "sale_date    52359  1495171565782307072  6175659714323023   \n",
       "\n",
       "                             min                  25%                  50%  \\\n",
       "bedrooms                       0                    3                    3   \n",
       "bathrooms                      0                    2                    2   \n",
       "indoor_sqft                  128                 1268                 1659   \n",
       "tax_value                   1000               193644               373374   \n",
       "sale_date    1483228800000000000  1490227200000000000  1495497600000000000   \n",
       "\n",
       "                             75%                  max  \n",
       "bedrooms                       4                   14  \n",
       "bathrooms                      3                   18  \n",
       "indoor_sqft                 2306                21929  \n",
       "tax_value                 618531             49061236  \n",
       "sale_date    1500336000000000000  1527206400000000000  "
      ]
     },
     "execution_count": 16,
     "metadata": {},
     "output_type": "execute_result"
    }
   ],
   "source": [
    "# Checking the values to see if their proportions relate to each other in a meaningful way\n",
    "\n",
    "houses.describe().T.astype('int64')"
   ]
  },
  {
   "cell_type": "markdown",
   "id": "817fe209",
   "metadata": {},
   "source": [
    "## Takeaways\n",
    "* Observations\n",
    "    - The max values are high compared to min values in all columns\n",
    "* To-dos\n",
    "    - Use graphs to determine outliers\n",
    "    -"
   ]
  },
  {
   "cell_type": "code",
   "execution_count": 18,
   "id": "74a17855",
   "metadata": {},
   "outputs": [
    {
     "name": "stdout",
     "output_type": "stream",
     "text": [
      "bedrooms\n"
     ]
    },
    {
     "data": {
      "image/png": "[encoded data removed]",
      "text/plain": [
       "<Figure size 432x288 with 1 Axes>"
      ]
     },
     "metadata": {
      "needs_background": "light"
     },
     "output_type": "display_data"
    },
    {
     "name": "stdout",
     "output_type": "stream",
     "text": [
      "bathrooms\n"
     ]
    },
    {
     "data": {
      "image/png": "[encoded data removed]",
      "text/plain": [
       "<Figure size 432x288 with 1 Axes>"
      ]
     },
     "metadata": {
      "needs_background": "light"
     },
     "output_type": "display_data"
    },
    {
     "name": "stdout",
     "output_type": "stream",
     "text": [
      "indoor_sqft\n"
     ]
    },
    {
     "data": {
      "image/png": "[encoded data removed]",
      "text/plain": [
       "<Figure size 432x288 with 1 Axes>"
      ]
     },
     "metadata": {
      "needs_background": "light"
     },
     "output_type": "display_data"
    },
    {
     "name": "stdout",
     "output_type": "stream",
     "text": [
      "tax_value\n"
     ]
    },
    {
     "data": {
      "image/png": "[encoded data removed]",
      "text/plain": [
       "<Figure size 432x288 with 1 Axes>"
      ]
     },
     "metadata": {
      "needs_background": "light"
     },
     "output_type": "display_data"
    },
    {
     "name": "stdout",
     "output_type": "stream",
     "text": [
      "sale_date\n"
     ]
    },
    {
     "data": {
      "image/png": "[encoded data removed]",
      "text/plain": [
       "<Figure size 432x288 with 1 Axes>"
      ]
     },
     "metadata": {
      "needs_background": "light"
     },
     "output_type": "display_data"
    }
   ],
   "source": [
    "# Using a for loop to plot columns to observe outliers\n",
    "\n",
    "for column in houses.columns:\n",
    "    print(column)\n",
    "    plt.title(column)\n",
    "    houses[column].hist()\n",
    "    plt.grid(True)\n",
    "    plt.show()"
   ]
  },
  {
   "cell_type": "code",
   "execution_count": 23,
   "id": "d73b4399",
   "metadata": {},
   "outputs": [
    {
     "data": {
      "image/png": "[encoded data removed]",
      "text/plain": [
       "<Figure size 1224x720 with 1 Axes>"
      ]
     },
     "metadata": {
      "needs_background": "light"
     },
     "output_type": "display_data"
    }
   ],
   "source": [
    "# Plotting a boxplot of all columns to have a better view\n",
    "\n",
    "plt.figure(figsize=(17,10))\n",
    "sns.boxplot(data=houses)\n",
    "plt.show()\n",
    "\n",
    "# Values are very different between sale_date and the others\n",
    "# I will plot them separately to havea better view"
   ]
  },
  {
   "cell_type": "code",
   "execution_count": 24,
   "id": "d75d14f9",
   "metadata": {},
   "outputs": [
    {
     "data": {
      "image/png": "[encoded data removed]",
      "text/plain": [
       "<Figure size 720x504 with 1 Axes>"
      ]
     },
     "metadata": {
      "needs_background": "light"
     },
     "output_type": "display_data"
    }
   ],
   "source": [
    "plt.figure(figsize=(10,7))\n",
    "sns.boxplot(data=houses.bedrooms)\n",
    "plt.show()\n",
    "\n",
    "# Lots of outliers"
   ]
  },
  {
   "cell_type": "code",
   "execution_count": 25,
   "id": "2f2a6875",
   "metadata": {},
   "outputs": [
    {
     "data": {
      "image/png": "[encoded data removed]",
      "text/plain": [
       "<Figure size 720x504 with 1 Axes>"
      ]
     },
     "metadata": {
      "needs_background": "light"
     },
     "output_type": "display_data"
    }
   ],
   "source": [
    "plt.figure(figsize=(10,7))\n",
    "sns.boxplot(data=houses.bathrooms)\n",
    "plt.show()\n",
    "\n",
    "# Lots of outliers"
   ]
  },
  {
   "cell_type": "code",
   "execution_count": 30,
   "id": "c6b7332f",
   "metadata": {},
   "outputs": [
    {
     "data": {
      "image/png": "[encoded data removed]",
      "text/plain": [
       "<Figure size 720x504 with 1 Axes>"
      ]
     },
     "metadata": {
      "needs_background": "light"
     },
     "output_type": "display_data"
    }
   ],
   "source": [
    "plt.figure(figsize=(10,7))\n",
    "sns.boxplot(data=houses.indoor_sqft)\n",
    "plt.show()\n",
    "\n",
    "# Lots of outliers"
   ]
  },
  {
   "cell_type": "code",
   "execution_count": 29,
   "id": "0d0d32cb",
   "metadata": {},
   "outputs": [
    {
     "data": {
      "image/png": "[encoded data removed]",
      "text/plain": [
       "<Figure size 720x504 with 1 Axes>"
      ]
     },
     "metadata": {
      "needs_background": "light"
     },
     "output_type": "display_data"
    }
   ],
   "source": [
    "plt.figure(figsize=(10,7))\n",
    "sns.boxplot(data=houses.tax_value)\n",
    "plt.show()\n",
    "\n",
    "# Lots of outliers"
   ]
  },
  {
   "cell_type": "code",
   "execution_count": 28,
   "id": "1f9e8100",
   "metadata": {
    "scrolled": false
   },
   "outputs": [
    {
     "data": {
      "image/png": "[encoded data removed]",
      "text/plain": [
       "<Figure size 720x504 with 1 Axes>"
      ]
     },
     "metadata": {
      "needs_background": "light"
     },
     "output_type": "display_data"
    }
   ],
   "source": [
    "plt.figure(figsize=(10,7))\n",
    "sns.boxplot(data=houses.sale_date)\n",
    "plt.show()\n",
    "\n",
    "# Very few outliers"
   ]
  },
  {
   "cell_type": "markdown",
   "id": "f995bc49",
   "metadata": {},
   "source": [
    "## Takeaways\n",
    "\n",
    "- Except for the sale_date column, all the others have a lot of outliers\n",
    "- Since my goal is to predict the tax value of most houses, I will remove what does not constitute 'most houses in the US'\n",
    "- According to realtor.com, a mansion is in the real estate industry is a house that has 8,000 square feet and above.\n",
    "- I will cut off outliers that are 8,000 square feet and above.\n",
    "- 0 bedroom and 0 bathroom do exist in the industry and does not mean that the house does not have any or is not habitable\n",
    "- .5, .25, .75 bathrooms exist as well and describe the existence of certain amenities in the bathroom like a tub or a sink..."
   ]
  },
  {
   "cell_type": "code",
   "execution_count": 31,
   "id": "3dc86d96",
   "metadata": {},
   "outputs": [
    {
     "data": {
      "text/plain": [
       "0.99791821845337"
      ]
     },
     "execution_count": 31,
     "metadata": {},
     "output_type": "execute_result"
    }
   ],
   "source": [
    "# The proportion of houses that have 7_999 indoor_squarefeet and less\n",
    "\n",
    "houses[houses.indoor_sqft <= 7_999].shape[0] / houses.shape[0]"
   ]
  },
  {
   "cell_type": "code",
   "execution_count": 43,
   "id": "55fd4020",
   "metadata": {},
   "outputs": [
    {
     "data": {
      "text/plain": [
       "3.2996363636363637"
      ]
     },
     "execution_count": 43,
     "metadata": {},
     "output_type": "execute_result"
    }
   ],
   "source": [
    "# Mean of number of bedroooms of houses corresponding to less than 8_000 sqft\n",
    "\n",
    "houses[houses.indoor_sqft <= 7_999].bedrooms.mean()"
   ]
  },
  {
   "cell_type": "code",
   "execution_count": 44,
   "id": "6e1cec12",
   "metadata": {},
   "outputs": [
    {
     "data": {
      "text/plain": [
       "2.292124401913876"
      ]
     },
     "execution_count": 44,
     "metadata": {},
     "output_type": "execute_result"
    }
   ],
   "source": [
    "# Mean of number of bathrooms of houses corresponding to less than 8_000 sqft\n",
    "\n",
    "houses[houses.indoor_sqft <= 7_999].bathrooms.mean()"
   ]
  },
  {
   "cell_type": "markdown",
   "id": "9d2a3b84",
   "metadata": {},
   "source": [
    "## Takeaways\n",
    "- The proportion obtained are still significant and won't denature the data\n",
    "- I will filter the data through the <= 7_999 square feet criterion"
   ]
  },
  {
   "cell_type": "code",
   "execution_count": 48,
   "id": "63787bc8",
   "metadata": {},
   "outputs": [
    {
     "data": {
      "text/html": [
       "<div>\n",
       "<style scoped>\n",
       "    .dataframe tbody tr th:only-of-type {\n",
       "        vertical-align: middle;\n",
       "    }\n",
       "\n",
       "    .dataframe tbody tr th {\n",
       "        vertical-align: top;\n",
       "    }\n",
       "\n",
       "    .dataframe thead th {\n",
       "        text-align: right;\n",
       "    }\n",
       "</style>\n",
       "<table border=\"1\" class=\"dataframe\">\n",
       "  <thead>\n",
       "    <tr style=\"text-align: right;\">\n",
       "      <th></th>\n",
       "      <th>bedrooms</th>\n",
       "      <th>bathrooms</th>\n",
       "      <th>indoor_sqft</th>\n",
       "      <th>tax_value</th>\n",
       "      <th>sale_date</th>\n",
       "    </tr>\n",
       "  </thead>\n",
       "  <tbody>\n",
       "    <tr>\n",
       "      <th>0</th>\n",
       "      <td>4</td>\n",
       "      <td>3.5</td>\n",
       "      <td>3100</td>\n",
       "      <td>1023282</td>\n",
       "      <td>1483228800000000000</td>\n",
       "    </tr>\n",
       "    <tr>\n",
       "      <th>1</th>\n",
       "      <td>2</td>\n",
       "      <td>1.0</td>\n",
       "      <td>1465</td>\n",
       "      <td>464000</td>\n",
       "      <td>1483228800000000000</td>\n",
       "    </tr>\n",
       "    <tr>\n",
       "      <th>2</th>\n",
       "      <td>3</td>\n",
       "      <td>2.0</td>\n",
       "      <td>1243</td>\n",
       "      <td>564778</td>\n",
       "      <td>1483228800000000000</td>\n",
       "    </tr>\n",
       "    <tr>\n",
       "      <th>3</th>\n",
       "      <td>4</td>\n",
       "      <td>3.0</td>\n",
       "      <td>2376</td>\n",
       "      <td>145143</td>\n",
       "      <td>1483228800000000000</td>\n",
       "    </tr>\n",
       "    <tr>\n",
       "      <th>4</th>\n",
       "      <td>4</td>\n",
       "      <td>3.0</td>\n",
       "      <td>2962</td>\n",
       "      <td>773303</td>\n",
       "      <td>1483228800000000000</td>\n",
       "    </tr>\n",
       "  </tbody>\n",
       "</table>\n",
       "</div>"
      ],
      "text/plain": [
       "   bedrooms  bathrooms  indoor_sqft  tax_value            sale_date\n",
       "0         4        3.5         3100    1023282  1483228800000000000\n",
       "1         2        1.0         1465     464000  1483228800000000000\n",
       "2         3        2.0         1243     564778  1483228800000000000\n",
       "3         4        3.0         2376     145143  1483228800000000000\n",
       "4         4        3.0         2962     773303  1483228800000000000"
      ]
     },
     "execution_count": 48,
     "metadata": {},
     "output_type": "execute_result"
    }
   ],
   "source": [
    "# Filtering the data through number of bedrooms\n",
    "\n",
    "houses = houses[houses.indoor_sqft <= 7_999]\n",
    "houses.head()"
   ]
  },
  {
   "cell_type": "code",
   "execution_count": 47,
   "id": "24308e75",
   "metadata": {},
   "outputs": [
    {
     "name": "stdout",
     "output_type": "stream",
     "text": [
      "<class 'pandas.core.frame.DataFrame'>\n",
      "Int64Index: 52264 entries, 0 to 52441\n",
      "Data columns (total 5 columns):\n",
      " #   Column       Non-Null Count  Dtype  \n",
      "---  ------       --------------  -----  \n",
      " 0   bedrooms     52264 non-null  int64  \n",
      " 1   bathrooms    52264 non-null  float64\n",
      " 2   indoor_sqft  52264 non-null  int64  \n",
      " 3   tax_value    52264 non-null  int64  \n",
      " 4   sale_date    52264 non-null  int64  \n",
      "dtypes: float64(1), int64(4)\n",
      "memory usage: 2.4 MB\n"
     ]
    }
   ],
   "source": [
    "houses.info()"
   ]
  },
  {
   "cell_type": "code",
   "execution_count": 50,
   "id": "ec6e1329",
   "metadata": {},
   "outputs": [
    {
     "data": {
      "text/plain": [
       "bedrooms       0.0\n",
       "bathrooms      0.0\n",
       "indoor_sqft    0.0\n",
       "tax_value      0.0\n",
       "sale_date      0.0\n",
       "dtype: float64"
      ]
     },
     "execution_count": 50,
     "metadata": {},
     "output_type": "execute_result"
    }
   ],
   "source": [
    "houses.isnull().mean()"
   ]
  },
  {
   "cell_type": "markdown",
   "id": "4693df44",
   "metadata": {},
   "source": [
    "# Scaling"
   ]
  },
  {
   "cell_type": "code",
   "execution_count": 54,
   "id": "08f28f14",
   "metadata": {},
   "outputs": [
    {
     "data": {
      "image/png": "[encoded data removed]",
      "text/plain": [
       "<Figure size 720x504 with 1 Axes>"
      ]
     },
     "metadata": {
      "needs_background": "light"
     },
     "output_type": "display_data"
    }
   ],
   "source": [
    "plt.figure(figsize=(10,7))\n",
    "sns.boxplot(data=houses.bedrooms)\n",
    "plt.show()\n"
   ]
  },
  {
   "cell_type": "code",
   "execution_count": 63,
   "id": "7349ad42",
   "metadata": {},
   "outputs": [
    {
     "data": {
      "image/png": "[encoded data removed]",
      "text/plain": [
       "<Figure size 720x504 with 1 Axes>"
      ]
     },
     "metadata": {
      "needs_background": "light"
     },
     "output_type": "display_data"
    }
   ],
   "source": [
    "plt.figure(figsize=(10,7))\n",
    "sns.boxplot(data=houses.bathrooms)\n",
    "plt.show()\n"
   ]
  },
  {
   "cell_type": "code",
   "execution_count": 56,
   "id": "a5637264",
   "metadata": {},
   "outputs": [
    {
     "data": {
      "image/png": "[encoded data removed]",
      "text/plain": [
       "<Figure size 720x504 with 1 Axes>"
      ]
     },
     "metadata": {
      "needs_background": "light"
     },
     "output_type": "display_data"
    }
   ],
   "source": [
    "plt.figure(figsize=(10,7))\n",
    "sns.boxplot(data=houses.indoor_sqft)\n",
    "plt.show()\n"
   ]
  },
  {
   "cell_type": "code",
   "execution_count": 57,
   "id": "cc4d35dc",
   "metadata": {
    "scrolled": false
   },
   "outputs": [
    {
     "data": {
      "image/png": "[encoded data removed]",
      "text/plain": [
       "<Figure size 720x504 with 1 Axes>"
      ]
     },
     "metadata": {
      "needs_background": "light"
     },
     "output_type": "display_data"
    }
   ],
   "source": [
    "plt.figure(figsize=(10,7))\n",
    "sns.boxplot(data=houses.sale_date)\n",
    "plt.show()\n"
   ]
  },
  {
   "cell_type": "markdown",
   "id": "355deca9",
   "metadata": {},
   "source": [
    "## Takeaways\n",
    "- The median of the indoor_sqft column is toward the bottom 50% of the data\n",
    "- The median of bedrooms and bathrooms columns are not visible\n",
    "- The describe().T function shows that the median in probably toward the bottom 25% of the data\n",
    "- The data still contains a fair number of outliers\n",
    "- It is probable that a type of Robust Scaler (Robust or Quantile) or a Standard scaler would work best"
   ]
  },
  {
   "cell_type": "code",
   "execution_count": 53,
   "id": "dd015a4f",
   "metadata": {},
   "outputs": [],
   "source": [
    "# Not scaled train DF\n",
    "\n",
    "# Splits df into train_validate and test using train_test_split()\n",
    "train_validate, test = train_test_split(houses, test_size=.2, random_state=175)\n",
    "\n",
    "# splits train_validate into train and validate using train_test_split()\n",
    "train, validate = train_test_split(train_validate, test_size=.3, random_state=175)"
   ]
  },
  {
   "cell_type": "code",
   "execution_count": 59,
   "id": "01337c9e",
   "metadata": {},
   "outputs": [
    {
     "data": {
      "text/plain": [
       "(29236, 5)"
      ]
     },
     "execution_count": 59,
     "metadata": {},
     "output_type": "execute_result"
    }
   ],
   "source": [
    "train.shape"
   ]
  },
  {
   "cell_type": "code",
   "execution_count": 61,
   "id": "eff4d06c",
   "metadata": {},
   "outputs": [
    {
     "data": {
      "text/plain": [
       "(12531, 5)"
      ]
     },
     "execution_count": 61,
     "metadata": {},
     "output_type": "execute_result"
    }
   ],
   "source": [
    "validate.shape"
   ]
  },
  {
   "cell_type": "code",
   "execution_count": 60,
   "id": "47bae906",
   "metadata": {},
   "outputs": [
    {
     "data": {
      "text/plain": [
       "(10442, 5)"
      ]
     },
     "execution_count": 60,
     "metadata": {},
     "output_type": "execute_result"
    }
   ],
   "source": [
    "test.shape"
   ]
  },
  {
   "cell_type": "code",
   "execution_count": null,
   "id": "3009a520",
   "metadata": {},
   "outputs": [],
   "source": [
    "standard_scaler = sklearn.preprocessing.StandardScaler()\n",
    "\n",
    "standard_scaler.fit(train)\n",
    "\n",
    "train_scaled_standard = standard_scaler.transform(train)\n",
    "validate_scaled_standard = standard_scaler.transform(validate)\n",
    "test_scaled_standard = standard_scaler.transform(test)"
   ]
  },
  {
   "cell_type": "code",
   "execution_count": null,
   "id": "c76f2841",
   "metadata": {},
   "outputs": [],
   "source": [
    "robust_scaler = sklearn.preprocessing.RobustScaler()\n",
    "\n",
    "robust_scaler.fit(train)\n",
    "\n",
    "train_scaled_robust = robust_scaler.transform(train)\n",
    "validate_scaled_robust = robust_scaler.transform(validate)\n",
    "test_scaled_robust = robust_scaler.transform(test)"
   ]
  },
  {
   "cell_type": "code",
   "execution_count": null,
   "id": "10957b64",
   "metadata": {},
   "outputs": [],
   "source": [
    "quantile_scaler = sklearn.preprocessing.QuantileTransformer(output_distribution='normal')\n",
    "\n",
    "quantile_scaler.fit(train)\n",
    "\n",
    "quantile_scaled_train = quantile_scaler.transform(train)\n",
    "quantile_scaled_train = quantile_scaler.transform(validate)\n",
    "quantile_scaled_train = quantile_scaler.transform(test)"
   ]
  },
  {
   "cell_type": "markdown",
   "id": "e7a14c9d",
   "metadata": {},
   "source": [
    "# Exploration on unscaled data"
   ]
  },
  {
   "cell_type": "markdown",
   "id": "3fbdeb80",
   "metadata": {},
   "source": [
    "My Null Hypothesis is that there is no correlation between the grades for exam1 and final grade.\n",
    "\n",
    "\n",
    "My Alternative Hypothesis is that exam1is correlated with final grade."
   ]
  }
 ],
 "metadata": {
  "kernelspec": {
   "display_name": "Python 3 (ipykernel)",
   "language": "python",
   "name": "python3"
  },
  "language_info": {
   "codemirror_mode": {
    "name": "ipython",
    "version": 3
   },
   "file_extension": ".py",
   "mimetype": "text/x-python",
   "name": "python",
   "nbconvert_exporter": "python",
   "pygments_lexer": "ipython3",
   "version": "3.9.7"
  }
 },
 "nbformat": 4,
 "nbformat_minor": 5
}
