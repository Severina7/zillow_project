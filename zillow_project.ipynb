{
 "cells": [
  {
   "attachments": {
    "zillow.png": {
     "image/png": "[encoded data removed]"
    }
   },
   "cell_type": "markdown",
   "id": "a1130b85",
   "metadata": {},
   "source": [
    "![zillow.png](attachment:zillow.png)"
   ]
  },
  {
   "cell_type": "markdown",
   "id": "04b8bfe0",
   "metadata": {},
   "source": [
    "# <center>The Zillow Project<center>"
   ]
  },
  {
   "cell_type": "markdown",
   "id": "9b2ed81e",
   "metadata": {},
   "source": [
    "****"
   ]
  },
  {
   "cell_type": "markdown",
   "id": "1394320e",
   "metadata": {},
   "source": [
    "## Context\n",
    "The sector of Real Estate is fluctuating and prices are becoming difficult to predict due to the economic changes we have experienced recently. Zillow, however, to remain competitive must be able to predict property assessment prices in order to make its business model viable.\n",
    "For that, the data science team need to provide some answers and I have been tasks to provide some of those answers."
   ]
  },
  {
   "cell_type": "markdown",
   "id": "1f2e2c18",
   "metadata": {},
   "source": [
    "## Business Goals\n",
    "  #### - Construct a Regression model that predict propery assessed values ('taxvaluedollarcnt') of Single Family Properties using attributes of the properties.\n",
    "  #### - Find the key drivers of property assessed value for single family properties.\n",
    "  #### - Deliver a report that the data science team can read through and replicate, understand what steps were taken, why and what the outcome was.\n",
    "  #### -  Make recommendations on what works or doesn't work in prediction these homes' values."
   ]
  },
  {
   "cell_type": "markdown",
   "id": "50a47296",
   "metadata": {},
   "source": [
    "****"
   ]
  },
  {
   "cell_type": "markdown",
   "id": "8b5b81c4",
   "metadata": {},
   "source": [
    "## Executive Summary & Conclusions\n",
    "#### - Need: Be able to predict assessed price based on property features which will help the company's business model\n",
    "#### - Regression models were used (OLS, LassoLars, & Tweedie Regressor)\n",
    "#### - Findings:\n",
    "\n",
    "* The best model in my case is the LassoLars Model.\n",
    "    \n",
    "<font color = 'brown'>**Its RMSE is $$491,929.37 compared to the baseline at $602,948.58 which rrepresents an improvment by lowering error by 18.41%**</font>\n",
    "\n",
    "* Some features drive assessed values more than other:\n",
    "    - indoor_sqft\n",
    "    - then bathrooms and bedrooms\n",
    "    - This may suggest that clients are interested in size of course but most importantly amenities in the bathrooms but I am not categorical on that\n",
    "\n",
    "\n",
    "* The relationship between the independent variables and the dependent one is not very strong hinting to the fact that there are probably more elements to that relationship"
   ]
  },
  {
   "cell_type": "markdown",
   "id": "6a8f2575",
   "metadata": {},
   "source": [
    "****"
   ]
  },
  {
   "cell_type": "code",
   "execution_count": 188,
   "id": "80798e28",
   "metadata": {},
   "outputs": [],
   "source": [
    "# Imports necessary for the notebook\n",
    "\n",
    "import pandas as pd\n",
    "import numpy as np\n",
    "import matplotlib.pyplot as plt\n",
    "import scipy.stats\n",
    "import math\n",
    "import sklearn.preprocessing\n",
    "from sklearn.linear_model import LinearRegression, LassoLars, TweedieRegressor\n",
    "from sklearn.model_selection import train_test_split\n",
    "from sklearn.metrics import mean_squared_error, r2_score\n",
    "from scipy import stats\n",
    "\n",
    "import os\n",
    "import wrangle\n",
    "from env import host, user, password\n",
    "\n",
    "import seaborn as sns\n",
    "import warnings\n",
    "warnings.filterwarnings('ignore')"
   ]
  },
  {
   "cell_type": "markdown",
   "id": "c34aa48e",
   "metadata": {},
   "source": [
    "# I. Acquiring the data for preparation"
   ]
  },
  {
   "cell_type": "markdown",
   "id": "1d7f0def",
   "metadata": {},
   "source": [
    "At this point I have created a function <font color = 'brown'>get_connection</font> that uses login info from env.py file to access Codeup database.\n",
    "\n",
    "It returns a string that can be used in another function <font color = 'brown'>wrangle_zillow</font> to return a dataframe from the SQL database"
   ]
  },
  {
   "cell_type": "code",
   "execution_count": 2,
   "id": "fa235de7",
   "metadata": {},
   "outputs": [],
   "source": [
    "# Getting the file\n",
    "\n",
    "properties_2017 = wrangle.wrangle_zillow()"
   ]
  },
  {
   "cell_type": "markdown",
   "id": "00c02196",
   "metadata": {},
   "source": [
    "****"
   ]
  },
  {
   "cell_type": "markdown",
   "id": "3e1ffdde",
   "metadata": {},
   "source": [
    "# II. Cleaning and Preparing the data"
   ]
  },
  {
   "cell_type": "markdown",
   "id": "37e19cdf",
   "metadata": {},
   "source": [
    "* Main question: What can prevent me from having data without nulls, that is relevant to my modeling, that is compatible with my models?\n",
    "* Plan\n",
    "    - Check for null values and drop them if they are not in great numbers (for example more than 10% of the data. This will also depend on the size of the data)\n",
    "    - Check for hard to read columns names to rename them appropriately\n",
    "    - Check for irrelevant columns (that won't impact the analysis and the modeling) and drop them\n",
    "    - Check for incompatible data types (example: data should be int64 but is object or float)\n",
    "    - Do a univariate exploration through charts and columns observation"
   ]
  },
  {
   "cell_type": "markdown",
   "id": "0156d073",
   "metadata": {},
   "source": [
    "## A. General examination of the data, the columns, rows, and entries"
   ]
  },
  {
   "cell_type": "code",
   "execution_count": 3,
   "id": "6f0994dd",
   "metadata": {},
   "outputs": [
    {
     "data": {
      "text/html": [
       "<div>\n",
       "<style scoped>\n",
       "    .dataframe tbody tr th:only-of-type {\n",
       "        vertical-align: middle;\n",
       "    }\n",
       "\n",
       "    .dataframe tbody tr th {\n",
       "        vertical-align: top;\n",
       "    }\n",
       "\n",
       "    .dataframe thead th {\n",
       "        text-align: right;\n",
       "    }\n",
       "</style>\n",
       "<table border=\"1\" class=\"dataframe\">\n",
       "  <thead>\n",
       "    <tr style=\"text-align: right;\">\n",
       "      <th></th>\n",
       "      <th>bedroomcnt</th>\n",
       "      <th>bathroomcnt</th>\n",
       "      <th>calculatedfinishedsquarefeet</th>\n",
       "      <th>taxvaluedollarcnt</th>\n",
       "      <th>propertylandusetypeid</th>\n",
       "      <th>transactiondate</th>\n",
       "    </tr>\n",
       "  </thead>\n",
       "  <tbody>\n",
       "    <tr>\n",
       "      <th>0</th>\n",
       "      <td>4.0</td>\n",
       "      <td>3.5</td>\n",
       "      <td>3100.0</td>\n",
       "      <td>1023282.0</td>\n",
       "      <td>261.0</td>\n",
       "      <td>2017-01-01</td>\n",
       "    </tr>\n",
       "    <tr>\n",
       "      <th>1</th>\n",
       "      <td>2.0</td>\n",
       "      <td>1.0</td>\n",
       "      <td>1465.0</td>\n",
       "      <td>464000.0</td>\n",
       "      <td>261.0</td>\n",
       "      <td>2017-01-01</td>\n",
       "    </tr>\n",
       "    <tr>\n",
       "      <th>2</th>\n",
       "      <td>3.0</td>\n",
       "      <td>2.0</td>\n",
       "      <td>1243.0</td>\n",
       "      <td>564778.0</td>\n",
       "      <td>261.0</td>\n",
       "      <td>2017-01-01</td>\n",
       "    </tr>\n",
       "    <tr>\n",
       "      <th>3</th>\n",
       "      <td>4.0</td>\n",
       "      <td>3.0</td>\n",
       "      <td>2376.0</td>\n",
       "      <td>145143.0</td>\n",
       "      <td>261.0</td>\n",
       "      <td>2017-01-01</td>\n",
       "    </tr>\n",
       "    <tr>\n",
       "      <th>4</th>\n",
       "      <td>4.0</td>\n",
       "      <td>3.0</td>\n",
       "      <td>2962.0</td>\n",
       "      <td>773303.0</td>\n",
       "      <td>261.0</td>\n",
       "      <td>2017-01-01</td>\n",
       "    </tr>\n",
       "  </tbody>\n",
       "</table>\n",
       "</div>"
      ],
      "text/plain": [
       "   bedroomcnt  bathroomcnt  calculatedfinishedsquarefeet  taxvaluedollarcnt  \\\n",
       "0         4.0          3.5                        3100.0          1023282.0   \n",
       "1         2.0          1.0                        1465.0           464000.0   \n",
       "2         3.0          2.0                        1243.0           564778.0   \n",
       "3         4.0          3.0                        2376.0           145143.0   \n",
       "4         4.0          3.0                        2962.0           773303.0   \n",
       "\n",
       "   propertylandusetypeid transactiondate  \n",
       "0                  261.0      2017-01-01  \n",
       "1                  261.0      2017-01-01  \n",
       "2                  261.0      2017-01-01  \n",
       "3                  261.0      2017-01-01  \n",
       "4                  261.0      2017-01-01  "
      ]
     },
     "execution_count": 3,
     "metadata": {},
     "output_type": "execute_result"
    }
   ],
   "source": [
    "# Displaying the dataframe to take a look at it\n",
    "\n",
    "properties_2017.head()"
   ]
  },
  {
   "cell_type": "code",
   "execution_count": 4,
   "id": "c174c2fb",
   "metadata": {},
   "outputs": [
    {
     "name": "stdout",
     "output_type": "stream",
     "text": [
      "<class 'pandas.core.frame.DataFrame'>\n",
      "Int64Index: 52442 entries, 0 to 52441\n",
      "Data columns (total 6 columns):\n",
      " #   Column                        Non-Null Count  Dtype  \n",
      "---  ------                        --------------  -----  \n",
      " 0   bedroomcnt                    52442 non-null  float64\n",
      " 1   bathroomcnt                   52442 non-null  float64\n",
      " 2   calculatedfinishedsquarefeet  52360 non-null  float64\n",
      " 3   taxvaluedollarcnt             52441 non-null  float64\n",
      " 4   propertylandusetypeid         52442 non-null  float64\n",
      " 5   transactiondate               52442 non-null  object \n",
      "dtypes: float64(5), object(1)\n",
      "memory usage: 2.8+ MB\n"
     ]
    }
   ],
   "source": [
    "# Getting information about number of coulumns, number of rows data type, size of the file (for pushing to github)\n",
    "\n",
    "properties_2017.info(verbose = True)"
   ]
  },
  {
   "cell_type": "code",
   "execution_count": 6,
   "id": "8c7286bc",
   "metadata": {
    "scrolled": false
   },
   "outputs": [
    {
     "data": {
      "text/plain": [
       "bedroomcnt                      0.0000\n",
       "bathroomcnt                     0.0000\n",
       "calculatedfinishedsquarefeet    0.0016\n",
       "taxvaluedollarcnt               0.0000\n",
       "propertylandusetypeid           0.0000\n",
       "transactiondate                 0.0000\n",
       "dtype: float64"
      ]
     },
     "execution_count": 6,
     "metadata": {},
     "output_type": "execute_result"
    }
   ],
   "source": [
    "# Getting the proportion of null values in the data\n",
    "\n",
    "round(properties_2017.isnull().mean(), 4)"
   ]
  },
  {
   "cell_type": "code",
   "execution_count": 7,
   "id": "5a902cfb",
   "metadata": {
    "scrolled": false
   },
   "outputs": [
    {
     "name": "stdout",
     "output_type": "stream",
     "text": [
      "bedroomcnt\n",
      "3.0     23360\n",
      "4.0     15240\n",
      "2.0      8340\n",
      "5.0      3973\n",
      "6.0       635\n",
      "1.0       612\n",
      "0.0       137\n",
      "7.0       106\n",
      "8.0        24\n",
      "9.0         8\n",
      "12.0        3\n",
      "10.0        2\n",
      "14.0        1\n",
      "11.0        1\n",
      "Name: bedroomcnt, dtype: int64\n",
      "\n",
      "##########################\n",
      "\n",
      "bathroomcnt\n",
      "2.0     21894\n",
      "3.0     10673\n",
      "1.0      9568\n",
      "2.5      3934\n",
      "4.0      2227\n",
      "3.5       918\n",
      "1.5       841\n",
      "5.0       803\n",
      "4.5       687\n",
      "6.0       322\n",
      "5.5       224\n",
      "0.0       121\n",
      "7.0        88\n",
      "8.0        53\n",
      "6.5        47\n",
      "7.5        16\n",
      "9.0        13\n",
      "10.0        5\n",
      "11.0        3\n",
      "8.5         3\n",
      "18.0        1\n",
      "13.0        1\n",
      "Name: bathroomcnt, dtype: int64\n",
      "\n",
      "##########################\n",
      "\n",
      "calculatedfinishedsquarefeet\n",
      "1120.0    128\n",
      "1200.0    119\n",
      "1080.0    102\n",
      "1040.0     86\n",
      "936.0      86\n",
      "         ... \n",
      "7088.0      1\n",
      "604.0       1\n",
      "5422.0      1\n",
      "534.0       1\n",
      "5655.0      1\n",
      "Name: calculatedfinishedsquarefeet, Length: 4723, dtype: int64\n",
      "\n",
      "##########################\n",
      "\n",
      "taxvaluedollarcnt\n",
      "455000.0    34\n",
      "600000.0    30\n",
      "550000.0    24\n",
      "500000.0    24\n",
      "450000.0    24\n",
      "            ..\n",
      "209341.0     1\n",
      "203304.0     1\n",
      "497409.0     1\n",
      "421945.0     1\n",
      "49546.0      1\n",
      "Name: taxvaluedollarcnt, Length: 38942, dtype: int64\n",
      "\n",
      "##########################\n",
      "\n",
      "propertylandusetypeid\n",
      "261.0    52442\n",
      "Name: propertylandusetypeid, dtype: int64\n",
      "\n",
      "##########################\n",
      "\n",
      "transactiondate\n",
      "2017-06-30    810\n",
      "2017-04-28    617\n",
      "2017-05-31    566\n",
      "2017-07-28    546\n",
      "2017-08-31    528\n",
      "             ... \n",
      "2017-05-07      1\n",
      "2017-05-13      1\n",
      "2017-05-20      1\n",
      "2017-06-11      1\n",
      "2018-05-25      1\n",
      "Name: transactiondate, Length: 258, dtype: int64\n",
      "\n",
      "##########################\n",
      "\n"
     ]
    }
   ],
   "source": [
    "# Displaying the count of each value innthe columns of properties_2017\n",
    "\n",
    "for column in properties_2017.columns:\n",
    "    print(column)\n",
    "    print(properties_2017[column].value_counts())\n",
    "    print('\\n##########################\\n')"
   ]
  },
  {
   "cell_type": "markdown",
   "id": "e88b828e",
   "metadata": {},
   "source": [
    "### Takeaways\n",
    "#### * Observations\n",
    "    - There are very few null values\n",
    "    - The column names are hard to read\n",
    "    - There are no numbers behind the comma of bedroomcnt, calculatedfinishedsquarefeet, and taxvaluedollarcnt\n",
    "    - The transactiondate is an object type, cannot be scaled\n",
    "#### * Actions\n",
    "    - Drop null values and transactiondate which is not needed for the MVP\n",
    "    - The propertylandusetypeid column can be dropped. It is an identifier for the type of house I am working on\n",
    "    - Convert bedroomcnt, calculatedfinishedsquarefeet, taxvaluedollarcnt, and transactiondate to int\n",
    "    - Leave bathroomcnt as is\n",
    "    - Rename columns\n",
    "    - Move to univariate exploration"
   ]
  },
  {
   "cell_type": "markdown",
   "id": "b584cfd5",
   "metadata": {},
   "source": [
    "## B. Preforming Actions planned in previous step"
   ]
  },
  {
   "cell_type": "code",
   "execution_count": 9,
   "id": "e0b72bfe",
   "metadata": {},
   "outputs": [],
   "source": [
    "# Dropping the null values and reassigning properties_2017 to houses\n",
    "\n",
    "houses = properties_2017.dropna(axis = 0, how ='any')"
   ]
  },
  {
   "cell_type": "code",
   "execution_count": 10,
   "id": "47aa5206",
   "metadata": {},
   "outputs": [
    {
     "name": "stdout",
     "output_type": "stream",
     "text": [
      "Properties_2017 length: 52442 \n",
      "Houses length: 52359 \n",
      "Percentage of rows with at least 1 NA value dropped:  0.16\n"
     ]
    }
   ],
   "source": [
    "# Calculating the percentage of null values dropped\n",
    "\n",
    "print(\"Properties_2017 length:\", len(properties_2017), \"\\nHouses length:\", \n",
    "       len(houses), \"\\nPercentage of rows with at least 1 NA value dropped: \",\n",
    "       round(((len(properties_2017)-len(houses))/len(properties_2017))*100, 2))"
   ]
  },
  {
   "cell_type": "code",
   "execution_count": 11,
   "id": "0ba07fce",
   "metadata": {},
   "outputs": [
    {
     "data": {
      "text/html": [
       "<div>\n",
       "<style scoped>\n",
       "    .dataframe tbody tr th:only-of-type {\n",
       "        vertical-align: middle;\n",
       "    }\n",
       "\n",
       "    .dataframe tbody tr th {\n",
       "        vertical-align: top;\n",
       "    }\n",
       "\n",
       "    .dataframe thead th {\n",
       "        text-align: right;\n",
       "    }\n",
       "</style>\n",
       "<table border=\"1\" class=\"dataframe\">\n",
       "  <thead>\n",
       "    <tr style=\"text-align: right;\">\n",
       "      <th></th>\n",
       "      <th>bedroomcnt</th>\n",
       "      <th>bathroomcnt</th>\n",
       "      <th>calculatedfinishedsquarefeet</th>\n",
       "      <th>taxvaluedollarcnt</th>\n",
       "      <th>propertylandusetypeid</th>\n",
       "    </tr>\n",
       "  </thead>\n",
       "  <tbody>\n",
       "    <tr>\n",
       "      <th>0</th>\n",
       "      <td>4.0</td>\n",
       "      <td>3.5</td>\n",
       "      <td>3100.0</td>\n",
       "      <td>1023282.0</td>\n",
       "      <td>261.0</td>\n",
       "    </tr>\n",
       "    <tr>\n",
       "      <th>1</th>\n",
       "      <td>2.0</td>\n",
       "      <td>1.0</td>\n",
       "      <td>1465.0</td>\n",
       "      <td>464000.0</td>\n",
       "      <td>261.0</td>\n",
       "    </tr>\n",
       "    <tr>\n",
       "      <th>2</th>\n",
       "      <td>3.0</td>\n",
       "      <td>2.0</td>\n",
       "      <td>1243.0</td>\n",
       "      <td>564778.0</td>\n",
       "      <td>261.0</td>\n",
       "    </tr>\n",
       "    <tr>\n",
       "      <th>3</th>\n",
       "      <td>4.0</td>\n",
       "      <td>3.0</td>\n",
       "      <td>2376.0</td>\n",
       "      <td>145143.0</td>\n",
       "      <td>261.0</td>\n",
       "    </tr>\n",
       "    <tr>\n",
       "      <th>4</th>\n",
       "      <td>4.0</td>\n",
       "      <td>3.0</td>\n",
       "      <td>2962.0</td>\n",
       "      <td>773303.0</td>\n",
       "      <td>261.0</td>\n",
       "    </tr>\n",
       "  </tbody>\n",
       "</table>\n",
       "</div>"
      ],
      "text/plain": [
       "   bedroomcnt  bathroomcnt  calculatedfinishedsquarefeet  taxvaluedollarcnt  \\\n",
       "0         4.0          3.5                        3100.0          1023282.0   \n",
       "1         2.0          1.0                        1465.0           464000.0   \n",
       "2         3.0          2.0                        1243.0           564778.0   \n",
       "3         4.0          3.0                        2376.0           145143.0   \n",
       "4         4.0          3.0                        2962.0           773303.0   \n",
       "\n",
       "   propertylandusetypeid  \n",
       "0                  261.0  \n",
       "1                  261.0  \n",
       "2                  261.0  \n",
       "3                  261.0  \n",
       "4                  261.0  "
      ]
     },
     "execution_count": 11,
     "metadata": {},
     "output_type": "execute_result"
    }
   ],
   "source": [
    "# Dropping the transactiondate column\n",
    "\n",
    "houses = houses.drop(['transactiondate'], axis = 1)\n",
    "houses.head()"
   ]
  },
  {
   "cell_type": "code",
   "execution_count": 12,
   "id": "80a13570",
   "metadata": {},
   "outputs": [
    {
     "data": {
      "text/html": [
       "<div>\n",
       "<style scoped>\n",
       "    .dataframe tbody tr th:only-of-type {\n",
       "        vertical-align: middle;\n",
       "    }\n",
       "\n",
       "    .dataframe tbody tr th {\n",
       "        vertical-align: top;\n",
       "    }\n",
       "\n",
       "    .dataframe thead th {\n",
       "        text-align: right;\n",
       "    }\n",
       "</style>\n",
       "<table border=\"1\" class=\"dataframe\">\n",
       "  <thead>\n",
       "    <tr style=\"text-align: right;\">\n",
       "      <th></th>\n",
       "      <th>bedroomcnt</th>\n",
       "      <th>bathroomcnt</th>\n",
       "      <th>calculatedfinishedsquarefeet</th>\n",
       "      <th>taxvaluedollarcnt</th>\n",
       "    </tr>\n",
       "  </thead>\n",
       "  <tbody>\n",
       "    <tr>\n",
       "      <th>0</th>\n",
       "      <td>4.0</td>\n",
       "      <td>3.5</td>\n",
       "      <td>3100.0</td>\n",
       "      <td>1023282.0</td>\n",
       "    </tr>\n",
       "    <tr>\n",
       "      <th>1</th>\n",
       "      <td>2.0</td>\n",
       "      <td>1.0</td>\n",
       "      <td>1465.0</td>\n",
       "      <td>464000.0</td>\n",
       "    </tr>\n",
       "    <tr>\n",
       "      <th>2</th>\n",
       "      <td>3.0</td>\n",
       "      <td>2.0</td>\n",
       "      <td>1243.0</td>\n",
       "      <td>564778.0</td>\n",
       "    </tr>\n",
       "    <tr>\n",
       "      <th>3</th>\n",
       "      <td>4.0</td>\n",
       "      <td>3.0</td>\n",
       "      <td>2376.0</td>\n",
       "      <td>145143.0</td>\n",
       "    </tr>\n",
       "    <tr>\n",
       "      <th>4</th>\n",
       "      <td>4.0</td>\n",
       "      <td>3.0</td>\n",
       "      <td>2962.0</td>\n",
       "      <td>773303.0</td>\n",
       "    </tr>\n",
       "  </tbody>\n",
       "</table>\n",
       "</div>"
      ],
      "text/plain": [
       "   bedroomcnt  bathroomcnt  calculatedfinishedsquarefeet  taxvaluedollarcnt\n",
       "0         4.0          3.5                        3100.0          1023282.0\n",
       "1         2.0          1.0                        1465.0           464000.0\n",
       "2         3.0          2.0                        1243.0           564778.0\n",
       "3         4.0          3.0                        2376.0           145143.0\n",
       "4         4.0          3.0                        2962.0           773303.0"
      ]
     },
     "execution_count": 12,
     "metadata": {},
     "output_type": "execute_result"
    }
   ],
   "source": [
    "# Dropping the propertylandusetypeid column\n",
    "\n",
    "houses = houses.drop(['propertylandusetypeid'], axis = 1)\n",
    "houses.head()"
   ]
  },
  {
   "cell_type": "code",
   "execution_count": 13,
   "id": "212e030c",
   "metadata": {},
   "outputs": [
    {
     "data": {
      "text/html": [
       "<div>\n",
       "<style scoped>\n",
       "    .dataframe tbody tr th:only-of-type {\n",
       "        vertical-align: middle;\n",
       "    }\n",
       "\n",
       "    .dataframe tbody tr th {\n",
       "        vertical-align: top;\n",
       "    }\n",
       "\n",
       "    .dataframe thead th {\n",
       "        text-align: right;\n",
       "    }\n",
       "</style>\n",
       "<table border=\"1\" class=\"dataframe\">\n",
       "  <thead>\n",
       "    <tr style=\"text-align: right;\">\n",
       "      <th></th>\n",
       "      <th>bedrooms</th>\n",
       "      <th>bathrooms</th>\n",
       "      <th>indoor_sqft</th>\n",
       "      <th>tax_value</th>\n",
       "    </tr>\n",
       "  </thead>\n",
       "  <tbody>\n",
       "    <tr>\n",
       "      <th>0</th>\n",
       "      <td>4.0</td>\n",
       "      <td>3.5</td>\n",
       "      <td>3100.0</td>\n",
       "      <td>1023282.0</td>\n",
       "    </tr>\n",
       "    <tr>\n",
       "      <th>1</th>\n",
       "      <td>2.0</td>\n",
       "      <td>1.0</td>\n",
       "      <td>1465.0</td>\n",
       "      <td>464000.0</td>\n",
       "    </tr>\n",
       "    <tr>\n",
       "      <th>2</th>\n",
       "      <td>3.0</td>\n",
       "      <td>2.0</td>\n",
       "      <td>1243.0</td>\n",
       "      <td>564778.0</td>\n",
       "    </tr>\n",
       "    <tr>\n",
       "      <th>3</th>\n",
       "      <td>4.0</td>\n",
       "      <td>3.0</td>\n",
       "      <td>2376.0</td>\n",
       "      <td>145143.0</td>\n",
       "    </tr>\n",
       "    <tr>\n",
       "      <th>4</th>\n",
       "      <td>4.0</td>\n",
       "      <td>3.0</td>\n",
       "      <td>2962.0</td>\n",
       "      <td>773303.0</td>\n",
       "    </tr>\n",
       "  </tbody>\n",
       "</table>\n",
       "</div>"
      ],
      "text/plain": [
       "   bedrooms  bathrooms  indoor_sqft  tax_value\n",
       "0       4.0        3.5       3100.0  1023282.0\n",
       "1       2.0        1.0       1465.0   464000.0\n",
       "2       3.0        2.0       1243.0   564778.0\n",
       "3       4.0        3.0       2376.0   145143.0\n",
       "4       4.0        3.0       2962.0   773303.0"
      ]
     },
     "execution_count": 13,
     "metadata": {},
     "output_type": "execute_result"
    }
   ],
   "source": [
    "# Renaming columns\n",
    "\n",
    "cols_to_rename = {\n",
    "    'calculatedfinishedsquarefeet': 'indoor_sqft',\n",
    "    'taxvaluedollarcnt': 'tax_value',\n",
    "    'bedroomcnt': 'bedrooms',\n",
    "    'bathroomcnt': 'bathrooms',\n",
    "}\n",
    "\n",
    "houses = houses.rename(columns=cols_to_rename)\n",
    "houses.head()"
   ]
  },
  {
   "cell_type": "code",
   "execution_count": 14,
   "id": "11bf6f69",
   "metadata": {
    "scrolled": true
   },
   "outputs": [
    {
     "data": {
      "text/html": [
       "<div>\n",
       "<style scoped>\n",
       "    .dataframe tbody tr th:only-of-type {\n",
       "        vertical-align: middle;\n",
       "    }\n",
       "\n",
       "    .dataframe tbody tr th {\n",
       "        vertical-align: top;\n",
       "    }\n",
       "\n",
       "    .dataframe thead th {\n",
       "        text-align: right;\n",
       "    }\n",
       "</style>\n",
       "<table border=\"1\" class=\"dataframe\">\n",
       "  <thead>\n",
       "    <tr style=\"text-align: right;\">\n",
       "      <th></th>\n",
       "      <th>bedrooms</th>\n",
       "      <th>bathrooms</th>\n",
       "      <th>indoor_sqft</th>\n",
       "      <th>tax_value</th>\n",
       "    </tr>\n",
       "  </thead>\n",
       "  <tbody>\n",
       "    <tr>\n",
       "      <th>0</th>\n",
       "      <td>4</td>\n",
       "      <td>3.5</td>\n",
       "      <td>3100</td>\n",
       "      <td>1023282</td>\n",
       "    </tr>\n",
       "    <tr>\n",
       "      <th>1</th>\n",
       "      <td>2</td>\n",
       "      <td>1.0</td>\n",
       "      <td>1465</td>\n",
       "      <td>464000</td>\n",
       "    </tr>\n",
       "    <tr>\n",
       "      <th>2</th>\n",
       "      <td>3</td>\n",
       "      <td>2.0</td>\n",
       "      <td>1243</td>\n",
       "      <td>564778</td>\n",
       "    </tr>\n",
       "    <tr>\n",
       "      <th>3</th>\n",
       "      <td>4</td>\n",
       "      <td>3.0</td>\n",
       "      <td>2376</td>\n",
       "      <td>145143</td>\n",
       "    </tr>\n",
       "    <tr>\n",
       "      <th>4</th>\n",
       "      <td>4</td>\n",
       "      <td>3.0</td>\n",
       "      <td>2962</td>\n",
       "      <td>773303</td>\n",
       "    </tr>\n",
       "  </tbody>\n",
       "</table>\n",
       "</div>"
      ],
      "text/plain": [
       "   bedrooms  bathrooms  indoor_sqft  tax_value\n",
       "0         4        3.5         3100    1023282\n",
       "1         2        1.0         1465     464000\n",
       "2         3        2.0         1243     564778\n",
       "3         4        3.0         2376     145143\n",
       "4         4        3.0         2962     773303"
      ]
     },
     "execution_count": 14,
     "metadata": {},
     "output_type": "execute_result"
    }
   ],
   "source": [
    "# Transforming data types to int then I can scale it\n",
    "\n",
    "houses['bedrooms'] = houses['bedrooms'].astype(int)\n",
    "houses['indoor_sqft'] = houses['indoor_sqft'].astype(int)\n",
    "houses['tax_value'] = houses['tax_value'].astype(int)\n",
    "\n",
    "houses.head()"
   ]
  },
  {
   "cell_type": "code",
   "execution_count": 15,
   "id": "33305dae",
   "metadata": {
    "scrolled": true
   },
   "outputs": [
    {
     "data": {
      "text/plain": [
       "bedrooms         int64\n",
       "bathrooms      float64\n",
       "indoor_sqft      int64\n",
       "tax_value        int64\n",
       "dtype: object"
      ]
     },
     "execution_count": 15,
     "metadata": {},
     "output_type": "execute_result"
    }
   ],
   "source": [
    "# Checking the data types\n",
    "\n",
    "houses.dtypes"
   ]
  },
  {
   "cell_type": "markdown",
   "id": "f51bb0e4",
   "metadata": {},
   "source": [
    "### Conclusion: \n",
    "**The data is already cleaner at this point but the univariate observation is going to help me find drivers and understand the direction my Exploration should take**"
   ]
  },
  {
   "cell_type": "markdown",
   "id": "aa7de0c6",
   "metadata": {},
   "source": [
    "## C. Univariate observation of the data to set it up for eploration"
   ]
  },
  {
   "cell_type": "code",
   "execution_count": 17,
   "id": "9be923e6",
   "metadata": {
    "scrolled": true
   },
   "outputs": [
    {
     "data": {
      "text/html": [
       "<div>\n",
       "<style scoped>\n",
       "    .dataframe tbody tr th:only-of-type {\n",
       "        vertical-align: middle;\n",
       "    }\n",
       "\n",
       "    .dataframe tbody tr th {\n",
       "        vertical-align: top;\n",
       "    }\n",
       "\n",
       "    .dataframe thead th {\n",
       "        text-align: right;\n",
       "    }\n",
       "</style>\n",
       "<table border=\"1\" class=\"dataframe\">\n",
       "  <thead>\n",
       "    <tr style=\"text-align: right;\">\n",
       "      <th></th>\n",
       "      <th>count</th>\n",
       "      <th>mean</th>\n",
       "      <th>std</th>\n",
       "      <th>min</th>\n",
       "      <th>25%</th>\n",
       "      <th>50%</th>\n",
       "      <th>75%</th>\n",
       "      <th>max</th>\n",
       "    </tr>\n",
       "  </thead>\n",
       "  <tbody>\n",
       "    <tr>\n",
       "      <th>bedrooms</th>\n",
       "      <td>52359</td>\n",
       "      <td>3</td>\n",
       "      <td>0</td>\n",
       "      <td>0</td>\n",
       "      <td>3</td>\n",
       "      <td>3</td>\n",
       "      <td>4</td>\n",
       "      <td>14</td>\n",
       "    </tr>\n",
       "    <tr>\n",
       "      <th>bathrooms</th>\n",
       "      <td>52359</td>\n",
       "      <td>2</td>\n",
       "      <td>1</td>\n",
       "      <td>0</td>\n",
       "      <td>2</td>\n",
       "      <td>2</td>\n",
       "      <td>3</td>\n",
       "      <td>18</td>\n",
       "    </tr>\n",
       "    <tr>\n",
       "      <th>indoor_sqft</th>\n",
       "      <td>52359</td>\n",
       "      <td>1922</td>\n",
       "      <td>1004</td>\n",
       "      <td>128</td>\n",
       "      <td>1268</td>\n",
       "      <td>1659</td>\n",
       "      <td>2306</td>\n",
       "      <td>21929</td>\n",
       "    </tr>\n",
       "    <tr>\n",
       "      <th>tax_value</th>\n",
       "      <td>52359</td>\n",
       "      <td>528020</td>\n",
       "      <td>748323</td>\n",
       "      <td>1000</td>\n",
       "      <td>193644</td>\n",
       "      <td>373374</td>\n",
       "      <td>618531</td>\n",
       "      <td>49061236</td>\n",
       "    </tr>\n",
       "  </tbody>\n",
       "</table>\n",
       "</div>"
      ],
      "text/plain": [
       "             count    mean     std   min     25%     50%     75%       max\n",
       "bedrooms     52359       3       0     0       3       3       4        14\n",
       "bathrooms    52359       2       1     0       2       2       3        18\n",
       "indoor_sqft  52359    1922    1004   128    1268    1659    2306     21929\n",
       "tax_value    52359  528020  748323  1000  193644  373374  618531  49061236"
      ]
     },
     "execution_count": 17,
     "metadata": {},
     "output_type": "execute_result"
    }
   ],
   "source": [
    "# Running a .describe() function to have a first statistical look at the data\n",
    "\n",
    "houses.describe().T.astype('int64')"
   ]
  },
  {
   "cell_type": "markdown",
   "id": "b986ccd8",
   "metadata": {},
   "source": [
    "### Takeaways of .describe()\n",
    "* Observations\n",
    "    - The max values are high compared to min values in all columns (given their nature bedrooms and bathrooms)\n",
    "    - The values seem to relate to each other proportionally\n",
    "* To-dos\n",
    "    - Use graphs to visualize the structure of the data"
   ]
  },
  {
   "cell_type": "code",
   "execution_count": 18,
   "id": "592c3330",
   "metadata": {
    "scrolled": false
   },
   "outputs": [
    {
     "name": "stdout",
     "output_type": "stream",
     "text": [
      "bedrooms\n"
     ]
    },
    {
     "data": {
      "image/png": "[encoded data removed]",
      "text/plain": [
       "<Figure size 432x288 with 1 Axes>"
      ]
     },
     "metadata": {
      "needs_background": "light"
     },
     "output_type": "display_data"
    },
    {
     "name": "stdout",
     "output_type": "stream",
     "text": [
      "bathrooms\n"
     ]
    },
    {
     "data": {
      "image/png": "[encoded data removed]",
      "text/plain": [
       "<Figure size 432x288 with 1 Axes>"
      ]
     },
     "metadata": {
      "needs_background": "light"
     },
     "output_type": "display_data"
    },
    {
     "name": "stdout",
     "output_type": "stream",
     "text": [
      "indoor_sqft\n"
     ]
    },
    {
     "data": {
      "image/png": "[encoded data removed]",
      "text/plain": [
       "<Figure size 432x288 with 1 Axes>"
      ]
     },
     "metadata": {
      "needs_background": "light"
     },
     "output_type": "display_data"
    },
    {
     "name": "stdout",
     "output_type": "stream",
     "text": [
      "tax_value\n"
     ]
    },
    {
     "data": {
      "image/png": "[encoded data removed]",
      "text/plain": [
       "<Figure size 432x288 with 1 Axes>"
      ]
     },
     "metadata": {
      "needs_background": "light"
     },
     "output_type": "display_data"
    }
   ],
   "source": [
    "# Using a for loop to plot columns to observe outliers\n",
    "\n",
    "for column in houses.columns:\n",
    "    print(column)\n",
    "    plt.title(column)\n",
    "    houses[column].hist()\n",
    "    plt.grid(True)\n",
    "    plt.show()"
   ]
  },
  {
   "cell_type": "markdown",
   "id": "371bed8e",
   "metadata": {},
   "source": [
    "### Takeaways of histograms\n",
    "\n",
    "**A first look shows me that there may be a lot of outliers because of the length of the x axis**\n",
    "\n",
    "**The value still seem to be connected becase of the shape of the bars except for tax_value where it is not obvious**\n",
    "\n",
    "<font color = 'brown'>**An observation with boxplots and countplots will give me a better view of the data**</font>"
   ]
  },
  {
   "cell_type": "code",
   "execution_count": 19,
   "id": "fb1ee6bd",
   "metadata": {
    "scrolled": false
   },
   "outputs": [
    {
     "data": {
      "image/png": "[encoded data removed]",
      "text/plain": [
       "<Figure size 1224x720 with 1 Axes>"
      ]
     },
     "metadata": {
      "needs_background": "light"
     },
     "output_type": "display_data"
    }
   ],
   "source": [
    "# Plotting a boxplot of all columns to have a better view\n",
    "\n",
    "plt.figure(figsize=(17,10))\n",
    "sns.boxplot(data=houses)\n",
    "plt.show()"
   ]
  },
  {
   "cell_type": "markdown",
   "id": "54bfd43e",
   "metadata": {},
   "source": [
    "**Values are very different between tax_value and the others**\n",
    "\n",
    "\n",
    "**I will plot them separately to havea better view**"
   ]
  },
  {
   "cell_type": "code",
   "execution_count": 20,
   "id": "c8962f4f",
   "metadata": {},
   "outputs": [
    {
     "data": {
      "image/png": "[encoded data removed]",
      "text/plain": [
       "<Figure size 720x504 with 1 Axes>"
      ]
     },
     "metadata": {
      "needs_background": "light"
     },
     "output_type": "display_data"
    }
   ],
   "source": [
    "# Plotting data using a boxplot to understand distribution and see outliers\n",
    "\n",
    "plt.figure(figsize=(10,7))\n",
    "sns.boxplot(data=houses.bedrooms)\n",
    "plt.show()\n",
    "\n",
    "# There are lots of outliers"
   ]
  },
  {
   "cell_type": "code",
   "execution_count": 49,
   "id": "456d5454",
   "metadata": {},
   "outputs": [
    {
     "data": {
      "image/png": "[encoded data removed]",
      "text/plain": [
       "<Figure size 720x504 with 1 Axes>"
      ]
     },
     "metadata": {
      "needs_background": "light"
     },
     "output_type": "display_data"
    }
   ],
   "source": [
    "# Using a countplot to further investigate the distribution of the data\n",
    "\n",
    "plt.figure(figsize=(10,7))\n",
    "sns.countplot(x='bedrooms', data=houses)\n",
    "plt.show()"
   ]
  },
  {
   "cell_type": "markdown",
   "id": "959baf39",
   "metadata": {},
   "source": [
    "**The bedrooms columns is surprisingly pretty normally distributed**\n",
    "\n",
    "**It contains a great number of outliers**"
   ]
  },
  {
   "cell_type": "code",
   "execution_count": 21,
   "id": "fd0e3424",
   "metadata": {},
   "outputs": [
    {
     "data": {
      "image/png": "[encoded data removed]",
      "text/plain": [
       "<Figure size 720x504 with 1 Axes>"
      ]
     },
     "metadata": {
      "needs_background": "light"
     },
     "output_type": "display_data"
    }
   ],
   "source": [
    "# Plotting data using a boxplot to understand distribution and see outliers\n",
    "\n",
    "plt.figure(figsize=(10,7))\n",
    "sns.boxplot(data=houses.bathrooms)\n",
    "plt.show()\n",
    "\n",
    "# There are lots of outliers"
   ]
  },
  {
   "cell_type": "code",
   "execution_count": 50,
   "id": "44b4fc43",
   "metadata": {},
   "outputs": [
    {
     "data": {
      "image/png": "[encoded data removed]",
      "text/plain": [
       "<Figure size 720x504 with 1 Axes>"
      ]
     },
     "metadata": {
      "needs_background": "light"
     },
     "output_type": "display_data"
    }
   ],
   "source": [
    "# Using a countplot to further investigate the distribution of the data\n",
    "\n",
    "plt.figure(figsize=(10,7))\n",
    "sns.countplot(x='bathrooms', data=houses)\n",
    "plt.show()"
   ]
  },
  {
   "cell_type": "markdown",
   "id": "64190db4",
   "metadata": {},
   "source": [
    "**The bathrooms column is not really normally distributed**\n",
    "\n",
    "**It contains a great number of outliers**"
   ]
  },
  {
   "cell_type": "code",
   "execution_count": 22,
   "id": "b1065649",
   "metadata": {},
   "outputs": [
    {
     "data": {
      "image/png": "[encoded data removed]",
      "text/plain": [
       "<Figure size 720x504 with 1 Axes>"
      ]
     },
     "metadata": {
      "needs_background": "light"
     },
     "output_type": "display_data"
    }
   ],
   "source": [
    "# Plotting data using a boxplot to understand distribution and see outliers\n",
    "\n",
    "plt.figure(figsize=(10,7))\n",
    "sns.boxplot(data=houses.indoor_sqft)\n",
    "plt.show()\n",
    "\n",
    "# There are lots of outliers in the indoor_sqft column"
   ]
  },
  {
   "cell_type": "code",
   "execution_count": 23,
   "id": "ceab6615",
   "metadata": {},
   "outputs": [
    {
     "data": {
      "image/png": "[encoded data removed]",
      "text/plain": [
       "<Figure size 720x504 with 1 Axes>"
      ]
     },
     "metadata": {
      "needs_background": "light"
     },
     "output_type": "display_data"
    }
   ],
   "source": [
    "# Plotting data using a boxplot to understand distribution and see outliers\n",
    "\n",
    "plt.figure(figsize=(10,7))\n",
    "sns.boxplot(data=houses.tax_value)\n",
    "plt.show()\n",
    "\n",
    "# There are lots of outliers in the tax_value column but it is also the target variable so the current should be ok"
   ]
  },
  {
   "cell_type": "markdown",
   "id": "652f1213",
   "metadata": {},
   "source": [
    "## Takeaways of boxplot and countplot\n",
    "\n",
    "- All the columns have a lot of outliers\n",
    "- They are mostly normally distributed which will help with the statistical analysis\n",
    "- Since my goal is to predict the tax value of most houses, I will remove what does not constitute 'most houses in the US'\n",
    "- 0 bedroom and 0 bathroom do exist in the industry and it does not mean that the house does not have any or is not habitable\n",
    "- .5, .25, .75 bathrooms exist as well and describe the existence of certain amenities in the bathroom like a tub or a sink...\n",
    "\n",
    "## What data am I going t use?\n",
    "\n",
    "- In the section below I am trying to determine what the cut off for the data is\n",
    "- I will determine the proportions of each variable relating to the takeaways then apply it to the whole dataset\n",
    "\n",
    "   * According to realtor.com, a mansion is in the real estate industry is a house that has 8,000 square feet and above.\n",
    "   * I will cut off outliers that are 8,000 square feet and above."
   ]
  },
  {
   "cell_type": "code",
   "execution_count": 24,
   "id": "382341bb",
   "metadata": {},
   "outputs": [
    {
     "data": {
      "text/plain": [
       "0.99791821845337"
      ]
     },
     "execution_count": 24,
     "metadata": {},
     "output_type": "execute_result"
    }
   ],
   "source": [
    "# The proportion of houses that have 7_999 indoor_squarefeet and less\n",
    "\n",
    "houses[houses.indoor_sqft <= 7_999].shape[0] / houses.shape[0]"
   ]
  },
  {
   "cell_type": "code",
   "execution_count": 25,
   "id": "345e7234",
   "metadata": {},
   "outputs": [
    {
     "data": {
      "text/plain": [
       "3.2996363636363637"
      ]
     },
     "execution_count": 25,
     "metadata": {},
     "output_type": "execute_result"
    }
   ],
   "source": [
    "# Mean of number of bedroooms of houses corresponding to less than 8_000 sqft\n",
    "\n",
    "houses[houses.indoor_sqft <= 7_999].bedrooms.mean()"
   ]
  },
  {
   "cell_type": "code",
   "execution_count": 26,
   "id": "fbf23f95",
   "metadata": {},
   "outputs": [
    {
     "data": {
      "text/plain": [
       "2.292124401913876"
      ]
     },
     "execution_count": 26,
     "metadata": {},
     "output_type": "execute_result"
    }
   ],
   "source": [
    "# Mean of number of bathrooms of houses corresponding to less than 8_000 sqft\n",
    "\n",
    "houses[houses.indoor_sqft <= 7_999].bathrooms.mean()"
   ]
  },
  {
   "cell_type": "markdown",
   "id": "0fadcf27",
   "metadata": {},
   "source": [
    "## Takeaways\n",
    "- The proportion obtained are still significant and won't denature the data: 99.8%\n",
    "- I will filter the data through the <= 7_999 square feet criterion"
   ]
  },
  {
   "cell_type": "code",
   "execution_count": 27,
   "id": "5a95b20c",
   "metadata": {},
   "outputs": [
    {
     "data": {
      "text/html": [
       "<div>\n",
       "<style scoped>\n",
       "    .dataframe tbody tr th:only-of-type {\n",
       "        vertical-align: middle;\n",
       "    }\n",
       "\n",
       "    .dataframe tbody tr th {\n",
       "        vertical-align: top;\n",
       "    }\n",
       "\n",
       "    .dataframe thead th {\n",
       "        text-align: right;\n",
       "    }\n",
       "</style>\n",
       "<table border=\"1\" class=\"dataframe\">\n",
       "  <thead>\n",
       "    <tr style=\"text-align: right;\">\n",
       "      <th></th>\n",
       "      <th>bedrooms</th>\n",
       "      <th>bathrooms</th>\n",
       "      <th>indoor_sqft</th>\n",
       "      <th>tax_value</th>\n",
       "    </tr>\n",
       "  </thead>\n",
       "  <tbody>\n",
       "    <tr>\n",
       "      <th>0</th>\n",
       "      <td>4</td>\n",
       "      <td>3.5</td>\n",
       "      <td>3100</td>\n",
       "      <td>1023282</td>\n",
       "    </tr>\n",
       "    <tr>\n",
       "      <th>1</th>\n",
       "      <td>2</td>\n",
       "      <td>1.0</td>\n",
       "      <td>1465</td>\n",
       "      <td>464000</td>\n",
       "    </tr>\n",
       "    <tr>\n",
       "      <th>2</th>\n",
       "      <td>3</td>\n",
       "      <td>2.0</td>\n",
       "      <td>1243</td>\n",
       "      <td>564778</td>\n",
       "    </tr>\n",
       "    <tr>\n",
       "      <th>3</th>\n",
       "      <td>4</td>\n",
       "      <td>3.0</td>\n",
       "      <td>2376</td>\n",
       "      <td>145143</td>\n",
       "    </tr>\n",
       "    <tr>\n",
       "      <th>4</th>\n",
       "      <td>4</td>\n",
       "      <td>3.0</td>\n",
       "      <td>2962</td>\n",
       "      <td>773303</td>\n",
       "    </tr>\n",
       "  </tbody>\n",
       "</table>\n",
       "</div>"
      ],
      "text/plain": [
       "   bedrooms  bathrooms  indoor_sqft  tax_value\n",
       "0         4        3.5         3100    1023282\n",
       "1         2        1.0         1465     464000\n",
       "2         3        2.0         1243     564778\n",
       "3         4        3.0         2376     145143\n",
       "4         4        3.0         2962     773303"
      ]
     },
     "execution_count": 27,
     "metadata": {},
     "output_type": "execute_result"
    }
   ],
   "source": [
    "# Filtering the data through number of bedrooms\n",
    "\n",
    "houses = houses[houses.indoor_sqft <= 7_999]\n",
    "houses.head()"
   ]
  },
  {
   "cell_type": "code",
   "execution_count": 28,
   "id": "a7fa7a79",
   "metadata": {},
   "outputs": [
    {
     "name": "stdout",
     "output_type": "stream",
     "text": [
      "<class 'pandas.core.frame.DataFrame'>\n",
      "Int64Index: 52250 entries, 0 to 52441\n",
      "Data columns (total 4 columns):\n",
      " #   Column       Non-Null Count  Dtype  \n",
      "---  ------       --------------  -----  \n",
      " 0   bedrooms     52250 non-null  int64  \n",
      " 1   bathrooms    52250 non-null  float64\n",
      " 2   indoor_sqft  52250 non-null  int64  \n",
      " 3   tax_value    52250 non-null  int64  \n",
      "dtypes: float64(1), int64(3)\n",
      "memory usage: 2.0 MB\n"
     ]
    }
   ],
   "source": [
    "# Verifying the state of the dataframe by checking number of null values,\n",
    "# column and row numbers as well as data type\n",
    "\n",
    "houses.info()"
   ]
  },
  {
   "cell_type": "code",
   "execution_count": 29,
   "id": "9efa6aaf",
   "metadata": {},
   "outputs": [
    {
     "data": {
      "text/plain": [
       "bedrooms       0.0\n",
       "bathrooms      0.0\n",
       "indoor_sqft    0.0\n",
       "tax_value      0.0\n",
       "dtype: float64"
      ]
     },
     "execution_count": 29,
     "metadata": {},
     "output_type": "execute_result"
    }
   ],
   "source": [
    "# Checking the precentage of null values in the dataframe\n",
    "\n",
    "houses.isnull().mean()"
   ]
  },
  {
   "cell_type": "markdown",
   "id": "92194af3",
   "metadata": {},
   "source": [
    "## General Takeaways for univariate exploration\n",
    "- The median of the indoor_sqft column is toward the bottom 50% of the data\n",
    "- The median of bedrooms and bathrooms columns are not visible\n",
    "- The .describe() function shows that the median in probably toward the bottom 25% of the data\n",
    "- The data still contains a fair number of outliers. I think that an appropriate scaler (Robust or Quantile) can handle that\n",
    "- It is probable that a Standard scaler or a type of Robust Scaler (Robust or Quantile) would work best"
   ]
  },
  {
   "cell_type": "markdown",
   "id": "6e286a35",
   "metadata": {},
   "source": [
    "****"
   ]
  },
  {
   "cell_type": "markdown",
   "id": "e074bd10",
   "metadata": {},
   "source": [
    "# III. Scaling and Exploration"
   ]
  },
  {
   "cell_type": "markdown",
   "id": "f32e62ea",
   "metadata": {},
   "source": [
    "* Main questions:\n",
    "    - What scaler is best for this dataset?\n",
    "    - What variable affects the tax value column?\n",
    "    - Which one does it the best?\n",
    "    - Can I use one or all of the independent variables for my models?\n",
    "    \n",
    "**I will scale the data but assign the scaled data to a different variable than train and explore my train data with the train dataframe**\n",
    "\n",
    "    - I will use Standard, Robust, and Quantile scalers\n",
    "    - I will perform an exploration of the data to determine which columns are potential drivers of the tax value\n",
    "    - For the exploration I will use appropriate charts and statistical tests to show that there is or there is not a correlation between the independent variables (bedrooms, bathrooms, and square footage) and tax value."
   ]
  },
  {
   "cell_type": "markdown",
   "id": "6e733f9b",
   "metadata": {},
   "source": [
    "## A. Splitting and Scaling"
   ]
  },
  {
   "cell_type": "markdown",
   "id": "16341149",
   "metadata": {},
   "source": [
    "**First I am going to split the data into train, validate, and test**"
   ]
  },
  {
   "cell_type": "markdown",
   "id": "0a80c742",
   "metadata": {},
   "source": [
    "### 1. Splitting"
   ]
  },
  {
   "cell_type": "markdown",
   "id": "1ba9b923",
   "metadata": {},
   "source": [
    "### <font color = 'brown'>Train, Validate, and Test</font>"
   ]
  },
  {
   "cell_type": "code",
   "execution_count": 249,
   "id": "15b343a2",
   "metadata": {},
   "outputs": [],
   "source": [
    "# Splits df into train_validate and test using train_test_split()\n",
    "train_validate, test = train_test_split(houses, test_size=.2, random_state=175)\n",
    "\n",
    "# splits train_validate into train and validate using train_test_split()\n",
    "train, validate = train_test_split(train_validate, test_size=.3, random_state=175)"
   ]
  },
  {
   "cell_type": "code",
   "execution_count": 250,
   "id": "dfdb44b1",
   "metadata": {},
   "outputs": [
    {
     "data": {
      "text/plain": [
       "(29260, 4)"
      ]
     },
     "execution_count": 250,
     "metadata": {},
     "output_type": "execute_result"
    }
   ],
   "source": [
    "# Verifying the number of columns and rows in the split data (train, validate, and test)\n",
    "\n",
    "train.shape"
   ]
  },
  {
   "cell_type": "code",
   "execution_count": 251,
   "id": "49912b50",
   "metadata": {},
   "outputs": [
    {
     "data": {
      "text/plain": [
       "(12540, 4)"
      ]
     },
     "execution_count": 251,
     "metadata": {},
     "output_type": "execute_result"
    }
   ],
   "source": [
    "validate.shape"
   ]
  },
  {
   "cell_type": "code",
   "execution_count": 252,
   "id": "4f82765f",
   "metadata": {},
   "outputs": [
    {
     "data": {
      "text/plain": [
       "(10450, 4)"
      ]
     },
     "execution_count": 252,
     "metadata": {},
     "output_type": "execute_result"
    }
   ],
   "source": [
    "test.shape"
   ]
  },
  {
   "cell_type": "markdown",
   "id": "510f6fad",
   "metadata": {},
   "source": [
    "### <font color = 'brown'>The y_train, y_validate, and y_test</font>"
   ]
  },
  {
   "cell_type": "code",
   "execution_count": 253,
   "id": "8eacf1a1",
   "metadata": {},
   "outputs": [],
   "source": [
    "y_train = train.tax_value\n",
    "y_validate = validate.tax_value\n",
    "y_test = test.tax_value"
   ]
  },
  {
   "cell_type": "code",
   "execution_count": 256,
   "id": "e76fe3af",
   "metadata": {},
   "outputs": [],
   "source": [
    "# I will confirm that y_train is a series\n",
    "\n",
    "y_train?\n",
    "# y_train is indeed a series"
   ]
  },
  {
   "cell_type": "markdown",
   "id": "4834913c",
   "metadata": {},
   "source": [
    "### 2. Scaling"
   ]
  },
  {
   "cell_type": "markdown",
   "id": "7e90c200",
   "metadata": {},
   "source": [
    "**Now I will create a dataframe that holds the features 'bedrooms', 'bathrooms', 'indoor_sqft' only**\n"
   ]
  },
  {
   "cell_type": "code",
   "execution_count": 157,
   "id": "587a85bf",
   "metadata": {
    "scrolled": true
   },
   "outputs": [
    {
     "data": {
      "text/html": [
       "<div>\n",
       "<style scoped>\n",
       "    .dataframe tbody tr th:only-of-type {\n",
       "        vertical-align: middle;\n",
       "    }\n",
       "\n",
       "    .dataframe tbody tr th {\n",
       "        vertical-align: top;\n",
       "    }\n",
       "\n",
       "    .dataframe thead th {\n",
       "        text-align: right;\n",
       "    }\n",
       "</style>\n",
       "<table border=\"1\" class=\"dataframe\">\n",
       "  <thead>\n",
       "    <tr style=\"text-align: right;\">\n",
       "      <th></th>\n",
       "      <th>bedrooms</th>\n",
       "      <th>bathrooms</th>\n",
       "      <th>indoor_sqft</th>\n",
       "    </tr>\n",
       "  </thead>\n",
       "  <tbody>\n",
       "    <tr>\n",
       "      <th>47579</th>\n",
       "      <td>2</td>\n",
       "      <td>2.0</td>\n",
       "      <td>1313</td>\n",
       "    </tr>\n",
       "    <tr>\n",
       "      <th>48106</th>\n",
       "      <td>4</td>\n",
       "      <td>3.0</td>\n",
       "      <td>2629</td>\n",
       "    </tr>\n",
       "    <tr>\n",
       "      <th>31105</th>\n",
       "      <td>3</td>\n",
       "      <td>2.0</td>\n",
       "      <td>1648</td>\n",
       "    </tr>\n",
       "    <tr>\n",
       "      <th>12420</th>\n",
       "      <td>3</td>\n",
       "      <td>2.0</td>\n",
       "      <td>1580</td>\n",
       "    </tr>\n",
       "    <tr>\n",
       "      <th>16659</th>\n",
       "      <td>4</td>\n",
       "      <td>5.0</td>\n",
       "      <td>2547</td>\n",
       "    </tr>\n",
       "  </tbody>\n",
       "</table>\n",
       "</div>"
      ],
      "text/plain": [
       "       bedrooms  bathrooms  indoor_sqft\n",
       "47579         2        2.0         1313\n",
       "48106         4        3.0         2629\n",
       "31105         3        2.0         1648\n",
       "12420         3        2.0         1580\n",
       "16659         4        5.0         2547"
      ]
     },
     "execution_count": 157,
     "metadata": {},
     "output_type": "execute_result"
    }
   ],
   "source": [
    "# Creating a dataframe that holds the features 'bedrooms', 'bathrooms', 'indoor_sqft' only\n",
    "\n",
    "for_scaling_train = train.drop(['tax_value'], axis=1)\n",
    "\n",
    "for_scaling_train.head()"
   ]
  },
  {
   "cell_type": "code",
   "execution_count": 158,
   "id": "100d7822",
   "metadata": {},
   "outputs": [
    {
     "data": {
      "text/html": [
       "<div>\n",
       "<style scoped>\n",
       "    .dataframe tbody tr th:only-of-type {\n",
       "        vertical-align: middle;\n",
       "    }\n",
       "\n",
       "    .dataframe tbody tr th {\n",
       "        vertical-align: top;\n",
       "    }\n",
       "\n",
       "    .dataframe thead th {\n",
       "        text-align: right;\n",
       "    }\n",
       "</style>\n",
       "<table border=\"1\" class=\"dataframe\">\n",
       "  <thead>\n",
       "    <tr style=\"text-align: right;\">\n",
       "      <th></th>\n",
       "      <th>bedrooms</th>\n",
       "      <th>bathrooms</th>\n",
       "      <th>indoor_sqft</th>\n",
       "    </tr>\n",
       "  </thead>\n",
       "  <tbody>\n",
       "    <tr>\n",
       "      <th>21269</th>\n",
       "      <td>3</td>\n",
       "      <td>2.0</td>\n",
       "      <td>1321</td>\n",
       "    </tr>\n",
       "    <tr>\n",
       "      <th>14154</th>\n",
       "      <td>4</td>\n",
       "      <td>2.0</td>\n",
       "      <td>2299</td>\n",
       "    </tr>\n",
       "    <tr>\n",
       "      <th>12063</th>\n",
       "      <td>3</td>\n",
       "      <td>2.0</td>\n",
       "      <td>1550</td>\n",
       "    </tr>\n",
       "    <tr>\n",
       "      <th>22428</th>\n",
       "      <td>2</td>\n",
       "      <td>2.0</td>\n",
       "      <td>1296</td>\n",
       "    </tr>\n",
       "    <tr>\n",
       "      <th>13790</th>\n",
       "      <td>3</td>\n",
       "      <td>2.0</td>\n",
       "      <td>1848</td>\n",
       "    </tr>\n",
       "  </tbody>\n",
       "</table>\n",
       "</div>"
      ],
      "text/plain": [
       "       bedrooms  bathrooms  indoor_sqft\n",
       "21269         3        2.0         1321\n",
       "14154         4        2.0         2299\n",
       "12063         3        2.0         1550\n",
       "22428         2        2.0         1296\n",
       "13790         3        2.0         1848"
      ]
     },
     "execution_count": 158,
     "metadata": {},
     "output_type": "execute_result"
    }
   ],
   "source": [
    "# Creating a dataframe that holds the features 'bedrooms', 'bathrooms', 'indoor_sqft' only for the validate set\n",
    "\n",
    "for_scaling_validate = validate.drop(['tax_value'], axis=1)\n",
    "\n",
    "for_scaling_validate.head()"
   ]
  },
  {
   "cell_type": "code",
   "execution_count": 159,
   "id": "c40526a8",
   "metadata": {},
   "outputs": [
    {
     "data": {
      "text/html": [
       "<div>\n",
       "<style scoped>\n",
       "    .dataframe tbody tr th:only-of-type {\n",
       "        vertical-align: middle;\n",
       "    }\n",
       "\n",
       "    .dataframe tbody tr th {\n",
       "        vertical-align: top;\n",
       "    }\n",
       "\n",
       "    .dataframe thead th {\n",
       "        text-align: right;\n",
       "    }\n",
       "</style>\n",
       "<table border=\"1\" class=\"dataframe\">\n",
       "  <thead>\n",
       "    <tr style=\"text-align: right;\">\n",
       "      <th></th>\n",
       "      <th>bedrooms</th>\n",
       "      <th>bathrooms</th>\n",
       "      <th>indoor_sqft</th>\n",
       "    </tr>\n",
       "  </thead>\n",
       "  <tbody>\n",
       "    <tr>\n",
       "      <th>26094</th>\n",
       "      <td>3</td>\n",
       "      <td>2.0</td>\n",
       "      <td>1425</td>\n",
       "    </tr>\n",
       "    <tr>\n",
       "      <th>43255</th>\n",
       "      <td>3</td>\n",
       "      <td>2.0</td>\n",
       "      <td>1342</td>\n",
       "    </tr>\n",
       "    <tr>\n",
       "      <th>8763</th>\n",
       "      <td>3</td>\n",
       "      <td>3.0</td>\n",
       "      <td>2994</td>\n",
       "    </tr>\n",
       "    <tr>\n",
       "      <th>39117</th>\n",
       "      <td>3</td>\n",
       "      <td>1.5</td>\n",
       "      <td>1150</td>\n",
       "    </tr>\n",
       "    <tr>\n",
       "      <th>48840</th>\n",
       "      <td>2</td>\n",
       "      <td>2.0</td>\n",
       "      <td>1411</td>\n",
       "    </tr>\n",
       "  </tbody>\n",
       "</table>\n",
       "</div>"
      ],
      "text/plain": [
       "       bedrooms  bathrooms  indoor_sqft\n",
       "26094         3        2.0         1425\n",
       "43255         3        2.0         1342\n",
       "8763          3        3.0         2994\n",
       "39117         3        1.5         1150\n",
       "48840         2        2.0         1411"
      ]
     },
     "execution_count": 159,
     "metadata": {},
     "output_type": "execute_result"
    }
   ],
   "source": [
    "# Creating a dataframe that holds the features 'bedrooms', 'bathrooms', 'indoor_sqft' only for the test set\n",
    "\n",
    "for_scaling_test = test.drop(['tax_value'], axis=1)\n",
    "\n",
    "for_scaling_test.head()"
   ]
  },
  {
   "cell_type": "markdown",
   "id": "6a2df9cd",
   "metadata": {},
   "source": [
    "**My next step is to create a Scaler Variable for each type of Scaler I am going to use (Standard, Robust, and Quantile)**"
   ]
  },
  {
   "cell_type": "markdown",
   "id": "76702d04",
   "metadata": {},
   "source": [
    "### <font color = 'brown'>Standard Scaler</font>"
   ]
  },
  {
   "cell_type": "code",
   "execution_count": 160,
   "id": "25b91b65",
   "metadata": {},
   "outputs": [
    {
     "data": {
      "text/plain": [
       "StandardScaler()"
      ]
     },
     "execution_count": 160,
     "metadata": {},
     "output_type": "execute_result"
    }
   ],
   "source": [
    "# Applying the standard scaler to the train data and fitting it\n",
    "\n",
    "standard_scaler1 = sklearn.preprocessing.StandardScaler()\n",
    "\n",
    "standard_scaler1.fit(for_scaling_train)"
   ]
  },
  {
   "cell_type": "code",
   "execution_count": 161,
   "id": "ef8a81ba",
   "metadata": {},
   "outputs": [
    {
     "data": {
      "text/plain": [
       "StandardScaler()"
      ]
     },
     "execution_count": 161,
     "metadata": {},
     "output_type": "execute_result"
    }
   ],
   "source": [
    "# Applying the standard scaler to the validate data and fitting it\n",
    "\n",
    "standard_scaler2 = sklearn.preprocessing.StandardScaler()\n",
    "\n",
    "standard_scaler2.fit(for_scaling_validate)"
   ]
  },
  {
   "cell_type": "code",
   "execution_count": 162,
   "id": "a079019e",
   "metadata": {},
   "outputs": [
    {
     "data": {
      "text/plain": [
       "StandardScaler()"
      ]
     },
     "execution_count": 162,
     "metadata": {},
     "output_type": "execute_result"
    }
   ],
   "source": [
    "# Applying the standard scaler to the test data and fitting it\n",
    "\n",
    "standard_scaler3 = sklearn.preprocessing.StandardScaler()\n",
    "\n",
    "standard_scaler3.fit(for_scaling_test)"
   ]
  },
  {
   "cell_type": "markdown",
   "id": "4b02a2c3",
   "metadata": {},
   "source": [
    "**I will now scale the data with Standard Scaler**"
   ]
  },
  {
   "cell_type": "code",
   "execution_count": 163,
   "id": "ecb6e428",
   "metadata": {},
   "outputs": [],
   "source": [
    "# Using Standard scaler to scale th data\n",
    "\n",
    "X_train_standard = standard_scaler1.transform(for_scaling_train)\n",
    "X_validate_standard = standard_scaler2.transform(for_scaling_validate)\n",
    "X_test_standard = standard_scaler3.transform(for_scaling_test)"
   ]
  },
  {
   "cell_type": "code",
   "execution_count": 164,
   "id": "eeb812be",
   "metadata": {},
   "outputs": [
    {
     "data": {
      "text/plain": [
       "array([[-1.40188473, -0.29474639, -0.63235425],\n",
       "       [ 0.75344444,  0.71329282,  0.76984155],\n",
       "       [-0.32422014, -0.29474639, -0.27541231],\n",
       "       ...,\n",
       "       [-1.40188473, -0.29474639, -0.4064686 ],\n",
       "       [ 0.75344444, -0.29474639, -0.58440683],\n",
       "       [ 0.75344444,  0.71329282,  0.88384987]])"
      ]
     },
     "execution_count": 164,
     "metadata": {},
     "output_type": "execute_result"
    }
   ],
   "source": [
    "# Checking the shape and content of the X_train_standard to make sure it returns the expected array\n",
    "\n",
    "X_train_standard"
   ]
  },
  {
   "cell_type": "markdown",
   "id": "70e46e31",
   "metadata": {},
   "source": [
    "### <font color = 'brown'>**Robust Scaler**</font>"
   ]
  },
  {
   "cell_type": "code",
   "execution_count": 165,
   "id": "e2529ec6",
   "metadata": {},
   "outputs": [
    {
     "data": {
      "text/plain": [
       "RobustScaler()"
      ]
     },
     "execution_count": 165,
     "metadata": {},
     "output_type": "execute_result"
    }
   ],
   "source": [
    "# Assigning Robust scaler to a variable and fitting it for train\n",
    "robust_scaler1 = sklearn.preprocessing.RobustScaler()\n",
    "\n",
    "robust_scaler1.fit(for_scaling_train)"
   ]
  },
  {
   "cell_type": "code",
   "execution_count": 166,
   "id": "e9969fef",
   "metadata": {},
   "outputs": [
    {
     "data": {
      "text/plain": [
       "RobustScaler()"
      ]
     },
     "execution_count": 166,
     "metadata": {},
     "output_type": "execute_result"
    }
   ],
   "source": [
    "# Assigning Robust scaler to a variable and fitting it for validate\n",
    "robust_scaler2 = sklearn.preprocessing.RobustScaler()\n",
    "\n",
    "robust_scaler2.fit(for_scaling_validate)"
   ]
  },
  {
   "cell_type": "code",
   "execution_count": 167,
   "id": "573bdbce",
   "metadata": {},
   "outputs": [
    {
     "data": {
      "text/plain": [
       "RobustScaler()"
      ]
     },
     "execution_count": 167,
     "metadata": {},
     "output_type": "execute_result"
    }
   ],
   "source": [
    "# Assigning Robust scaler to a variable and fitting it for test\n",
    "robust_scaler3 = sklearn.preprocessing.RobustScaler()\n",
    "\n",
    "robust_scaler3.fit(for_scaling_test)"
   ]
  },
  {
   "cell_type": "code",
   "execution_count": 168,
   "id": "516e014b",
   "metadata": {},
   "outputs": [],
   "source": [
    "# Applying the robust scaler to the train data\n",
    "\n",
    "X_train_robust = standard_scaler1.transform(for_scaling_train)\n",
    "X_validate_robust = standard_scaler2.transform(for_scaling_validate)\n",
    "X_test_robust = standard_scaler3.transform(for_scaling_test)"
   ]
  },
  {
   "cell_type": "code",
   "execution_count": 169,
   "id": "c46c258c",
   "metadata": {},
   "outputs": [
    {
     "data": {
      "text/plain": [
       "array([[-1.40188473, -0.29474639, -0.63235425],\n",
       "       [ 0.75344444,  0.71329282,  0.76984155],\n",
       "       [-0.32422014, -0.29474639, -0.27541231],\n",
       "       ...,\n",
       "       [-1.40188473, -0.29474639, -0.4064686 ],\n",
       "       [ 0.75344444, -0.29474639, -0.58440683],\n",
       "       [ 0.75344444,  0.71329282,  0.88384987]])"
      ]
     },
     "execution_count": 169,
     "metadata": {},
     "output_type": "execute_result"
    }
   ],
   "source": [
    "# Checking the shape and content of the X_train_robust to make sure it returns the expected array\n",
    "\n",
    "X_train_robust"
   ]
  },
  {
   "cell_type": "markdown",
   "id": "6137f54f",
   "metadata": {},
   "source": [
    "### <font color = 'brown'>**Quantile Scaler**</font>"
   ]
  },
  {
   "cell_type": "code",
   "execution_count": 170,
   "id": "4f8e3484",
   "metadata": {},
   "outputs": [
    {
     "data": {
      "text/plain": [
       "QuantileTransformer()"
      ]
     },
     "execution_count": 170,
     "metadata": {},
     "output_type": "execute_result"
    }
   ],
   "source": [
    "# Assigning Quantile scaler to a variable and fitting it for train\n",
    "quantile_scaler1 = sklearn.preprocessing.QuantileTransformer()\n",
    "\n",
    "quantile_scaler1.fit(for_scaling_train)"
   ]
  },
  {
   "cell_type": "code",
   "execution_count": 171,
   "id": "b3fa8ef7",
   "metadata": {},
   "outputs": [
    {
     "data": {
      "text/plain": [
       "QuantileTransformer()"
      ]
     },
     "execution_count": 171,
     "metadata": {},
     "output_type": "execute_result"
    }
   ],
   "source": [
    "# Assigning Quantile scaler to a variable and fitting it for validate\n",
    "quantile_scaler2 = sklearn.preprocessing.QuantileTransformer()\n",
    "\n",
    "quantile_scaler2.fit(for_scaling_validate)"
   ]
  },
  {
   "cell_type": "code",
   "execution_count": 172,
   "id": "a84246f9",
   "metadata": {},
   "outputs": [
    {
     "data": {
      "text/plain": [
       "QuantileTransformer()"
      ]
     },
     "execution_count": 172,
     "metadata": {},
     "output_type": "execute_result"
    }
   ],
   "source": [
    "# Assigning Quantile scaler to a variable and fitting it for test\n",
    "quantile_scaler3 = sklearn.preprocessing.QuantileTransformer()\n",
    "\n",
    "quantile_scaler3.fit(for_scaling_test)"
   ]
  },
  {
   "cell_type": "code",
   "execution_count": 173,
   "id": "9778513b",
   "metadata": {},
   "outputs": [],
   "source": [
    "# Applying the quantile scaker to the train data\n",
    "\n",
    "X_train_quantile = quantile_scaler1.transform(for_scaling_train)\n",
    "X_validate_quantile = quantile_scaler2.transform(for_scaling_validate)\n",
    "X_test_quantile = quantile_scaler3.transform(for_scaling_test)"
   ]
  },
  {
   "cell_type": "code",
   "execution_count": 174,
   "id": "9612e049",
   "metadata": {
    "scrolled": true
   },
   "outputs": [
    {
     "data": {
      "text/plain": [
       "array([[0.09159159, 0.40990991, 0.28228228],\n",
       "       [0.76476476, 0.7957958 , 0.82802803],\n",
       "       [0.3953954 , 0.40990991, 0.49572489],\n",
       "       ...,\n",
       "       [0.09159159, 0.40990991, 0.42192192],\n",
       "       [0.76476476, 0.40990991, 0.31131131],\n",
       "       [0.76476476, 0.7957958 , 0.84704008]])"
      ]
     },
     "execution_count": 174,
     "metadata": {},
     "output_type": "execute_result"
    }
   ],
   "source": [
    "# Checking the shape and content of the train_scaled_standard to make sure it returns the expected array\n",
    "\n",
    "X_train_quantile"
   ]
  },
  {
   "cell_type": "markdown",
   "id": "9a91dc37",
   "metadata": {},
   "source": [
    "**After finishing all these splits and scalers I realized that I don't need all of them for my MVP so I will choose just one for my MVP and come back to the others if I have enough time**"
   ]
  },
  {
   "cell_type": "markdown",
   "id": "755dabe2",
   "metadata": {},
   "source": [
    "## B. Exploration on unscaled data"
   ]
  },
  {
   "cell_type": "markdown",
   "id": "79d988eb",
   "metadata": {},
   "source": [
    "## Bedrooms column"
   ]
  },
  {
   "cell_type": "markdown",
   "id": "20f644ac",
   "metadata": {},
   "source": [
    "**Hypothesis setting**\n",
    "- Null hypothesis: $H_{0}$: there is no correlation between the number of bedrooms and the tax value of the properties\n",
    "\n",
    "\n",
    "- Alternative hypothesis: $H_{A}$: there is a correlation between the number of bedrooms and the tax value of the properties."
   ]
  },
  {
   "cell_type": "code",
   "execution_count": 66,
   "id": "4989ad74",
   "metadata": {
    "scrolled": false
   },
   "outputs": [
    {
     "data": {
      "image/png": "[encoded data removed]",
      "text/plain": [
       "<Figure size 360x360 with 1 Axes>"
      ]
     },
     "metadata": {
      "needs_background": "light"
     },
     "output_type": "display_data"
    }
   ],
   "source": [
    "# Plotting a scatter plot to visualize the existence or not of a correlation before running a statistical test\n",
    "\n",
    "sns.relplot(x='bedrooms', y='tax_value', data=train)\n",
    "plt.show()"
   ]
  },
  {
   "cell_type": "code",
   "execution_count": 59,
   "id": "6d3e144e",
   "metadata": {},
   "outputs": [
    {
     "data": {
      "text/plain": [
       "<AxesSubplot:xlabel='bedrooms', ylabel='tax_value'>"
      ]
     },
     "execution_count": 59,
     "metadata": {},
     "output_type": "execute_result"
    },
    {
     "data": {
      "image/png": "[encoded data removed]",
      "text/plain": [
       "<Figure size 432x288 with 1 Axes>"
      ]
     },
     "metadata": {
      "needs_background": "light"
     },
     "output_type": "display_data"
    }
   ],
   "source": [
    "# Using a stripplot to further investigate the data\n",
    "\n",
    "sns.stripplot(x='bedrooms', y='tax_value', data=train)"
   ]
  },
  {
   "cell_type": "markdown",
   "id": "387aa9e1",
   "metadata": {},
   "source": [
    "* Observations\n",
    "    - The scatter plot and the strip plot display slightly different distribution of the data\n",
    "        - 11 bedroom outlier missing in strip plot\n",
    "        - outliers better represented\n",
    "        - I would rather use the information from the scatter plot\n",
    "    - As the number of bedrooms go from 0 to 7, I notice that there is an increase of the tax value af the properties\n",
    "    - A great number of properties (with 0 to 11 bedrooms) have their prices conglomerated between the tax value of 0.0 and 0.6*10^7\n",
    "    - The number of bedrooms is not always synonnymous of greater tax value\n",
    "    - There is a 4 bedroom property that has a tax value far greater than all the other properties\n",
    "    - Overall there doesn't seem to be a very strong linear relationship between the two series\n",
    "\n",
    "* Action\n",
    "    - Perform statistical analyses to determine the correlation between the two variables (the shape of the chart and the nature of the data hints towards a Spearman test but I'll start with a Pearson first)"
   ]
  },
  {
   "cell_type": "code",
   "execution_count": 62,
   "id": "fec633b4",
   "metadata": {
    "scrolled": true
   },
   "outputs": [
    {
     "name": "stdout",
     "output_type": "stream",
     "text": [
      "r is 0.262\n",
      "p is 0.0000000000\n"
     ]
    }
   ],
   "source": [
    "# I'll perform a Pearson test first to see the the level of correlation\n",
    "\n",
    "bedrooms_pearsonr = stats.pearsonr(train.bedrooms, train.tax_value)\n",
    "r, p = bedrooms_pearsonr\n",
    "\n",
    "print(f'r is {r:.3f}')\n",
    "print(f'p is {p:.10f}')"
   ]
  },
  {
   "cell_type": "markdown",
   "id": "99cec480",
   "metadata": {},
   "source": [
    "<font color = 'brown'>**There is correlation because the p value is 0 up to 10 decimals and I can reject the null hypothesis. However, r is low = 0.26 meaning that 26% of the variation is explained by the relationship Bedrooms/Tax value. This does not surprise me because tax value goes up, then down, and remain the same in some case while bedrooms goes up**</font>\n",
    "\n",
    "I will perform a spearman test to further investigate but the shape of the graph tells me <font color = 'brown'>**I may need a Hoeffding D test**</font> as well but I will leave it for later if I have time"
   ]
  },
  {
   "cell_type": "code",
   "execution_count": 63,
   "id": "4401ba7a",
   "metadata": {},
   "outputs": [
    {
     "name": "stdout",
     "output_type": "stream",
     "text": [
      "r is 0.296\n",
      "p is 0.0000000000\n"
     ]
    }
   ],
   "source": [
    "# Performing a Spearman test to further investigate the correlation between bedrooms and tax value\n",
    "\n",
    "bedrooms_spearmanr = stats.spearmanr(train.bedrooms, train.tax_value)\n",
    "r, p = bedrooms_spearmanr\n",
    "\n",
    "print(f'r is {r:.3f}')\n",
    "print(f'p is {p:.10f}')"
   ]
  },
  {
   "cell_type": "markdown",
   "id": "6eea6c1c",
   "metadata": {},
   "source": [
    "<font color = 'brown'>**There is correlation because the p value is 0 up to 10 decimals and I can reject the null hypothesis. However, r is low = 0.29 meaning that 29% of the variation is explained by the relationship Bedrooms/Tax value. This does not surprise me because tax value goes up, then down, and remain the same in some case while bedrooms goes up**</font>"
   ]
  },
  {
   "cell_type": "markdown",
   "id": "a6f525cc",
   "metadata": {},
   "source": [
    "## Bathrooms column"
   ]
  },
  {
   "cell_type": "markdown",
   "id": "58d581b9",
   "metadata": {},
   "source": [
    "**Hypothesis setting**\n",
    "- Null hypothesis: $H_{0}$: there is no correlation between the number of bathrooms and the tax value of the properties\n",
    "\n",
    "\n",
    "- Alternative hypothesis: $H_{A}$: there is a correlation between the number of bathrooms and the tax value of the properties."
   ]
  },
  {
   "cell_type": "code",
   "execution_count": 284,
   "id": "6f90e043",
   "metadata": {},
   "outputs": [],
   "source": [
    "# Alpha is set at 0.5 for comparison with the p-value\n",
    "alpha = .05"
   ]
  },
  {
   "cell_type": "code",
   "execution_count": 83,
   "id": "05d3d209",
   "metadata": {
    "scrolled": false
   },
   "outputs": [
    {
     "data": {
      "image/png": "[encoded data removed]",
      "text/plain": [
       "<Figure size 360x360 with 1 Axes>"
      ]
     },
     "metadata": {
      "needs_background": "light"
     },
     "output_type": "display_data"
    }
   ],
   "source": [
    "# Plotting a scatter plot to visualize the existence or not of a correlation before running a statistical test\n",
    "\n",
    "sns.relplot(x='bathrooms', y='tax_value', data=train)\n",
    "plt.show()"
   ]
  },
  {
   "cell_type": "code",
   "execution_count": 60,
   "id": "c2a23412",
   "metadata": {},
   "outputs": [
    {
     "data": {
      "text/plain": [
       "<AxesSubplot:xlabel='bathrooms', ylabel='tax_value'>"
      ]
     },
     "execution_count": 60,
     "metadata": {},
     "output_type": "execute_result"
    },
    {
     "data": {
      "image/png": "[encoded data removed]",
      "text/plain": [
       "<Figure size 432x288 with 1 Axes>"
      ]
     },
     "metadata": {
      "needs_background": "light"
     },
     "output_type": "display_data"
    }
   ],
   "source": [
    "# Using a stripplot to further investigate the data\n",
    "\n",
    "sns.stripplot(x='bathrooms', y='tax_value', data=train)"
   ]
  },
  {
   "cell_type": "markdown",
   "id": "709fcfea",
   "metadata": {},
   "source": [
    "* Observations\n",
    "    - Here too the scatter plot performs better. I will use it instead\n",
    "    - The correlation seems stronger here because it mostly goes up except for a few outliers\n",
    "    - One constant is that up to a certain tax value, about 0.3, there are houses with 0 to 7 bathrooms except for 6.5 bathrooms\n",
    "    - There are no houses with 0.5 bathrooms\n",
    "* Action\n",
    "    - Perform a Pearson then a Spearman analysis to test for correlation"
   ]
  },
  {
   "cell_type": "code",
   "execution_count": 64,
   "id": "b3770cc7",
   "metadata": {
    "scrolled": true
   },
   "outputs": [
    {
     "name": "stdout",
     "output_type": "stream",
     "text": [
      "r is 0.513\n",
      "p is 0.0000000000\n"
     ]
    }
   ],
   "source": [
    "# I'll perform a Pearson test first to see the level of correlation\n",
    "\n",
    "bathrooms_pearsonr = stats.pearsonr(train.bathrooms, train.tax_value)\n",
    "r, p = bathrooms_pearsonr\n",
    "\n",
    "print(f'r is {r:.3f}')\n",
    "print(f'p is {p:.10f}')"
   ]
  },
  {
   "cell_type": "markdown",
   "id": "93660895",
   "metadata": {},
   "source": [
    "<font color = 'brown'>**There is correlation and I can reject the null hypothesis because the p value is 0 up to 10 decimals. The r value is twice as high here = 0.5**</font>\n",
    "\n",
    "I will perform a spearman test to further investigate it"
   ]
  },
  {
   "cell_type": "code",
   "execution_count": 85,
   "id": "44367b82",
   "metadata": {},
   "outputs": [
    {
     "name": "stdout",
     "output_type": "stream",
     "text": [
      "r is 0.486\n",
      "p is 0.0000000000\n"
     ]
    }
   ],
   "source": [
    "# Performing a Spearman test to see what insight it can provide\n",
    "\n",
    "bathrooms_spearmanr = stats.spearmanr(train.bathrooms, train.tax_value)\n",
    "r, p = bathrooms_spearmanr\n",
    "\n",
    "print(f'r is {r:.3f}')\n",
    "print(f'p is {p:.10f}')"
   ]
  },
  {
   "cell_type": "markdown",
   "id": "ac6f833b",
   "metadata": {},
   "source": [
    "<font color = 'brown'>**There is correlation and I can reject the null hypothesis because the p value is 0 up to 10 decimals. The r value is lower than that of the Pearson one**</font>\n",
    "\n",
    "I will consider the Pearson test result"
   ]
  },
  {
   "cell_type": "markdown",
   "id": "578fb309",
   "metadata": {},
   "source": [
    "## Indoor square footage column"
   ]
  },
  {
   "cell_type": "markdown",
   "id": "e7b3fb70",
   "metadata": {},
   "source": [
    "**Hypothesis setting**\n",
    "- Null hypothesis: $H_{0}$: there is no correlation between the indoor square footage and the tax value of the properties\n",
    "\n",
    "\n",
    "- Alternative hypothesis: $H_{A}$: there is a correlation between the indoor square footage and the tax value of the properties."
   ]
  },
  {
   "cell_type": "code",
   "execution_count": 271,
   "id": "70d4a2f4",
   "metadata": {
    "scrolled": false
   },
   "outputs": [
    {
     "data": {
      "image/png": "[encoded data removed]",
      "text/plain": [
       "<Figure size 360x360 with 1 Axes>"
      ]
     },
     "metadata": {
      "needs_background": "light"
     },
     "output_type": "display_data"
    }
   ],
   "source": [
    "# Plotting a scatter plot to visualize the existence or not of a correlation before running a statistical test\n",
    "\n",
    "sns.lmplot(x='indoor_sqft', y='tax_value', data=train, line_kws={'color': '#FF00FF'})\n",
    "plt.show()"
   ]
  },
  {
   "cell_type": "markdown",
   "id": "8b5b5b5d",
   "metadata": {},
   "source": [
    "* Observations\n",
    "    - There is a general upward tendency of the data with the with outliers here as well\n",
    "    - The clustering of the data at the bottom of the graph (around y=tax_value= ~0.3) is still present\n",
    "* Actions\n",
    "    - Perform a Pearson then if necessary a Spearman analysis to test for correlation"
   ]
  },
  {
   "cell_type": "code",
   "execution_count": 65,
   "id": "f1dc4d7f",
   "metadata": {},
   "outputs": [
    {
     "name": "stdout",
     "output_type": "stream",
     "text": [
      "r is 0.582\n",
      "p is 0.0000000000\n"
     ]
    }
   ],
   "source": [
    "# I'll perform a Pearson test first to see the level of correlation\n",
    "\n",
    "indoor_sqft_pearsonr = stats.pearsonr(train.indoor_sqft, train.tax_value)\n",
    "r, p = indoor_sqft_pearsonr\n",
    "\n",
    "print(f'r is {r:.3f}')\n",
    "print(f'p is {p:.10f}')"
   ]
  },
  {
   "cell_type": "markdown",
   "id": "fdd08d7b",
   "metadata": {},
   "source": [
    "<font color = 'brown'>**There is correlation and I can reject the null hypothesis because the p value is 0 up to 10 decimals. The r value is higher here = 0.6**</font>\n",
    "\n",
    "I will perform a spearman test to further investigate it"
   ]
  },
  {
   "cell_type": "code",
   "execution_count": 66,
   "id": "751d1f4a",
   "metadata": {},
   "outputs": [
    {
     "name": "stdout",
     "output_type": "stream",
     "text": [
      "r is 0.529\n",
      "p is 0.0000000000\n"
     ]
    }
   ],
   "source": [
    "# Performing a Spearman test to see what insight it can provide\n",
    "# but from the shape of the data, I think it won't be more relevant\n",
    "\n",
    "indoor_sqft_spearmanr = stats.spearmanr(train.indoor_sqft, train.tax_value)\n",
    "r, p = indoor_sqft_spearmanr\n",
    "\n",
    "print(f'r is {r:.3f}')\n",
    "print(f'p is {p:.10f}')"
   ]
  },
  {
   "cell_type": "markdown",
   "id": "36fc5f2a",
   "metadata": {},
   "source": [
    "<font color = 'brown'>**There is correlation and I can reject the null hypothesis because the p value is 0 up to 10 decimals. The r value is lower than that of the Pearson one**</font>\n",
    "\n",
    "I will consider the Pearson test result"
   ]
  },
  {
   "cell_type": "markdown",
   "id": "d8a7542b",
   "metadata": {},
   "source": [
    "### General Takeaways of Statistical Analysis\n",
    "- There is a correlation between all the 3 columns bedrooms, bathrooms,  and indoor_sqft and tax_value\n",
    "- indoor_sqft seems to have the strongest correlation\n",
    "- I can move forward with modeling with all three variables"
   ]
  },
  {
   "cell_type": "markdown",
   "id": "e5fea69a",
   "metadata": {},
   "source": [
    "## General Takeaways of Scaling, Visualization and Statistical Analysis\n",
    "\n",
    "* Answers:\n",
    "    - The best scalers in my opinion are the ones that are not influenced by the outliers aka Standard, Robust and Quantile\n",
    "    - All of the variables in the dataset affect the tax value column\n",
    "    - indoor_sqft affects it the most\n",
    "    - I can use all of the independent variables for my models"
   ]
  },
  {
   "cell_type": "markdown",
   "id": "c5fac4e1",
   "metadata": {},
   "source": [
    "****"
   ]
  },
  {
   "cell_type": "markdown",
   "id": "df9effbd",
   "metadata": {},
   "source": [
    "# IV. Modeling"
   ]
  },
  {
   "cell_type": "markdown",
   "id": "f4464cb3",
   "metadata": {},
   "source": [
    "* Question: Which model is the best at predicting properties assessed values?\n",
    "\n",
    "    - Examine the shape of the tax value column to determine what model would work best\n",
    "    - Determine a baseline that will be used to compare the the models I will be creating\n",
    "    - Create an OLS, a LassoLars with alpha=3, and a Tweedie Regressor with power=1 & 3 and alpha=3\n",
    "    - Run the models on validate as well\n",
    "    - Compute an RMSE for each model and its validate and compare them all\n",
    "    - Choose the best model and run it on the test dataset"
   ]
  },
  {
   "cell_type": "markdown",
   "id": "25ac57d9",
   "metadata": {},
   "source": [
    "## A. Data shape"
   ]
  },
  {
   "cell_type": "markdown",
   "id": "46a91e1d",
   "metadata": {},
   "source": [
    "**I will plot my data again to have a fresh view of it then I will choose the model(s) I think would best perform**"
   ]
  },
  {
   "cell_type": "code",
   "execution_count": 282,
   "id": "ce2817e5",
   "metadata": {},
   "outputs": [
    {
     "data": {
      "image/png": "[encoded data removed]",
      "text/plain": [
       "<Figure size 1440x720 with 1 Axes>"
      ]
     },
     "metadata": {
      "needs_background": "light"
     },
     "output_type": "display_data"
    }
   ],
   "source": [
    "# Plotting a histogram with the approximation of the shape of the distribution\n",
    "\n",
    "plt.figure(figsize=(20, 10))\n",
    "sns.histplot(train.tax_value, kde=True)\n",
    "plt.show()"
   ]
  },
  {
   "cell_type": "markdown",
   "id": "c5130d2c",
   "metadata": {},
   "source": [
    "### * Observations\n",
    "    - Tax_value does not really have a normal distribution and has a lot of outliers\n",
    "    - It looks more like an inverse gaussian distribution or a poisson distribution\n",
    "### * Actions\n",
    "    - Because of the shape of the distribution, when I run the Tweedie model, I will use the power at 1 and 3"
   ]
  },
  {
   "cell_type": "markdown",
   "id": "aa10ace3",
   "metadata": {},
   "source": [
    "## B. Modeling"
   ]
  },
  {
   "cell_type": "markdown",
   "id": "272bf069",
   "metadata": {},
   "source": [
    "### 1. Baseline"
   ]
  },
  {
   "cell_type": "markdown",
   "id": "1d3215be",
   "metadata": {},
   "source": [
    "**I will establish the baseline through the mean and the median and compare**\n",
    "\n",
    "**My hypothesis is that median would work best because there is a lot of outliers in y_train**"
   ]
  },
  {
   "cell_type": "code",
   "execution_count": 257,
   "id": "fd22a938",
   "metadata": {},
   "outputs": [],
   "source": [
    "# I will set y_train and y_validate as dataframe first\n",
    "\n",
    "y_train = pd.DataFrame(y_train)\n",
    "y_validate = pd.DataFrame(y_validate)\n",
    "y_test = pd.DataFrame(y_test)"
   ]
  },
  {
   "cell_type": "code",
   "execution_count": 258,
   "id": "1deee6d6",
   "metadata": {},
   "outputs": [],
   "source": [
    "# I will confirm that y_train has become a dataframe\n",
    "\n",
    "y_train?\n",
    "# y_train has become a dataframe"
   ]
  },
  {
   "cell_type": "code",
   "execution_count": 259,
   "id": "f1998d96",
   "metadata": {},
   "outputs": [],
   "source": [
    "# I will confirm that y_validate has become a dataframe\n",
    "\n",
    "y_validate?\n",
    "# y_validate has become a dataframe"
   ]
  },
  {
   "cell_type": "code",
   "execution_count": 260,
   "id": "44aec6b1",
   "metadata": {},
   "outputs": [],
   "source": [
    "# I will confirm that y_test has become a dataframe\n",
    "\n",
    "y_test?\n",
    "# y_test has become a dataframe"
   ]
  },
  {
   "cell_type": "code",
   "execution_count": 154,
   "id": "ceb91a5b",
   "metadata": {},
   "outputs": [],
   "source": [
    "# Computing tax_value median\n",
    "\n",
    "tax_value_pred_median = y_train['tax_value'].median()\n",
    "y_train['tax_value_pred_median'] = tax_value_pred_median\n",
    "y_validate['tax_value_pred_median'] = tax_value_pred_median"
   ]
  },
  {
   "cell_type": "code",
   "execution_count": 155,
   "id": "e5064191",
   "metadata": {},
   "outputs": [],
   "source": [
    "# Computing tax_value mean\n",
    "\n",
    "tax_value_pred_mean = y_train['tax_value'].mean()\n",
    "y_train['tax_value_pred_mean'] = tax_value_pred_mean\n",
    "y_validate['tax_value_pred_mean'] = tax_value_pred_mean"
   ]
  },
  {
   "cell_type": "markdown",
   "id": "46d162b7",
   "metadata": {},
   "source": [
    "**Evaluating the baseline**"
   ]
  },
  {
   "cell_type": "code",
   "execution_count": 146,
   "id": "e88a01b1",
   "metadata": {},
   "outputs": [
    {
     "name": "stdout",
     "output_type": "stream",
     "text": [
      "RMSE using the median\n",
      "Train:  654028.5169540899 \n",
      "Validate:  619700.2305704806\n"
     ]
    }
   ],
   "source": [
    "# Calculating RMSE for median\n",
    "\n",
    "rmse_train_median = math.sqrt(mean_squared_error(y_train.tax_value, y_train.tax_value_pred_median))\n",
    "rmse_validate_median = math.sqrt(mean_squared_error(y_validate.tax_value, y_validate.tax_value_pred_median))\n",
    "\n",
    "print('RMSE using the median\\nTrain: ', rmse_train_median, '\\nValidate: ', rmse_validate_median)"
   ]
  },
  {
   "cell_type": "code",
   "execution_count": 147,
   "id": "92b627ed",
   "metadata": {
    "scrolled": true
   },
   "outputs": [
    {
     "name": "stdout",
     "output_type": "stream",
     "text": [
      "RMSE using the mean\n",
      "Train:  638024.3698355088 \n",
      "Validate:  602948.5814780932\n"
     ]
    }
   ],
   "source": [
    "# Calculating RMSE for mean\n",
    "\n",
    "rmse_train_mean = math.sqrt(mean_squared_error(y_train.tax_value, y_train.tax_value_pred_mean))\n",
    "rmse_validate_mean = math.sqrt(mean_squared_error(y_validate.tax_value, y_validate.tax_value_pred_mean))\n",
    "\n",
    "print('RMSE using the mean\\nTrain: ', rmse_train_mean, '\\nValidate: ', rmse_validate_mean)"
   ]
  },
  {
   "cell_type": "markdown",
   "id": "49074500",
   "metadata": {},
   "source": [
    "### Baseline Takeaways\n",
    "    - The RMSE for the median is higher than the RMSE for the mean. To my surprise, the RMSE for the mean has a better fit than that of the median\n",
    "    - I will use the mean as a baseline"
   ]
  },
  {
   "cell_type": "markdown",
   "id": "2053dc7f",
   "metadata": {},
   "source": [
    "## 2. Modeling"
   ]
  },
  {
   "cell_type": "markdown",
   "id": "1e6679c7",
   "metadata": {},
   "source": [
    "**I will be modeling on the Standard Scaler first, then on the Robust one, and if still not satisfactory, I will try the Quantile Scaler to finish**\n",
    "\n",
    "**I will use the OLS model, the LASSO+LARS model and the Polynomial Regression model**"
   ]
  },
  {
   "cell_type": "markdown",
   "id": "8a0a459c",
   "metadata": {},
   "source": [
    "### <font color = 'brown'>**OLS Model with X_train_standard, Standard Scaler**</font>"
   ]
  },
  {
   "cell_type": "code",
   "execution_count": 175,
   "id": "59df58ff",
   "metadata": {
    "scrolled": false
   },
   "outputs": [
    {
     "data": {
      "text/html": [
       "<div>\n",
       "<style scoped>\n",
       "    .dataframe tbody tr th:only-of-type {\n",
       "        vertical-align: middle;\n",
       "    }\n",
       "\n",
       "    .dataframe tbody tr th {\n",
       "        vertical-align: top;\n",
       "    }\n",
       "\n",
       "    .dataframe thead th {\n",
       "        text-align: right;\n",
       "    }\n",
       "</style>\n",
       "<table border=\"1\" class=\"dataframe\">\n",
       "  <thead>\n",
       "    <tr style=\"text-align: right;\">\n",
       "      <th></th>\n",
       "      <th>tax_value</th>\n",
       "      <th>tax_value_pred_median</th>\n",
       "      <th>tax_value_pred_mean</th>\n",
       "      <th>tax_value_predicted</th>\n",
       "    </tr>\n",
       "  </thead>\n",
       "  <tbody>\n",
       "    <tr>\n",
       "      <th>47579</th>\n",
       "      <td>629682</td>\n",
       "      <td>370998.0</td>\n",
       "      <td>514797.1811</td>\n",
       "      <td>430742.893627</td>\n",
       "    </tr>\n",
       "    <tr>\n",
       "      <th>48106</th>\n",
       "      <td>183245</td>\n",
       "      <td>370998.0</td>\n",
       "      <td>514797.1811</td>\n",
       "      <td>771514.457988</td>\n",
       "    </tr>\n",
       "    <tr>\n",
       "      <th>31105</th>\n",
       "      <td>564365</td>\n",
       "      <td>370998.0</td>\n",
       "      <td>514797.1811</td>\n",
       "      <td>426475.611930</td>\n",
       "    </tr>\n",
       "    <tr>\n",
       "      <th>12420</th>\n",
       "      <td>105997</td>\n",
       "      <td>370998.0</td>\n",
       "      <td>514797.1811</td>\n",
       "      <td>399158.891178</td>\n",
       "    </tr>\n",
       "    <tr>\n",
       "      <th>16659</th>\n",
       "      <td>854982</td>\n",
       "      <td>370998.0</td>\n",
       "      <td>514797.1811</td>\n",
       "      <td>918168.267727</td>\n",
       "    </tr>\n",
       "  </tbody>\n",
       "</table>\n",
       "</div>"
      ],
      "text/plain": [
       "       tax_value  tax_value_pred_median  tax_value_pred_mean  \\\n",
       "47579     629682               370998.0          514797.1811   \n",
       "48106     183245               370998.0          514797.1811   \n",
       "31105     564365               370998.0          514797.1811   \n",
       "12420     105997               370998.0          514797.1811   \n",
       "16659     854982               370998.0          514797.1811   \n",
       "\n",
       "       tax_value_predicted  \n",
       "47579        430742.893627  \n",
       "48106        771514.457988  \n",
       "31105        426475.611930  \n",
       "12420        399158.891178  \n",
       "16659        918168.267727  "
      ]
     },
     "execution_count": 175,
     "metadata": {},
     "output_type": "execute_result"
    }
   ],
   "source": [
    "# Creating the model object\n",
    "lm = LinearRegression(normalize=True)\n",
    "\n",
    "# Fitting the model to training data\n",
    "lm.fit(X_train_standard, y_train.tax_value)\n",
    "\n",
    "# Making prediction on the train set\n",
    "y_train['tax_value_predicted'] = lm.predict(X_train_standard)\n",
    "\n",
    "# Displaying the y_train\n",
    "y_train.head()"
   ]
  },
  {
   "cell_type": "code",
   "execution_count": 177,
   "id": "c926e352",
   "metadata": {},
   "outputs": [],
   "source": [
    "# Making predictions on the validate set\n",
    "\n",
    "y_validate['tax_value_predicted'] = lm.predict(X_validate_standard)"
   ]
  },
  {
   "cell_type": "code",
   "execution_count": 186,
   "id": "ff83a795",
   "metadata": {
    "scrolled": true
   },
   "outputs": [
    {
     "name": "stdout",
     "output_type": "stream",
     "text": [
      "RMSE using OLS scaled on Standard Scaler\n",
      "\n",
      "Train:  509464.22684402234 \n",
      "Validate:  485529.30834429775\n"
     ]
    }
   ],
   "source": [
    "# Evaluating rmse_train and rmse_validate modeled on Standard Scaler\n",
    "\n",
    "rmse_train = math.sqrt(mean_squared_error(y_train.tax_value, y_train.tax_value_predicted))\n",
    "rmse_validate = math.sqrt(mean_squared_error(y_validate.tax_value, y_validate.tax_value_predicted))\n",
    "\n",
    "print('RMSE using OLS scaled on Standard Scaler Model\\n\\nTrain: ', rmse_train,\n",
    "      '\\nValidate: ', rmse_validate)"
   ]
  },
  {
   "cell_type": "markdown",
   "id": "83ae28c2",
   "metadata": {},
   "source": [
    "### Takeaways of OLS scaled on Standard Scaler modeling\n",
    "- The OLS model beats the mean baseline model by a fair amount both on the train and on the validate data\n",
    "    * RMSE using the mean\n",
    "        - Train:  638024.37 \n",
    "        - Validate:  602948.58\n",
    "    * RMSE OLS using LinearRegression\n",
    "        - Train:  509464.23\n",
    "        - Validate:  485529.31\n",
    "- I will run the next model"
   ]
  },
  {
   "cell_type": "markdown",
   "id": "748025d2",
   "metadata": {},
   "source": [
    "### <font color = 'brown'>**LassoLars Model with X_train_standard, Standard Scaler**</font>"
   ]
  },
  {
   "cell_type": "code",
   "execution_count": 189,
   "id": "94bfb5ef",
   "metadata": {},
   "outputs": [
    {
     "data": {
      "text/html": [
       "<div>\n",
       "<style scoped>\n",
       "    .dataframe tbody tr th:only-of-type {\n",
       "        vertical-align: middle;\n",
       "    }\n",
       "\n",
       "    .dataframe tbody tr th {\n",
       "        vertical-align: top;\n",
       "    }\n",
       "\n",
       "    .dataframe thead th {\n",
       "        text-align: right;\n",
       "    }\n",
       "</style>\n",
       "<table border=\"1\" class=\"dataframe\">\n",
       "  <thead>\n",
       "    <tr style=\"text-align: right;\">\n",
       "      <th></th>\n",
       "      <th>tax_value</th>\n",
       "      <th>tax_value_pred_median</th>\n",
       "      <th>tax_value_pred_mean</th>\n",
       "      <th>tax_value_predicted</th>\n",
       "      <th>tax_value_predicted2</th>\n",
       "    </tr>\n",
       "  </thead>\n",
       "  <tbody>\n",
       "    <tr>\n",
       "      <th>47579</th>\n",
       "      <td>629682</td>\n",
       "      <td>370998.0</td>\n",
       "      <td>514797.1811</td>\n",
       "      <td>430742.893627</td>\n",
       "      <td>429319.153398</td>\n",
       "    </tr>\n",
       "    <tr>\n",
       "      <th>48106</th>\n",
       "      <td>183245</td>\n",
       "      <td>370998.0</td>\n",
       "      <td>514797.1811</td>\n",
       "      <td>771514.457988</td>\n",
       "      <td>771479.819110</td>\n",
       "    </tr>\n",
       "    <tr>\n",
       "      <th>31105</th>\n",
       "      <td>564365</td>\n",
       "      <td>370998.0</td>\n",
       "      <td>514797.1811</td>\n",
       "      <td>426475.611930</td>\n",
       "      <td>426436.723538</td>\n",
       "    </tr>\n",
       "    <tr>\n",
       "      <th>12420</th>\n",
       "      <td>105997</td>\n",
       "      <td>370998.0</td>\n",
       "      <td>514797.1811</td>\n",
       "      <td>399158.891178</td>\n",
       "      <td>399176.535972</td>\n",
       "    </tr>\n",
       "    <tr>\n",
       "      <th>16659</th>\n",
       "      <td>854982</td>\n",
       "      <td>370998.0</td>\n",
       "      <td>514797.1811</td>\n",
       "      <td>918168.267727</td>\n",
       "      <td>916514.727101</td>\n",
       "    </tr>\n",
       "  </tbody>\n",
       "</table>\n",
       "</div>"
      ],
      "text/plain": [
       "       tax_value  tax_value_pred_median  tax_value_pred_mean  \\\n",
       "47579     629682               370998.0          514797.1811   \n",
       "48106     183245               370998.0          514797.1811   \n",
       "31105     564365               370998.0          514797.1811   \n",
       "12420     105997               370998.0          514797.1811   \n",
       "16659     854982               370998.0          514797.1811   \n",
       "\n",
       "       tax_value_predicted  tax_value_predicted2  \n",
       "47579        430742.893627         429319.153398  \n",
       "48106        771514.457988         771479.819110  \n",
       "31105        426475.611930         426436.723538  \n",
       "12420        399158.891178         399176.535972  \n",
       "16659        918168.267727         916514.727101  "
      ]
     },
     "execution_count": 189,
     "metadata": {},
     "output_type": "execute_result"
    }
   ],
   "source": [
    "# Creating model object\n",
    "lars = LassoLars(alpha=3.0)\n",
    "\n",
    "# Fitting the model to training data\n",
    "lars.fit(X_train_standard, y_train.tax_value)\n",
    "\n",
    "# Making prediction on the train set\n",
    "y_train['tax_value_predicted2'] = lars.predict(X_train_standard)\n",
    "\n",
    "# Displaying the y_train\n",
    "y_train.head()"
   ]
  },
  {
   "cell_type": "code",
   "execution_count": 190,
   "id": "9aceb082",
   "metadata": {},
   "outputs": [],
   "source": [
    "# Making predictions on the validate set\n",
    "y_validate['tax_value_predicted2'] = lars.predict(X_validate_standard)"
   ]
  },
  {
   "cell_type": "code",
   "execution_count": 211,
   "id": "fc7bcb7e",
   "metadata": {},
   "outputs": [
    {
     "name": "stdout",
     "output_type": "stream",
     "text": [
      "RMSE using the LassoLars with alpha=3.0\n",
      "\n",
      "Train:  509465.8186062523 \n",
      "Validate:  485499.85689349583\n"
     ]
    }
   ],
   "source": [
    "# Evaluating rmse_train and rmse_validate modeled on Standard Scaler\n",
    "rmse_train_lars = math.sqrt(mean_squared_error(y_train.tax_value, y_train.tax_value_predicted2))\n",
    "rmse_validate_lars = math.sqrt(mean_squared_error(y_validate.tax_value, y_validate.tax_value_predicted2))\n",
    "\n",
    "print('RMSE using the LassoLars with alpha=3.0\\n\\nTrain: ', rmse_train_lars, \n",
    "      '\\nValidate: ', rmse_validate_lars)"
   ]
  },
  {
   "cell_type": "markdown",
   "id": "a2f1cf3a",
   "metadata": {},
   "source": [
    "### Takeaways of LassoLars Model scaled on Standard Scaler modeling\n",
    "- The LassoLars model beats the mean baseline model by a fair amount both on the train and validate data\n",
    "- It also beats the OLS by a small margin on the validate but looses by a little less than $2 on the train\n",
    "    * RMSE using the mean\n",
    "        - Train:  638024.37 \n",
    "        - Validate:  602948.58\n",
    "    * RMSE OLS using LinearRegression\n",
    "        - Train:  509464.23\n",
    "        - Validate:  485529.31\n",
    "    * RMSE using LassoLars\n",
    "        - Train: 509465.82\n",
    "        - Validate: 485499.86\n",
    "- I will run the next model"
   ]
  },
  {
   "cell_type": "markdown",
   "id": "826dac30",
   "metadata": {},
   "source": [
    "### <font color = 'brown'>**Tweedie Regressor (GLM) Model with X_train_Standard, Standard Scaler**</font>"
   ]
  },
  {
   "cell_type": "code",
   "execution_count": 219,
   "id": "4b37417d",
   "metadata": {},
   "outputs": [
    {
     "data": {
      "text/html": [
       "<div>\n",
       "<style scoped>\n",
       "    .dataframe tbody tr th:only-of-type {\n",
       "        vertical-align: middle;\n",
       "    }\n",
       "\n",
       "    .dataframe tbody tr th {\n",
       "        vertical-align: top;\n",
       "    }\n",
       "\n",
       "    .dataframe thead th {\n",
       "        text-align: right;\n",
       "    }\n",
       "</style>\n",
       "<table border=\"1\" class=\"dataframe\">\n",
       "  <thead>\n",
       "    <tr style=\"text-align: right;\">\n",
       "      <th></th>\n",
       "      <th>tax_value</th>\n",
       "      <th>tax_value_pred_median</th>\n",
       "      <th>tax_value_pred_mean</th>\n",
       "      <th>tax_value_predicted</th>\n",
       "      <th>tax_value_predicted2</th>\n",
       "      <th>tax_value_predicted3</th>\n",
       "    </tr>\n",
       "  </thead>\n",
       "  <tbody>\n",
       "    <tr>\n",
       "      <th>47579</th>\n",
       "      <td>629682</td>\n",
       "      <td>370998.0</td>\n",
       "      <td>514797.1811</td>\n",
       "      <td>430742.893627</td>\n",
       "      <td>429319.153398</td>\n",
       "      <td>403030.710326</td>\n",
       "    </tr>\n",
       "    <tr>\n",
       "      <th>48106</th>\n",
       "      <td>183245</td>\n",
       "      <td>370998.0</td>\n",
       "      <td>514797.1811</td>\n",
       "      <td>771514.457988</td>\n",
       "      <td>771479.819110</td>\n",
       "      <td>611030.276579</td>\n",
       "    </tr>\n",
       "    <tr>\n",
       "      <th>31105</th>\n",
       "      <td>564365</td>\n",
       "      <td>370998.0</td>\n",
       "      <td>514797.1811</td>\n",
       "      <td>426475.611930</td>\n",
       "      <td>426436.723538</td>\n",
       "      <td>399943.410258</td>\n",
       "    </tr>\n",
       "    <tr>\n",
       "      <th>12420</th>\n",
       "      <td>105997</td>\n",
       "      <td>370998.0</td>\n",
       "      <td>514797.1811</td>\n",
       "      <td>399158.891178</td>\n",
       "      <td>399176.535972</td>\n",
       "      <td>389680.431159</td>\n",
       "    </tr>\n",
       "    <tr>\n",
       "      <th>16659</th>\n",
       "      <td>854982</td>\n",
       "      <td>370998.0</td>\n",
       "      <td>514797.1811</td>\n",
       "      <td>918168.267727</td>\n",
       "      <td>916514.727101</td>\n",
       "      <td>856538.561999</td>\n",
       "    </tr>\n",
       "  </tbody>\n",
       "</table>\n",
       "</div>"
      ],
      "text/plain": [
       "       tax_value  tax_value_pred_median  tax_value_pred_mean  \\\n",
       "47579     629682               370998.0          514797.1811   \n",
       "48106     183245               370998.0          514797.1811   \n",
       "31105     564365               370998.0          514797.1811   \n",
       "12420     105997               370998.0          514797.1811   \n",
       "16659     854982               370998.0          514797.1811   \n",
       "\n",
       "       tax_value_predicted  tax_value_predicted2  tax_value_predicted3  \n",
       "47579        430742.893627         429319.153398         403030.710326  \n",
       "48106        771514.457988         771479.819110         611030.276579  \n",
       "31105        426475.611930         426436.723538         399943.410258  \n",
       "12420        399158.891178         399176.535972         389680.431159  \n",
       "16659        918168.267727         916514.727101         856538.561999  "
      ]
     },
     "execution_count": 219,
     "metadata": {},
     "output_type": "execute_result"
    }
   ],
   "source": [
    "# Creating model object with power at 3 because\n",
    "# the tax value distribution looks more like an inversed gaussian distribution\n",
    "glm = TweedieRegressor(power=1, alpha=3.0)\n",
    "\n",
    "# Fitting the model to training data\n",
    "glm.fit(X_train_standard, y_train.tax_value)\n",
    "\n",
    "# Making prediction on the train set\n",
    "y_train['tax_value_predicted3'] = glm.predict(X_train_standard)\n",
    "\n",
    "\n",
    "# Displaying the y_train\n",
    "y_train.head()"
   ]
  },
  {
   "cell_type": "code",
   "execution_count": 208,
   "id": "7f041cee",
   "metadata": {},
   "outputs": [],
   "source": [
    "# Making predictions on the validate set\n",
    "\n",
    "y_validate['tax_value_predicted3'] = glm.predict(X_validate_standard)"
   ]
  },
  {
   "cell_type": "code",
   "execution_count": 214,
   "id": "889dc8a2",
   "metadata": {},
   "outputs": [
    {
     "name": "stdout",
     "output_type": "stream",
     "text": [
      "RMSE using Tweedie Regressor, power=1 & alpha=3.0\n",
      "\n",
      "Train:  509711.5741323715 \n",
      "Validation:  487872.87596042734\n"
     ]
    }
   ],
   "source": [
    "# Evaluating rmse_train and rmse_validate modeled on Standard Scaler\n",
    "\n",
    "rmse_train_glm = math.sqrt(mean_squared_error(y_train.tax_value, y_train.tax_value_predicted3))\n",
    "rmse_validate_glm = math.sqrt(mean_squared_error(y_validate.tax_value, y_validate.tax_value_predicted3))\n",
    "\n",
    "print('RMSE using Tweedie Regressor, power=1 & alpha=3.0\\n\\nTrain: ', rmse_train_glm, \n",
    "      '\\nValidation: ', rmse_validate_glm)"
   ]
  },
  {
   "cell_type": "markdown",
   "id": "5221ef77",
   "metadata": {},
   "source": [
    "### Takeaways of Tweedie Regressor Model scaled on Standard Scaler modeling\n",
    "- The Tweedie Regressor model beats the mean baseline model by a fair amount both on the train and validate data\n",
    "- However, it does not beat the OLS or the  LassoLars\n",
    "    * RMSE using the mean\n",
    "        - Train:  638024.37 \n",
    "        - Validate:  602948.58\n",
    "    * RMSE OLS with a Linear Regression\n",
    "        - Train:  509464.23\n",
    "        - Validate:  485529.31\n",
    "    * RMSE using LassoLars\n",
    "        - Train: 509465.82\n",
    "        - Validate: 485499.86\n",
    "    * RMSE using Tweedie Regressor\n",
    "        - Train: 509711.57\n",
    "        - Validate: 487872.87\n",
    "- I will use the LassoLars because it performed slightly better on unseen data (validate) than the OLS model"
   ]
  },
  {
   "cell_type": "markdown",
   "id": "4a5b3a5d",
   "metadata": {},
   "source": [
    "## <font color = 'brown'>**LassoLars Model with X_train_standard, Standard Scaler running on test dataset**</font>"
   ]
  },
  {
   "cell_type": "code",
   "execution_count": 264,
   "id": "7fbe0925",
   "metadata": {},
   "outputs": [
    {
     "name": "stdout",
     "output_type": "stream",
     "text": [
      "RMSE using the LassoLars with alpha=3.0 on test dataset\n",
      "\n",
      "Test:  491929.3710342825\n"
     ]
    }
   ],
   "source": [
    "# Making predictions on the test set\n",
    "\n",
    "y_test['tax_value_predicted2'] = lars.predict(X_test_standard)\n",
    "\n",
    "# Evaluating rmse_test modeled on Standard Scaler for LassoLars\n",
    "rmse_test_lars = math.sqrt(mean_squared_error(y_test.tax_value, y_test.tax_value_predicted2))\n",
    "\n",
    "print('RMSE using the LassoLars with alpha=3.0 on test dataset\\n\\nTest: ', rmse_test_lars)"
   ]
  },
  {
   "cell_type": "code",
   "execution_count": 267,
   "id": "0f6db8d4",
   "metadata": {},
   "outputs": [
    {
     "data": {
      "text/plain": [
       "-18.412716056151915"
      ]
     },
     "execution_count": 267,
     "metadata": {},
     "output_type": "execute_result"
    }
   ],
   "source": [
    "# Improvement from baseline\n",
    "\n",
    "a = ((491929.37-602948.58)/602948.58)*100\n",
    "a"
   ]
  },
  {
   "cell_type": "code",
   "execution_count": null,
   "id": "b6b95ce5",
   "metadata": {},
   "outputs": [],
   "source": [
    "# Plotting the model and the baseline\n",
    "\n",
    "plt.hist(y_train.tax_value_predicted2, color='blue', alpha=.5, label=\"Actual Final Grades\")\n",
    "plt.hist(y_train.G3_pred_mean, bins=1, color='red', alpha=.5, rwidth=100, label=\"Predicted Final Grades - Mean\")\n",
    "plt.xlabel(\"Final Grade (G3)\")\n",
    "plt.ylabel(\"Number of Students\")\n",
    "plt.legend()\n",
    "plt.show()\n"
   ]
  },
  {
   "cell_type": "markdown",
   "id": "f4c02724",
   "metadata": {},
   "source": [
    "## Modeling takeaways\n",
    "- The Tweedie regression seems to work best with Min-Max Scaler at power=3 but is of at power=1\n",
    "- The OLS and LassoLars are very close in results\n",
    "- Changing scaling does not impact the result if different scalers are applied to the same model\n",
    "- The LassoLars is the best model by a very small margin against OLS"
   ]
  },
  {
   "cell_type": "markdown",
   "id": "ffc17541",
   "metadata": {},
   "source": [
    "****"
   ]
  },
  {
   "cell_type": "markdown",
   "id": "88cb5f01",
   "metadata": {},
   "source": [
    "## Conclusions"
   ]
  },
  {
   "cell_type": "markdown",
   "id": "ef383b2b",
   "metadata": {},
   "source": [
    "- The LassoLars model turned out to be the one that pedicts the best what property prices are going to be based on the data I used.\n",
    "\n",
    "- However, as we saw, the model has a margin of error going up to $491929.37. This is a margin that will not help most of our customer let alone us since we are looking to optimize sale prices.\n",
    "\n",
    "- Percentage improvement from baseline 18.41%\n",
    "\n",
    "- I will discuss the consequence of such findings in my recommendations and Next Steps rubric "
   ]
  },
  {
   "cell_type": "markdown",
   "id": "39360b3a",
   "metadata": {},
   "source": [
    "****"
   ]
  },
  {
   "cell_type": "markdown",
   "id": "cc141fd2",
   "metadata": {},
   "source": [
    "## Key findings"
   ]
  },
  {
   "cell_type": "markdown",
   "id": "70771a6d",
   "metadata": {},
   "source": [
    "- Using bedrooms number, bathroom number and indoor square footage helps predict the assessed prices of properties but it is not enough. below is the order of importance:\n",
    "    - indoor_sqft\n",
    "    - then bathrooms and bedrooms\n",
    "    - This may suggest that clients are interested in size of course but most importantly amenities in the bathrooms but I am not categorical on that\n",
    "- Time doesn't seem to have an impact on the the general distribution of prices (this is why I dropped it)\n",
    "- The relation between the number of bedrooms and bathrooms on one side and the assessed value of the properties is interesting because it seems that to a certain extent the number of bedrooms and to a slightly lesser extent the number of bathrooms does not matter. That would mean that more is better to a certain extent.\n",
    "\n",
    "-  The relationship between the independent variables and the dependent one is not very strong hinting to the fact that there are probably more elements to that relationship"
   ]
  },
  {
   "cell_type": "markdown",
   "id": "41b4bbb4",
   "metadata": {},
   "source": [
    "## Recommedations"
   ]
  },
  {
   "cell_type": "markdown",
   "id": "885d511c",
   "metadata": {},
   "source": [
    "**I will recommend that the collection of the data process be streamlined to provide more accurate datasets**\n",
    "\n",
    "**A bit of time be allocated to deepening the work on those models**"
   ]
  },
  {
   "cell_type": "markdown",
   "id": "ea131952",
   "metadata": {},
   "source": [
    "## Next Steps, and other additions"
   ]
  },
  {
   "cell_type": "markdown",
   "id": "94433efa",
   "metadata": {},
   "source": [
    "- The next step would be to run better models (this would be part of what I would do if I had more time):\n",
    "    * by including more variables after determining their relevance\n",
    "    * by using the Min-Max scaler for the power=3-Tweedie Regressor and the others to see if it makes a difference\n",
    "    * by examining the reason why some of the houses have the same price no matter the number of bedrooms or batrooms they have\n",
    "    * examining what the difference is between houses with the same characteristics\n",
    "- Then, we can use the information from that analysis to further determine what data we should gather or should not gather\n",
    "- Improve the data collection process"
   ]
  }
 ],
 "metadata": {
  "kernelspec": {
   "display_name": "Python 3 (ipykernel)",
   "language": "python",
   "name": "python3"
  },
  "language_info": {
   "codemirror_mode": {
    "name": "ipython",
    "version": 3
   },
   "file_extension": ".py",
   "mimetype": "text/x-python",
   "name": "python",
   "nbconvert_exporter": "python",
   "pygments_lexer": "ipython3",
   "version": "3.9.7"
  }
 },
 "nbformat": 4,
 "nbformat_minor": 5
}
