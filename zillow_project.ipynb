{
 "cells": [
  {
   "cell_type": "markdown",
   "id": "8b3bb0b5",
   "metadata": {},
   "source": [
    "# Zillow Project"
   ]
  },
  {
   "cell_type": "code",
   "execution_count": 142,
   "id": "8e58f9d7",
   "metadata": {},
   "outputs": [],
   "source": [
    "# Imports necessary for the notebook\n",
    "\n",
    "import pandas as pd\n",
    "import numpy as np\n",
    "import matplotlib.pyplot as plt\n",
    "import scipy.stats\n",
    "import math\n",
    "import sklearn.preprocessing\n",
    "from sklearn.model_selection import train_test_split\n",
    "from sklearn.metrics import mean_squared_error, r2_score\n",
    "from scipy import stats\n",
    "\n",
    "import os\n",
    "import wrangle\n",
    "from env import host, user, password\n",
    "\n",
    "import seaborn as sns\n",
    "import warnings\n",
    "warnings.filterwarnings('ignore')"
   ]
  },
  {
   "cell_type": "markdown",
   "id": "5a61a076",
   "metadata": {},
   "source": [
    "# I. Acquiring the data for preparation"
   ]
  },
  {
   "cell_type": "markdown",
   "id": "30c77599",
   "metadata": {},
   "source": [
    "At this point I have created a function <font color = 'brown'>get_connection</font> that uses login info from env.py file to access Codeup database.\n",
    "\n",
    "It returns a string that can be used in another function <font color = 'brown'>wrangle_zillow</font> to return a dataframe from the SQL database"
   ]
  },
  {
   "cell_type": "code",
   "execution_count": 2,
   "id": "1a8cc2c2",
   "metadata": {},
   "outputs": [],
   "source": [
    "# Getting the file\n",
    "\n",
    "properties_2017 = wrangle.wrangle_zillow()"
   ]
  },
  {
   "cell_type": "markdown",
   "id": "ed45c196",
   "metadata": {},
   "source": [
    "# II. Cleaning and Preparing the data"
   ]
  },
  {
   "cell_type": "markdown",
   "id": "a7a91a17",
   "metadata": {},
   "source": [
    "* Plan\n",
    "    - Check for null values and drop them if they are not in great numbers (for example more than 15% of the data. This will also depend on the size of the data)\n",
    "    - Check for hard to read columns names to rename them appropriately\n",
    "    - Check for irrelevant columns (that won't impact the analysis and the modeling) and drop them\n",
    "    - Check for incompatible data types (example: data should be int64 but is object or float)\n",
    "    - Do a univariate exploration through charts and columns observation"
   ]
  },
  {
   "cell_type": "markdown",
   "id": "fe0074fa",
   "metadata": {},
   "source": [
    "## A. general examination of the data, the columns, rows, and entries"
   ]
  },
  {
   "cell_type": "code",
   "execution_count": 3,
   "id": "dfc4afe5",
   "metadata": {},
   "outputs": [
    {
     "data": {
      "text/html": [
       "<div>\n",
       "<style scoped>\n",
       "    .dataframe tbody tr th:only-of-type {\n",
       "        vertical-align: middle;\n",
       "    }\n",
       "\n",
       "    .dataframe tbody tr th {\n",
       "        vertical-align: top;\n",
       "    }\n",
       "\n",
       "    .dataframe thead th {\n",
       "        text-align: right;\n",
       "    }\n",
       "</style>\n",
       "<table border=\"1\" class=\"dataframe\">\n",
       "  <thead>\n",
       "    <tr style=\"text-align: right;\">\n",
       "      <th></th>\n",
       "      <th>bedroomcnt</th>\n",
       "      <th>bathroomcnt</th>\n",
       "      <th>calculatedfinishedsquarefeet</th>\n",
       "      <th>taxvaluedollarcnt</th>\n",
       "      <th>propertylandusetypeid</th>\n",
       "      <th>transactiondate</th>\n",
       "    </tr>\n",
       "  </thead>\n",
       "  <tbody>\n",
       "    <tr>\n",
       "      <th>0</th>\n",
       "      <td>4.0</td>\n",
       "      <td>3.5</td>\n",
       "      <td>3100.0</td>\n",
       "      <td>1023282.0</td>\n",
       "      <td>261.0</td>\n",
       "      <td>2017-01-01</td>\n",
       "    </tr>\n",
       "    <tr>\n",
       "      <th>1</th>\n",
       "      <td>2.0</td>\n",
       "      <td>1.0</td>\n",
       "      <td>1465.0</td>\n",
       "      <td>464000.0</td>\n",
       "      <td>261.0</td>\n",
       "      <td>2017-01-01</td>\n",
       "    </tr>\n",
       "    <tr>\n",
       "      <th>2</th>\n",
       "      <td>3.0</td>\n",
       "      <td>2.0</td>\n",
       "      <td>1243.0</td>\n",
       "      <td>564778.0</td>\n",
       "      <td>261.0</td>\n",
       "      <td>2017-01-01</td>\n",
       "    </tr>\n",
       "    <tr>\n",
       "      <th>3</th>\n",
       "      <td>4.0</td>\n",
       "      <td>3.0</td>\n",
       "      <td>2376.0</td>\n",
       "      <td>145143.0</td>\n",
       "      <td>261.0</td>\n",
       "      <td>2017-01-01</td>\n",
       "    </tr>\n",
       "    <tr>\n",
       "      <th>4</th>\n",
       "      <td>4.0</td>\n",
       "      <td>3.0</td>\n",
       "      <td>2962.0</td>\n",
       "      <td>773303.0</td>\n",
       "      <td>261.0</td>\n",
       "      <td>2017-01-01</td>\n",
       "    </tr>\n",
       "  </tbody>\n",
       "</table>\n",
       "</div>"
      ],
      "text/plain": [
       "   bedroomcnt  bathroomcnt  calculatedfinishedsquarefeet  taxvaluedollarcnt  \\\n",
       "0         4.0          3.5                        3100.0          1023282.0   \n",
       "1         2.0          1.0                        1465.0           464000.0   \n",
       "2         3.0          2.0                        1243.0           564778.0   \n",
       "3         4.0          3.0                        2376.0           145143.0   \n",
       "4         4.0          3.0                        2962.0           773303.0   \n",
       "\n",
       "   propertylandusetypeid transactiondate  \n",
       "0                  261.0      2017-01-01  \n",
       "1                  261.0      2017-01-01  \n",
       "2                  261.0      2017-01-01  \n",
       "3                  261.0      2017-01-01  \n",
       "4                  261.0      2017-01-01  "
      ]
     },
     "execution_count": 3,
     "metadata": {},
     "output_type": "execute_result"
    }
   ],
   "source": [
    "# Displaying the dataframe to take a look at it\n",
    "\n",
    "properties_2017.head()"
   ]
  },
  {
   "cell_type": "code",
   "execution_count": 4,
   "id": "062ea52d",
   "metadata": {},
   "outputs": [
    {
     "name": "stdout",
     "output_type": "stream",
     "text": [
      "<class 'pandas.core.frame.DataFrame'>\n",
      "Int64Index: 52442 entries, 0 to 52441\n",
      "Data columns (total 6 columns):\n",
      " #   Column                        Non-Null Count  Dtype  \n",
      "---  ------                        --------------  -----  \n",
      " 0   bedroomcnt                    52442 non-null  float64\n",
      " 1   bathroomcnt                   52442 non-null  float64\n",
      " 2   calculatedfinishedsquarefeet  52360 non-null  float64\n",
      " 3   taxvaluedollarcnt             52441 non-null  float64\n",
      " 4   propertylandusetypeid         52442 non-null  float64\n",
      " 5   transactiondate               52442 non-null  object \n",
      "dtypes: float64(5), object(1)\n",
      "memory usage: 2.8+ MB\n"
     ]
    }
   ],
   "source": [
    "# Getting information about number of coulumns, number of rows data type, size of the file (for pushing to github)\n",
    "\n",
    "properties_2017.info(verbose = True)"
   ]
  },
  {
   "cell_type": "code",
   "execution_count": 6,
   "id": "1a673f7b",
   "metadata": {
    "scrolled": false
   },
   "outputs": [
    {
     "data": {
      "text/plain": [
       "bedroomcnt                      0.0000\n",
       "bathroomcnt                     0.0000\n",
       "calculatedfinishedsquarefeet    0.0016\n",
       "taxvaluedollarcnt               0.0000\n",
       "propertylandusetypeid           0.0000\n",
       "transactiondate                 0.0000\n",
       "dtype: float64"
      ]
     },
     "execution_count": 6,
     "metadata": {},
     "output_type": "execute_result"
    }
   ],
   "source": [
    "# Getting the proportion of null values in the data\n",
    "\n",
    "round(properties_2017.isnull().mean(), 4)"
   ]
  },
  {
   "cell_type": "code",
   "execution_count": 7,
   "id": "00c4d185",
   "metadata": {},
   "outputs": [
    {
     "name": "stdout",
     "output_type": "stream",
     "text": [
      "bedroomcnt\n",
      "3.0     23360\n",
      "4.0     15240\n",
      "2.0      8340\n",
      "5.0      3973\n",
      "6.0       635\n",
      "1.0       612\n",
      "0.0       137\n",
      "7.0       106\n",
      "8.0        24\n",
      "9.0         8\n",
      "12.0        3\n",
      "10.0        2\n",
      "14.0        1\n",
      "11.0        1\n",
      "Name: bedroomcnt, dtype: int64\n",
      "\n",
      "##########################\n",
      "\n",
      "bathroomcnt\n",
      "2.0     21894\n",
      "3.0     10673\n",
      "1.0      9568\n",
      "2.5      3934\n",
      "4.0      2227\n",
      "3.5       918\n",
      "1.5       841\n",
      "5.0       803\n",
      "4.5       687\n",
      "6.0       322\n",
      "5.5       224\n",
      "0.0       121\n",
      "7.0        88\n",
      "8.0        53\n",
      "6.5        47\n",
      "7.5        16\n",
      "9.0        13\n",
      "10.0        5\n",
      "11.0        3\n",
      "8.5         3\n",
      "18.0        1\n",
      "13.0        1\n",
      "Name: bathroomcnt, dtype: int64\n",
      "\n",
      "##########################\n",
      "\n",
      "calculatedfinishedsquarefeet\n",
      "1120.0    128\n",
      "1200.0    119\n",
      "1080.0    102\n",
      "1040.0     86\n",
      "936.0      86\n",
      "         ... \n",
      "7088.0      1\n",
      "604.0       1\n",
      "5422.0      1\n",
      "534.0       1\n",
      "5655.0      1\n",
      "Name: calculatedfinishedsquarefeet, Length: 4723, dtype: int64\n",
      "\n",
      "##########################\n",
      "\n",
      "taxvaluedollarcnt\n",
      "455000.0    34\n",
      "600000.0    30\n",
      "550000.0    24\n",
      "500000.0    24\n",
      "450000.0    24\n",
      "            ..\n",
      "209341.0     1\n",
      "203304.0     1\n",
      "497409.0     1\n",
      "421945.0     1\n",
      "49546.0      1\n",
      "Name: taxvaluedollarcnt, Length: 38942, dtype: int64\n",
      "\n",
      "##########################\n",
      "\n",
      "propertylandusetypeid\n",
      "261.0    52442\n",
      "Name: propertylandusetypeid, dtype: int64\n",
      "\n",
      "##########################\n",
      "\n",
      "transactiondate\n",
      "2017-06-30    810\n",
      "2017-04-28    617\n",
      "2017-05-31    566\n",
      "2017-07-28    546\n",
      "2017-08-31    528\n",
      "             ... \n",
      "2017-05-07      1\n",
      "2017-05-13      1\n",
      "2017-05-20      1\n",
      "2017-06-11      1\n",
      "2018-05-25      1\n",
      "Name: transactiondate, Length: 258, dtype: int64\n",
      "\n",
      "##########################\n",
      "\n"
     ]
    }
   ],
   "source": [
    "for column in properties_2017.columns:\n",
    "    print(column)\n",
    "    print(properties_2017[column].value_counts())\n",
    "    print('\\n##########################\\n')"
   ]
  },
  {
   "cell_type": "markdown",
   "id": "cd98d2ed",
   "metadata": {},
   "source": [
    "### Takeaways\n",
    "* Observations\n",
    "    - There are very few null values\n",
    "    - The column names are hard to read\n",
    "    - There are no numbers behind the comma of bedroomcnt, calculatedfinishedsquarefeet, and taxvaluedollarcnt\n",
    "    - The transactiondate is an object type, cannot be scaled\n",
    "* Actions\n",
    "    - Drop null values and transactiondate which is not needed for the MVP\n",
    "    - The propertylandusetypeid column can be dropped. It is an identifier for the type of house I am working on\n",
    "    - Convert bedroomcnt, calculatedfinishedsquarefeet, taxvaluedollarcnt, and transactiondate to int\n",
    "    - Leave bathroomcnt as is\n",
    "    - Rename columns\n",
    "    - Move to univariate exploration"
   ]
  },
  {
   "cell_type": "markdown",
   "id": "cd71dbd9",
   "metadata": {},
   "source": [
    "## B. Preforming Actions planned in previous step"
   ]
  },
  {
   "cell_type": "code",
   "execution_count": 9,
   "id": "afd70308",
   "metadata": {},
   "outputs": [],
   "source": [
    "# Dropping the null values and reassigning properties_2017 to houses\n",
    "\n",
    "houses = properties_2017.dropna(axis = 0, how ='any')"
   ]
  },
  {
   "cell_type": "code",
   "execution_count": 10,
   "id": "40faedbd",
   "metadata": {},
   "outputs": [
    {
     "name": "stdout",
     "output_type": "stream",
     "text": [
      "Properties_2017 length: 52442 \n",
      "Houses length: 52359 \n",
      "Percentage of rows with at least 1 NA value dropped:  0.16\n"
     ]
    }
   ],
   "source": [
    "# Calculating the percentage of null values dropped\n",
    "\n",
    "print(\"Properties_2017 length:\", len(properties_2017), \"\\nHouses length:\", \n",
    "       len(houses), \"\\nPercentage of rows with at least 1 NA value dropped: \",\n",
    "       round(((len(properties_2017)-len(houses))/len(properties_2017))*100, 2))"
   ]
  },
  {
   "cell_type": "code",
   "execution_count": 11,
   "id": "ac0e5157",
   "metadata": {},
   "outputs": [
    {
     "data": {
      "text/html": [
       "<div>\n",
       "<style scoped>\n",
       "    .dataframe tbody tr th:only-of-type {\n",
       "        vertical-align: middle;\n",
       "    }\n",
       "\n",
       "    .dataframe tbody tr th {\n",
       "        vertical-align: top;\n",
       "    }\n",
       "\n",
       "    .dataframe thead th {\n",
       "        text-align: right;\n",
       "    }\n",
       "</style>\n",
       "<table border=\"1\" class=\"dataframe\">\n",
       "  <thead>\n",
       "    <tr style=\"text-align: right;\">\n",
       "      <th></th>\n",
       "      <th>bedroomcnt</th>\n",
       "      <th>bathroomcnt</th>\n",
       "      <th>calculatedfinishedsquarefeet</th>\n",
       "      <th>taxvaluedollarcnt</th>\n",
       "      <th>propertylandusetypeid</th>\n",
       "    </tr>\n",
       "  </thead>\n",
       "  <tbody>\n",
       "    <tr>\n",
       "      <th>0</th>\n",
       "      <td>4.0</td>\n",
       "      <td>3.5</td>\n",
       "      <td>3100.0</td>\n",
       "      <td>1023282.0</td>\n",
       "      <td>261.0</td>\n",
       "    </tr>\n",
       "    <tr>\n",
       "      <th>1</th>\n",
       "      <td>2.0</td>\n",
       "      <td>1.0</td>\n",
       "      <td>1465.0</td>\n",
       "      <td>464000.0</td>\n",
       "      <td>261.0</td>\n",
       "    </tr>\n",
       "    <tr>\n",
       "      <th>2</th>\n",
       "      <td>3.0</td>\n",
       "      <td>2.0</td>\n",
       "      <td>1243.0</td>\n",
       "      <td>564778.0</td>\n",
       "      <td>261.0</td>\n",
       "    </tr>\n",
       "    <tr>\n",
       "      <th>3</th>\n",
       "      <td>4.0</td>\n",
       "      <td>3.0</td>\n",
       "      <td>2376.0</td>\n",
       "      <td>145143.0</td>\n",
       "      <td>261.0</td>\n",
       "    </tr>\n",
       "    <tr>\n",
       "      <th>4</th>\n",
       "      <td>4.0</td>\n",
       "      <td>3.0</td>\n",
       "      <td>2962.0</td>\n",
       "      <td>773303.0</td>\n",
       "      <td>261.0</td>\n",
       "    </tr>\n",
       "  </tbody>\n",
       "</table>\n",
       "</div>"
      ],
      "text/plain": [
       "   bedroomcnt  bathroomcnt  calculatedfinishedsquarefeet  taxvaluedollarcnt  \\\n",
       "0         4.0          3.5                        3100.0          1023282.0   \n",
       "1         2.0          1.0                        1465.0           464000.0   \n",
       "2         3.0          2.0                        1243.0           564778.0   \n",
       "3         4.0          3.0                        2376.0           145143.0   \n",
       "4         4.0          3.0                        2962.0           773303.0   \n",
       "\n",
       "   propertylandusetypeid  \n",
       "0                  261.0  \n",
       "1                  261.0  \n",
       "2                  261.0  \n",
       "3                  261.0  \n",
       "4                  261.0  "
      ]
     },
     "execution_count": 11,
     "metadata": {},
     "output_type": "execute_result"
    }
   ],
   "source": [
    "# Dropping the transactiondate column\n",
    "\n",
    "houses = houses.drop(['transactiondate'], axis = 1)\n",
    "houses.head()"
   ]
  },
  {
   "cell_type": "code",
   "execution_count": 12,
   "id": "36822277",
   "metadata": {},
   "outputs": [
    {
     "data": {
      "text/html": [
       "<div>\n",
       "<style scoped>\n",
       "    .dataframe tbody tr th:only-of-type {\n",
       "        vertical-align: middle;\n",
       "    }\n",
       "\n",
       "    .dataframe tbody tr th {\n",
       "        vertical-align: top;\n",
       "    }\n",
       "\n",
       "    .dataframe thead th {\n",
       "        text-align: right;\n",
       "    }\n",
       "</style>\n",
       "<table border=\"1\" class=\"dataframe\">\n",
       "  <thead>\n",
       "    <tr style=\"text-align: right;\">\n",
       "      <th></th>\n",
       "      <th>bedroomcnt</th>\n",
       "      <th>bathroomcnt</th>\n",
       "      <th>calculatedfinishedsquarefeet</th>\n",
       "      <th>taxvaluedollarcnt</th>\n",
       "    </tr>\n",
       "  </thead>\n",
       "  <tbody>\n",
       "    <tr>\n",
       "      <th>0</th>\n",
       "      <td>4.0</td>\n",
       "      <td>3.5</td>\n",
       "      <td>3100.0</td>\n",
       "      <td>1023282.0</td>\n",
       "    </tr>\n",
       "    <tr>\n",
       "      <th>1</th>\n",
       "      <td>2.0</td>\n",
       "      <td>1.0</td>\n",
       "      <td>1465.0</td>\n",
       "      <td>464000.0</td>\n",
       "    </tr>\n",
       "    <tr>\n",
       "      <th>2</th>\n",
       "      <td>3.0</td>\n",
       "      <td>2.0</td>\n",
       "      <td>1243.0</td>\n",
       "      <td>564778.0</td>\n",
       "    </tr>\n",
       "    <tr>\n",
       "      <th>3</th>\n",
       "      <td>4.0</td>\n",
       "      <td>3.0</td>\n",
       "      <td>2376.0</td>\n",
       "      <td>145143.0</td>\n",
       "    </tr>\n",
       "    <tr>\n",
       "      <th>4</th>\n",
       "      <td>4.0</td>\n",
       "      <td>3.0</td>\n",
       "      <td>2962.0</td>\n",
       "      <td>773303.0</td>\n",
       "    </tr>\n",
       "  </tbody>\n",
       "</table>\n",
       "</div>"
      ],
      "text/plain": [
       "   bedroomcnt  bathroomcnt  calculatedfinishedsquarefeet  taxvaluedollarcnt\n",
       "0         4.0          3.5                        3100.0          1023282.0\n",
       "1         2.0          1.0                        1465.0           464000.0\n",
       "2         3.0          2.0                        1243.0           564778.0\n",
       "3         4.0          3.0                        2376.0           145143.0\n",
       "4         4.0          3.0                        2962.0           773303.0"
      ]
     },
     "execution_count": 12,
     "metadata": {},
     "output_type": "execute_result"
    }
   ],
   "source": [
    "# Dropping the propertylandusetypeid column\n",
    "\n",
    "houses = houses.drop(['propertylandusetypeid'], axis = 1)\n",
    "houses.head()"
   ]
  },
  {
   "cell_type": "code",
   "execution_count": 13,
   "id": "dd0473b4",
   "metadata": {},
   "outputs": [
    {
     "data": {
      "text/html": [
       "<div>\n",
       "<style scoped>\n",
       "    .dataframe tbody tr th:only-of-type {\n",
       "        vertical-align: middle;\n",
       "    }\n",
       "\n",
       "    .dataframe tbody tr th {\n",
       "        vertical-align: top;\n",
       "    }\n",
       "\n",
       "    .dataframe thead th {\n",
       "        text-align: right;\n",
       "    }\n",
       "</style>\n",
       "<table border=\"1\" class=\"dataframe\">\n",
       "  <thead>\n",
       "    <tr style=\"text-align: right;\">\n",
       "      <th></th>\n",
       "      <th>bedrooms</th>\n",
       "      <th>bathrooms</th>\n",
       "      <th>indoor_sqft</th>\n",
       "      <th>tax_value</th>\n",
       "    </tr>\n",
       "  </thead>\n",
       "  <tbody>\n",
       "    <tr>\n",
       "      <th>0</th>\n",
       "      <td>4.0</td>\n",
       "      <td>3.5</td>\n",
       "      <td>3100.0</td>\n",
       "      <td>1023282.0</td>\n",
       "    </tr>\n",
       "    <tr>\n",
       "      <th>1</th>\n",
       "      <td>2.0</td>\n",
       "      <td>1.0</td>\n",
       "      <td>1465.0</td>\n",
       "      <td>464000.0</td>\n",
       "    </tr>\n",
       "    <tr>\n",
       "      <th>2</th>\n",
       "      <td>3.0</td>\n",
       "      <td>2.0</td>\n",
       "      <td>1243.0</td>\n",
       "      <td>564778.0</td>\n",
       "    </tr>\n",
       "    <tr>\n",
       "      <th>3</th>\n",
       "      <td>4.0</td>\n",
       "      <td>3.0</td>\n",
       "      <td>2376.0</td>\n",
       "      <td>145143.0</td>\n",
       "    </tr>\n",
       "    <tr>\n",
       "      <th>4</th>\n",
       "      <td>4.0</td>\n",
       "      <td>3.0</td>\n",
       "      <td>2962.0</td>\n",
       "      <td>773303.0</td>\n",
       "    </tr>\n",
       "  </tbody>\n",
       "</table>\n",
       "</div>"
      ],
      "text/plain": [
       "   bedrooms  bathrooms  indoor_sqft  tax_value\n",
       "0       4.0        3.5       3100.0  1023282.0\n",
       "1       2.0        1.0       1465.0   464000.0\n",
       "2       3.0        2.0       1243.0   564778.0\n",
       "3       4.0        3.0       2376.0   145143.0\n",
       "4       4.0        3.0       2962.0   773303.0"
      ]
     },
     "execution_count": 13,
     "metadata": {},
     "output_type": "execute_result"
    }
   ],
   "source": [
    "# Renaming columns\n",
    "\n",
    "cols_to_rename = {\n",
    "    'calculatedfinishedsquarefeet': 'indoor_sqft',\n",
    "    'taxvaluedollarcnt': 'tax_value',\n",
    "    'bedroomcnt': 'bedrooms',\n",
    "    'bathroomcnt': 'bathrooms',\n",
    "}\n",
    "\n",
    "houses = houses.rename(columns=cols_to_rename)\n",
    "houses.head()"
   ]
  },
  {
   "cell_type": "code",
   "execution_count": 14,
   "id": "6458e800",
   "metadata": {
    "scrolled": true
   },
   "outputs": [
    {
     "data": {
      "text/html": [
       "<div>\n",
       "<style scoped>\n",
       "    .dataframe tbody tr th:only-of-type {\n",
       "        vertical-align: middle;\n",
       "    }\n",
       "\n",
       "    .dataframe tbody tr th {\n",
       "        vertical-align: top;\n",
       "    }\n",
       "\n",
       "    .dataframe thead th {\n",
       "        text-align: right;\n",
       "    }\n",
       "</style>\n",
       "<table border=\"1\" class=\"dataframe\">\n",
       "  <thead>\n",
       "    <tr style=\"text-align: right;\">\n",
       "      <th></th>\n",
       "      <th>bedrooms</th>\n",
       "      <th>bathrooms</th>\n",
       "      <th>indoor_sqft</th>\n",
       "      <th>tax_value</th>\n",
       "    </tr>\n",
       "  </thead>\n",
       "  <tbody>\n",
       "    <tr>\n",
       "      <th>0</th>\n",
       "      <td>4</td>\n",
       "      <td>3.5</td>\n",
       "      <td>3100</td>\n",
       "      <td>1023282</td>\n",
       "    </tr>\n",
       "    <tr>\n",
       "      <th>1</th>\n",
       "      <td>2</td>\n",
       "      <td>1.0</td>\n",
       "      <td>1465</td>\n",
       "      <td>464000</td>\n",
       "    </tr>\n",
       "    <tr>\n",
       "      <th>2</th>\n",
       "      <td>3</td>\n",
       "      <td>2.0</td>\n",
       "      <td>1243</td>\n",
       "      <td>564778</td>\n",
       "    </tr>\n",
       "    <tr>\n",
       "      <th>3</th>\n",
       "      <td>4</td>\n",
       "      <td>3.0</td>\n",
       "      <td>2376</td>\n",
       "      <td>145143</td>\n",
       "    </tr>\n",
       "    <tr>\n",
       "      <th>4</th>\n",
       "      <td>4</td>\n",
       "      <td>3.0</td>\n",
       "      <td>2962</td>\n",
       "      <td>773303</td>\n",
       "    </tr>\n",
       "  </tbody>\n",
       "</table>\n",
       "</div>"
      ],
      "text/plain": [
       "   bedrooms  bathrooms  indoor_sqft  tax_value\n",
       "0         4        3.5         3100    1023282\n",
       "1         2        1.0         1465     464000\n",
       "2         3        2.0         1243     564778\n",
       "3         4        3.0         2376     145143\n",
       "4         4        3.0         2962     773303"
      ]
     },
     "execution_count": 14,
     "metadata": {},
     "output_type": "execute_result"
    }
   ],
   "source": [
    "# Transforming data types to int then I can scale it\n",
    "\n",
    "houses['bedrooms'] = houses['bedrooms'].astype(int)\n",
    "houses['indoor_sqft'] = houses['indoor_sqft'].astype(int)\n",
    "houses['tax_value'] = houses['tax_value'].astype(int)\n",
    "\n",
    "houses.head()"
   ]
  },
  {
   "cell_type": "code",
   "execution_count": 15,
   "id": "20f2edb0",
   "metadata": {},
   "outputs": [
    {
     "data": {
      "text/plain": [
       "bedrooms         int64\n",
       "bathrooms      float64\n",
       "indoor_sqft      int64\n",
       "tax_value        int64\n",
       "dtype: object"
      ]
     },
     "execution_count": 15,
     "metadata": {},
     "output_type": "execute_result"
    }
   ],
   "source": [
    "# Checking the data types\n",
    "\n",
    "houses.dtypes"
   ]
  },
  {
   "cell_type": "markdown",
   "id": "eac153b0",
   "metadata": {},
   "source": [
    "## C. Univariate observation of the data to set it up for eploration"
   ]
  },
  {
   "cell_type": "markdown",
   "id": "1747a8d6",
   "metadata": {},
   "source": [
    "****"
   ]
  },
  {
   "cell_type": "code",
   "execution_count": 17,
   "id": "014c01ed",
   "metadata": {
    "scrolled": true
   },
   "outputs": [
    {
     "data": {
      "text/html": [
       "<div>\n",
       "<style scoped>\n",
       "    .dataframe tbody tr th:only-of-type {\n",
       "        vertical-align: middle;\n",
       "    }\n",
       "\n",
       "    .dataframe tbody tr th {\n",
       "        vertical-align: top;\n",
       "    }\n",
       "\n",
       "    .dataframe thead th {\n",
       "        text-align: right;\n",
       "    }\n",
       "</style>\n",
       "<table border=\"1\" class=\"dataframe\">\n",
       "  <thead>\n",
       "    <tr style=\"text-align: right;\">\n",
       "      <th></th>\n",
       "      <th>count</th>\n",
       "      <th>mean</th>\n",
       "      <th>std</th>\n",
       "      <th>min</th>\n",
       "      <th>25%</th>\n",
       "      <th>50%</th>\n",
       "      <th>75%</th>\n",
       "      <th>max</th>\n",
       "    </tr>\n",
       "  </thead>\n",
       "  <tbody>\n",
       "    <tr>\n",
       "      <th>bedrooms</th>\n",
       "      <td>52359</td>\n",
       "      <td>3</td>\n",
       "      <td>0</td>\n",
       "      <td>0</td>\n",
       "      <td>3</td>\n",
       "      <td>3</td>\n",
       "      <td>4</td>\n",
       "      <td>14</td>\n",
       "    </tr>\n",
       "    <tr>\n",
       "      <th>bathrooms</th>\n",
       "      <td>52359</td>\n",
       "      <td>2</td>\n",
       "      <td>1</td>\n",
       "      <td>0</td>\n",
       "      <td>2</td>\n",
       "      <td>2</td>\n",
       "      <td>3</td>\n",
       "      <td>18</td>\n",
       "    </tr>\n",
       "    <tr>\n",
       "      <th>indoor_sqft</th>\n",
       "      <td>52359</td>\n",
       "      <td>1922</td>\n",
       "      <td>1004</td>\n",
       "      <td>128</td>\n",
       "      <td>1268</td>\n",
       "      <td>1659</td>\n",
       "      <td>2306</td>\n",
       "      <td>21929</td>\n",
       "    </tr>\n",
       "    <tr>\n",
       "      <th>tax_value</th>\n",
       "      <td>52359</td>\n",
       "      <td>528020</td>\n",
       "      <td>748323</td>\n",
       "      <td>1000</td>\n",
       "      <td>193644</td>\n",
       "      <td>373374</td>\n",
       "      <td>618531</td>\n",
       "      <td>49061236</td>\n",
       "    </tr>\n",
       "  </tbody>\n",
       "</table>\n",
       "</div>"
      ],
      "text/plain": [
       "             count    mean     std   min     25%     50%     75%       max\n",
       "bedrooms     52359       3       0     0       3       3       4        14\n",
       "bathrooms    52359       2       1     0       2       2       3        18\n",
       "indoor_sqft  52359    1922    1004   128    1268    1659    2306     21929\n",
       "tax_value    52359  528020  748323  1000  193644  373374  618531  49061236"
      ]
     },
     "execution_count": 17,
     "metadata": {},
     "output_type": "execute_result"
    }
   ],
   "source": [
    "# Running a .describe() function to have a first statistical look at the data\n",
    "\n",
    "houses.describe().T.astype('int64')"
   ]
  },
  {
   "cell_type": "markdown",
   "id": "208662af",
   "metadata": {},
   "source": [
    "### Takeaways\n",
    "* Observations\n",
    "    - The max values are high compared to min values in all columns (given their nature bedrooms and bathrooms)\n",
    "    - The values seem to relate to each other proportionally\n",
    "* To-dos\n",
    "    - Use graphs to visualize the structure of the data"
   ]
  },
  {
   "cell_type": "code",
   "execution_count": 18,
   "id": "92f49eed",
   "metadata": {
    "scrolled": false
   },
   "outputs": [
    {
     "name": "stdout",
     "output_type": "stream",
     "text": [
      "bedrooms\n"
     ]
    },
    {
     "data": {
      "image/png": "[encoded data removed]",
      "text/plain": [
       "<Figure size 432x288 with 1 Axes>"
      ]
     },
     "metadata": {
      "needs_background": "light"
     },
     "output_type": "display_data"
    },
    {
     "name": "stdout",
     "output_type": "stream",
     "text": [
      "bathrooms\n"
     ]
    },
    {
     "data": {
      "image/png": "[encoded data removed]",
      "text/plain": [
       "<Figure size 432x288 with 1 Axes>"
      ]
     },
     "metadata": {
      "needs_background": "light"
     },
     "output_type": "display_data"
    },
    {
     "name": "stdout",
     "output_type": "stream",
     "text": [
      "indoor_sqft\n"
     ]
    },
    {
     "data": {
      "image/png": "[encoded data removed]",
      "text/plain": [
       "<Figure size 432x288 with 1 Axes>"
      ]
     },
     "metadata": {
      "needs_background": "light"
     },
     "output_type": "display_data"
    },
    {
     "name": "stdout",
     "output_type": "stream",
     "text": [
      "tax_value\n"
     ]
    },
    {
     "data": {
      "image/png": "[encoded data removed]",
      "text/plain": [
       "<Figure size 432x288 with 1 Axes>"
      ]
     },
     "metadata": {
      "needs_background": "light"
     },
     "output_type": "display_data"
    }
   ],
   "source": [
    "# Using a for loop to plot columns to observe outliers\n",
    "\n",
    "for column in houses.columns:\n",
    "    print(column)\n",
    "    plt.title(column)\n",
    "    houses[column].hist()\n",
    "    plt.grid(True)\n",
    "    plt.show()"
   ]
  },
  {
   "cell_type": "markdown",
   "id": "39ed5e3d",
   "metadata": {},
   "source": [
    "### Takeaways\n",
    "\n",
    "**A first look shows me that there may be a lot of outliers because of the length of the x axis**\n",
    "\n",
    "**The value still seem to be connected becase of the shape of the bars except for tax_value where it is not obvious**\n",
    "\n",
    "<font color = 'brown'>**An observation with boxplots and countplots will give me a better view of the data**</font>"
   ]
  },
  {
   "cell_type": "code",
   "execution_count": 19,
   "id": "8e699f08",
   "metadata": {
    "scrolled": false
   },
   "outputs": [
    {
     "data": {
      "image/png": "[encoded data removed]",
      "text/plain": [
       "<Figure size 1224x720 with 1 Axes>"
      ]
     },
     "metadata": {
      "needs_background": "light"
     },
     "output_type": "display_data"
    }
   ],
   "source": [
    "# Plotting a boxplot of all columns to have a better view\n",
    "\n",
    "plt.figure(figsize=(17,10))\n",
    "sns.boxplot(data=houses)\n",
    "plt.show()"
   ]
  },
  {
   "cell_type": "markdown",
   "id": "d3b7cbb5",
   "metadata": {},
   "source": [
    "**Values are very different between tax_value and the others**\n",
    "\n",
    "\n",
    "**I will plot them separately to havea better view**"
   ]
  },
  {
   "cell_type": "code",
   "execution_count": 20,
   "id": "50991970",
   "metadata": {},
   "outputs": [
    {
     "data": {
      "image/png": "[encoded data removed]",
      "text/plain": [
       "<Figure size 720x504 with 1 Axes>"
      ]
     },
     "metadata": {
      "needs_background": "light"
     },
     "output_type": "display_data"
    }
   ],
   "source": [
    "# Plotting data using a boxplot to understand distribution and see outliers\n",
    "\n",
    "plt.figure(figsize=(10,7))\n",
    "sns.boxplot(data=houses.bedrooms)\n",
    "plt.show()\n",
    "\n",
    "# There are lots of outliers"
   ]
  },
  {
   "cell_type": "code",
   "execution_count": 49,
   "id": "d9e27543",
   "metadata": {},
   "outputs": [
    {
     "data": {
      "image/png": "[encoded data removed]",
      "text/plain": [
       "<Figure size 720x504 with 1 Axes>"
      ]
     },
     "metadata": {
      "needs_background": "light"
     },
     "output_type": "display_data"
    }
   ],
   "source": [
    "# Using a countplot to further investigate the distribution of the data\n",
    "\n",
    "plt.figure(figsize=(10,7))\n",
    "sns.countplot(x='bedrooms', data=houses)\n",
    "plt.show()"
   ]
  },
  {
   "cell_type": "markdown",
   "id": "f1b3bb8e",
   "metadata": {},
   "source": [
    "**The bedrooms columns is surprisingly pretty normally distributed**\n",
    "\n",
    "**It contains a great number of outliers**"
   ]
  },
  {
   "cell_type": "code",
   "execution_count": 21,
   "id": "de621db5",
   "metadata": {},
   "outputs": [
    {
     "data": {
      "image/png": "[encoded data removed]",
      "text/plain": [
       "<Figure size 720x504 with 1 Axes>"
      ]
     },
     "metadata": {
      "needs_background": "light"
     },
     "output_type": "display_data"
    }
   ],
   "source": [
    "# Plotting data using a boxplot to understand distribution and see outliers\n",
    "\n",
    "plt.figure(figsize=(10,7))\n",
    "sns.boxplot(data=houses.bathrooms)\n",
    "plt.show()\n",
    "\n",
    "# There are lots of outliers"
   ]
  },
  {
   "cell_type": "code",
   "execution_count": 50,
   "id": "3b1e90b5",
   "metadata": {},
   "outputs": [
    {
     "data": {
      "image/png": "[encoded data removed]",
      "text/plain": [
       "<Figure size 720x504 with 1 Axes>"
      ]
     },
     "metadata": {
      "needs_background": "light"
     },
     "output_type": "display_data"
    }
   ],
   "source": [
    "# Using a countplot to further investigate the distribution of the data\n",
    "\n",
    "plt.figure(figsize=(10,7))\n",
    "sns.countplot(x='bathrooms', data=houses)\n",
    "plt.show()"
   ]
  },
  {
   "cell_type": "markdown",
   "id": "4702ef03",
   "metadata": {},
   "source": [
    "**The bathrooms column is not really normally distributed**\n",
    "\n",
    "**It contains a great number of outliers**"
   ]
  },
  {
   "cell_type": "code",
   "execution_count": 22,
   "id": "01169d0c",
   "metadata": {},
   "outputs": [
    {
     "data": {
      "image/png": "[encoded data removed]",
      "text/plain": [
       "<Figure size 720x504 with 1 Axes>"
      ]
     },
     "metadata": {
      "needs_background": "light"
     },
     "output_type": "display_data"
    }
   ],
   "source": [
    "# Plotting data using a boxplot to understand distribution and see outliers\n",
    "\n",
    "plt.figure(figsize=(10,7))\n",
    "sns.boxplot(data=houses.indoor_sqft)\n",
    "plt.show()\n",
    "\n",
    "# There are lots of outliers in the indoor_sqft column"
   ]
  },
  {
   "cell_type": "code",
   "execution_count": 23,
   "id": "b1d1bf60",
   "metadata": {},
   "outputs": [
    {
     "data": {
      "image/png": "[encoded data removed]",
      "text/plain": [
       "<Figure size 720x504 with 1 Axes>"
      ]
     },
     "metadata": {
      "needs_background": "light"
     },
     "output_type": "display_data"
    }
   ],
   "source": [
    "# Plotting data using a boxplot to understand distribution and see outliers\n",
    "\n",
    "plt.figure(figsize=(10,7))\n",
    "sns.boxplot(data=houses.tax_value)\n",
    "plt.show()\n",
    "\n",
    "# There are lots of outliers in the tax_value column but it is also the target variable so the current should be ok"
   ]
  },
  {
   "cell_type": "markdown",
   "id": "4cd7fa90",
   "metadata": {},
   "source": [
    "## Takeaways\n",
    "\n",
    "- All the columns have a lot of outliers\n",
    "- They are mostly normally distributed which will help with the statistical analysis\n",
    "- Since my goal is to predict the tax value of most houses, I will remove what does not constitute 'most houses in the US'\n",
    "   * According to realtor.com, a mansion is in the real estate industry is a house that has 8,000 square feet and above.\n",
    "   * I will cut off outliers that are 8,000 square feet and above.\n",
    "- 0 bedroom and 0 bathroom do exist in the industry and it does not mean that the house does not have any or is not habitable\n",
    "- .5, .25, .75 bathrooms exist as well and describe the existence of certain amenities in the bathroom like a tub or a sink..."
   ]
  },
  {
   "cell_type": "code",
   "execution_count": 24,
   "id": "e9b6aa9a",
   "metadata": {},
   "outputs": [
    {
     "data": {
      "text/plain": [
       "0.99791821845337"
      ]
     },
     "execution_count": 24,
     "metadata": {},
     "output_type": "execute_result"
    }
   ],
   "source": [
    "# The proportion of houses that have 7_999 indoor_squarefeet and less\n",
    "\n",
    "houses[houses.indoor_sqft <= 7_999].shape[0] / houses.shape[0]"
   ]
  },
  {
   "cell_type": "code",
   "execution_count": 25,
   "id": "bf8927a6",
   "metadata": {},
   "outputs": [
    {
     "data": {
      "text/plain": [
       "3.2996363636363637"
      ]
     },
     "execution_count": 25,
     "metadata": {},
     "output_type": "execute_result"
    }
   ],
   "source": [
    "# Mean of number of bedroooms of houses corresponding to less than 8_000 sqft\n",
    "\n",
    "houses[houses.indoor_sqft <= 7_999].bedrooms.mean()"
   ]
  },
  {
   "cell_type": "code",
   "execution_count": 26,
   "id": "513762df",
   "metadata": {},
   "outputs": [
    {
     "data": {
      "text/plain": [
       "2.292124401913876"
      ]
     },
     "execution_count": 26,
     "metadata": {},
     "output_type": "execute_result"
    }
   ],
   "source": [
    "# Mean of number of bathrooms of houses corresponding to less than 8_000 sqft\n",
    "\n",
    "houses[houses.indoor_sqft <= 7_999].bathrooms.mean()"
   ]
  },
  {
   "cell_type": "markdown",
   "id": "94a07178",
   "metadata": {},
   "source": [
    "## Takeaways\n",
    "- The proportion obtained are still significant and won't denature the data\n",
    "- I will filter the data through the <= 7_999 square feet criterion"
   ]
  },
  {
   "cell_type": "code",
   "execution_count": 27,
   "id": "636ffdb2",
   "metadata": {},
   "outputs": [
    {
     "data": {
      "text/html": [
       "<div>\n",
       "<style scoped>\n",
       "    .dataframe tbody tr th:only-of-type {\n",
       "        vertical-align: middle;\n",
       "    }\n",
       "\n",
       "    .dataframe tbody tr th {\n",
       "        vertical-align: top;\n",
       "    }\n",
       "\n",
       "    .dataframe thead th {\n",
       "        text-align: right;\n",
       "    }\n",
       "</style>\n",
       "<table border=\"1\" class=\"dataframe\">\n",
       "  <thead>\n",
       "    <tr style=\"text-align: right;\">\n",
       "      <th></th>\n",
       "      <th>bedrooms</th>\n",
       "      <th>bathrooms</th>\n",
       "      <th>indoor_sqft</th>\n",
       "      <th>tax_value</th>\n",
       "    </tr>\n",
       "  </thead>\n",
       "  <tbody>\n",
       "    <tr>\n",
       "      <th>0</th>\n",
       "      <td>4</td>\n",
       "      <td>3.5</td>\n",
       "      <td>3100</td>\n",
       "      <td>1023282</td>\n",
       "    </tr>\n",
       "    <tr>\n",
       "      <th>1</th>\n",
       "      <td>2</td>\n",
       "      <td>1.0</td>\n",
       "      <td>1465</td>\n",
       "      <td>464000</td>\n",
       "    </tr>\n",
       "    <tr>\n",
       "      <th>2</th>\n",
       "      <td>3</td>\n",
       "      <td>2.0</td>\n",
       "      <td>1243</td>\n",
       "      <td>564778</td>\n",
       "    </tr>\n",
       "    <tr>\n",
       "      <th>3</th>\n",
       "      <td>4</td>\n",
       "      <td>3.0</td>\n",
       "      <td>2376</td>\n",
       "      <td>145143</td>\n",
       "    </tr>\n",
       "    <tr>\n",
       "      <th>4</th>\n",
       "      <td>4</td>\n",
       "      <td>3.0</td>\n",
       "      <td>2962</td>\n",
       "      <td>773303</td>\n",
       "    </tr>\n",
       "  </tbody>\n",
       "</table>\n",
       "</div>"
      ],
      "text/plain": [
       "   bedrooms  bathrooms  indoor_sqft  tax_value\n",
       "0         4        3.5         3100    1023282\n",
       "1         2        1.0         1465     464000\n",
       "2         3        2.0         1243     564778\n",
       "3         4        3.0         2376     145143\n",
       "4         4        3.0         2962     773303"
      ]
     },
     "execution_count": 27,
     "metadata": {},
     "output_type": "execute_result"
    }
   ],
   "source": [
    "# Filtering the data through number of bedrooms\n",
    "\n",
    "houses = houses[houses.indoor_sqft <= 7_999]\n",
    "houses.head()"
   ]
  },
  {
   "cell_type": "code",
   "execution_count": 28,
   "id": "ccc1dca1",
   "metadata": {},
   "outputs": [
    {
     "name": "stdout",
     "output_type": "stream",
     "text": [
      "<class 'pandas.core.frame.DataFrame'>\n",
      "Int64Index: 52250 entries, 0 to 52441\n",
      "Data columns (total 4 columns):\n",
      " #   Column       Non-Null Count  Dtype  \n",
      "---  ------       --------------  -----  \n",
      " 0   bedrooms     52250 non-null  int64  \n",
      " 1   bathrooms    52250 non-null  float64\n",
      " 2   indoor_sqft  52250 non-null  int64  \n",
      " 3   tax_value    52250 non-null  int64  \n",
      "dtypes: float64(1), int64(3)\n",
      "memory usage: 2.0 MB\n"
     ]
    }
   ],
   "source": [
    "# Verifying the state of the dataframe by checking number of null values,\n",
    "# column and row numbers as well as data type\n",
    "\n",
    "houses.info()"
   ]
  },
  {
   "cell_type": "code",
   "execution_count": 29,
   "id": "f39faa44",
   "metadata": {},
   "outputs": [
    {
     "data": {
      "text/plain": [
       "bedrooms       0.0\n",
       "bathrooms      0.0\n",
       "indoor_sqft    0.0\n",
       "tax_value      0.0\n",
       "dtype: float64"
      ]
     },
     "execution_count": 29,
     "metadata": {},
     "output_type": "execute_result"
    }
   ],
   "source": [
    "# Checking the precentage of null values in the dataframe\n",
    "\n",
    "houses.isnull().mean()"
   ]
  },
  {
   "cell_type": "markdown",
   "id": "94015e4d",
   "metadata": {},
   "source": [
    "## General Takeaways for univariate exploration\n",
    "- The median of the indoor_sqft column is toward the bottom 50% of the data\n",
    "- The median of bedrooms and bathrooms columns are not visible\n",
    "- The .describe() function shows that the median in probably toward the bottom 25% of the data\n",
    "- The data still contains a fair number of outliers. I think that an appropriate scaler (Robust or Quantile) can handle that\n",
    "- It is probable that a type of Robust Scaler (Robust or Quantile) or a Standard scaler would work best"
   ]
  },
  {
   "cell_type": "markdown",
   "id": "eed385fb",
   "metadata": {},
   "source": [
    "# III. Scaling and Exploration"
   ]
  },
  {
   "cell_type": "markdown",
   "id": "66119488",
   "metadata": {},
   "source": [
    "**I will scale the data but assign the scaled data to a different variable tahn train and explore my train data with the train dataframe**\n",
    "\n",
    "    - I will use a Min-Max, Standard, and Robust scalers\n",
    "    - I will perform an exploration of the data to determine which columns are potential drivers of the tax value\n",
    "    - For the exploration I will use appropriate charts and statistical tests to show that there is or there is not a correlation between the independent variables (bedrooms, bathrooms, and square footage) and the dependent one, tax value."
   ]
  },
  {
   "cell_type": "markdown",
   "id": "e8bf40f7",
   "metadata": {},
   "source": [
    "## A. Splitting and Scaling"
   ]
  },
  {
   "cell_type": "markdown",
   "id": "669a826d",
   "metadata": {},
   "source": [
    "**First I am going to split the data into train, validate, and test**"
   ]
  },
  {
   "cell_type": "markdown",
   "id": "f44ece17",
   "metadata": {},
   "source": [
    "### 1. Splitting"
   ]
  },
  {
   "cell_type": "markdown",
   "id": "48b2c04b",
   "metadata": {},
   "source": [
    "### <font color = 'brown'>Train, Validate, and Test</font>"
   ]
  },
  {
   "cell_type": "code",
   "execution_count": 37,
   "id": "f467cc11",
   "metadata": {},
   "outputs": [],
   "source": [
    "# Splits df into train_validate and test using train_test_split()\n",
    "train_validate, test = train_test_split(houses, test_size=.2, random_state=175)\n",
    "\n",
    "# splits train_validate into train and validate using train_test_split()\n",
    "train, validate = train_test_split(train_validate, test_size=.3, random_state=175)"
   ]
  },
  {
   "cell_type": "code",
   "execution_count": 93,
   "id": "dd5003c3",
   "metadata": {},
   "outputs": [
    {
     "data": {
      "text/plain": [
       "(29260, 4)"
      ]
     },
     "execution_count": 93,
     "metadata": {},
     "output_type": "execute_result"
    }
   ],
   "source": [
    "# Verifying the number of columns and rows in the split data (train, validate, and test)\n",
    "\n",
    "train.shape"
   ]
  },
  {
   "cell_type": "code",
   "execution_count": 94,
   "id": "9dcd35ce",
   "metadata": {},
   "outputs": [
    {
     "data": {
      "text/plain": [
       "(12540, 4)"
      ]
     },
     "execution_count": 94,
     "metadata": {},
     "output_type": "execute_result"
    }
   ],
   "source": [
    "validate.shape"
   ]
  },
  {
   "cell_type": "code",
   "execution_count": 95,
   "id": "5b141923",
   "metadata": {},
   "outputs": [
    {
     "data": {
      "text/plain": [
       "(10450, 4)"
      ]
     },
     "execution_count": 95,
     "metadata": {},
     "output_type": "execute_result"
    }
   ],
   "source": [
    "test.shape"
   ]
  },
  {
   "cell_type": "code",
   "execution_count": 96,
   "id": "353595dc",
   "metadata": {},
   "outputs": [
    {
     "data": {
      "text/plain": [
       "['bedrooms', 'bathrooms', 'indoor_sqft', 'tax_value']"
      ]
     },
     "execution_count": 96,
     "metadata": {},
     "output_type": "execute_result"
    }
   ],
   "source": [
    "train.columns.tolist()"
   ]
  },
  {
   "cell_type": "markdown",
   "id": "38897cc3",
   "metadata": {},
   "source": [
    "### <font color = 'brown'>The y_train, y_validate, and y_test</font>"
   ]
  },
  {
   "cell_type": "code",
   "execution_count": 122,
   "id": "80deb2e0",
   "metadata": {},
   "outputs": [],
   "source": [
    "y_train = train.tax_value\n",
    "y_validate = validate.tax_value\n",
    "y_test = test.tax_value"
   ]
  },
  {
   "cell_type": "code",
   "execution_count": 127,
   "id": "d274c343",
   "metadata": {},
   "outputs": [],
   "source": [
    "I will confirm that y_train is a series\n",
    "\n",
    "y_train?\n",
    "# y_train is indeed a series"
   ]
  },
  {
   "cell_type": "markdown",
   "id": "71a7c2ce",
   "metadata": {},
   "source": [
    "### 2. Scaling"
   ]
  },
  {
   "cell_type": "markdown",
   "id": "44bb22ef",
   "metadata": {},
   "source": [
    "**Now I will create a dataframe that holds the features 'bedrooms', 'bathrooms', 'indoor_sqft' only**\n"
   ]
  },
  {
   "cell_type": "code",
   "execution_count": 100,
   "id": "03b60bc9",
   "metadata": {
    "scrolled": true
   },
   "outputs": [
    {
     "data": {
      "text/html": [
       "<div>\n",
       "<style scoped>\n",
       "    .dataframe tbody tr th:only-of-type {\n",
       "        vertical-align: middle;\n",
       "    }\n",
       "\n",
       "    .dataframe tbody tr th {\n",
       "        vertical-align: top;\n",
       "    }\n",
       "\n",
       "    .dataframe thead th {\n",
       "        text-align: right;\n",
       "    }\n",
       "</style>\n",
       "<table border=\"1\" class=\"dataframe\">\n",
       "  <thead>\n",
       "    <tr style=\"text-align: right;\">\n",
       "      <th></th>\n",
       "      <th>bedrooms</th>\n",
       "      <th>bathrooms</th>\n",
       "      <th>indoor_sqft</th>\n",
       "    </tr>\n",
       "  </thead>\n",
       "  <tbody>\n",
       "    <tr>\n",
       "      <th>47579</th>\n",
       "      <td>2</td>\n",
       "      <td>2.0</td>\n",
       "      <td>1313</td>\n",
       "    </tr>\n",
       "    <tr>\n",
       "      <th>48106</th>\n",
       "      <td>4</td>\n",
       "      <td>3.0</td>\n",
       "      <td>2629</td>\n",
       "    </tr>\n",
       "    <tr>\n",
       "      <th>31105</th>\n",
       "      <td>3</td>\n",
       "      <td>2.0</td>\n",
       "      <td>1648</td>\n",
       "    </tr>\n",
       "    <tr>\n",
       "      <th>12420</th>\n",
       "      <td>3</td>\n",
       "      <td>2.0</td>\n",
       "      <td>1580</td>\n",
       "    </tr>\n",
       "    <tr>\n",
       "      <th>16659</th>\n",
       "      <td>4</td>\n",
       "      <td>5.0</td>\n",
       "      <td>2547</td>\n",
       "    </tr>\n",
       "  </tbody>\n",
       "</table>\n",
       "</div>"
      ],
      "text/plain": [
       "       bedrooms  bathrooms  indoor_sqft\n",
       "47579         2        2.0         1313\n",
       "48106         4        3.0         2629\n",
       "31105         3        2.0         1648\n",
       "12420         3        2.0         1580\n",
       "16659         4        5.0         2547"
      ]
     },
     "execution_count": 100,
     "metadata": {},
     "output_type": "execute_result"
    }
   ],
   "source": [
    "# Creating a dataframe that holds the features 'bedrooms', 'bathrooms', 'indoor_sqft' only\n",
    "\n",
    "for_scaling_train = train.drop(['tax_value'], axis=1)\n",
    "\n",
    "for_scaling_train.head()"
   ]
  },
  {
   "cell_type": "code",
   "execution_count": 101,
   "id": "b5a27fd1",
   "metadata": {},
   "outputs": [
    {
     "data": {
      "text/html": [
       "<div>\n",
       "<style scoped>\n",
       "    .dataframe tbody tr th:only-of-type {\n",
       "        vertical-align: middle;\n",
       "    }\n",
       "\n",
       "    .dataframe tbody tr th {\n",
       "        vertical-align: top;\n",
       "    }\n",
       "\n",
       "    .dataframe thead th {\n",
       "        text-align: right;\n",
       "    }\n",
       "</style>\n",
       "<table border=\"1\" class=\"dataframe\">\n",
       "  <thead>\n",
       "    <tr style=\"text-align: right;\">\n",
       "      <th></th>\n",
       "      <th>bedrooms</th>\n",
       "      <th>bathrooms</th>\n",
       "      <th>indoor_sqft</th>\n",
       "    </tr>\n",
       "  </thead>\n",
       "  <tbody>\n",
       "    <tr>\n",
       "      <th>21269</th>\n",
       "      <td>3</td>\n",
       "      <td>2.0</td>\n",
       "      <td>1321</td>\n",
       "    </tr>\n",
       "    <tr>\n",
       "      <th>14154</th>\n",
       "      <td>4</td>\n",
       "      <td>2.0</td>\n",
       "      <td>2299</td>\n",
       "    </tr>\n",
       "    <tr>\n",
       "      <th>12063</th>\n",
       "      <td>3</td>\n",
       "      <td>2.0</td>\n",
       "      <td>1550</td>\n",
       "    </tr>\n",
       "    <tr>\n",
       "      <th>22428</th>\n",
       "      <td>2</td>\n",
       "      <td>2.0</td>\n",
       "      <td>1296</td>\n",
       "    </tr>\n",
       "    <tr>\n",
       "      <th>13790</th>\n",
       "      <td>3</td>\n",
       "      <td>2.0</td>\n",
       "      <td>1848</td>\n",
       "    </tr>\n",
       "  </tbody>\n",
       "</table>\n",
       "</div>"
      ],
      "text/plain": [
       "       bedrooms  bathrooms  indoor_sqft\n",
       "21269         3        2.0         1321\n",
       "14154         4        2.0         2299\n",
       "12063         3        2.0         1550\n",
       "22428         2        2.0         1296\n",
       "13790         3        2.0         1848"
      ]
     },
     "execution_count": 101,
     "metadata": {},
     "output_type": "execute_result"
    }
   ],
   "source": [
    "# Creating a dataframe that holds the features 'bedrooms', 'bathrooms', 'indoor_sqft' only for the validate set\n",
    "\n",
    "for_scaling_validate = validate.drop(['tax_value'], axis=1)\n",
    "\n",
    "for_scaling_validate.head()"
   ]
  },
  {
   "cell_type": "code",
   "execution_count": 102,
   "id": "06037908",
   "metadata": {},
   "outputs": [
    {
     "data": {
      "text/html": [
       "<div>\n",
       "<style scoped>\n",
       "    .dataframe tbody tr th:only-of-type {\n",
       "        vertical-align: middle;\n",
       "    }\n",
       "\n",
       "    .dataframe tbody tr th {\n",
       "        vertical-align: top;\n",
       "    }\n",
       "\n",
       "    .dataframe thead th {\n",
       "        text-align: right;\n",
       "    }\n",
       "</style>\n",
       "<table border=\"1\" class=\"dataframe\">\n",
       "  <thead>\n",
       "    <tr style=\"text-align: right;\">\n",
       "      <th></th>\n",
       "      <th>bedrooms</th>\n",
       "      <th>bathrooms</th>\n",
       "      <th>indoor_sqft</th>\n",
       "    </tr>\n",
       "  </thead>\n",
       "  <tbody>\n",
       "    <tr>\n",
       "      <th>26094</th>\n",
       "      <td>3</td>\n",
       "      <td>2.0</td>\n",
       "      <td>1425</td>\n",
       "    </tr>\n",
       "    <tr>\n",
       "      <th>43255</th>\n",
       "      <td>3</td>\n",
       "      <td>2.0</td>\n",
       "      <td>1342</td>\n",
       "    </tr>\n",
       "    <tr>\n",
       "      <th>8763</th>\n",
       "      <td>3</td>\n",
       "      <td>3.0</td>\n",
       "      <td>2994</td>\n",
       "    </tr>\n",
       "    <tr>\n",
       "      <th>39117</th>\n",
       "      <td>3</td>\n",
       "      <td>1.5</td>\n",
       "      <td>1150</td>\n",
       "    </tr>\n",
       "    <tr>\n",
       "      <th>48840</th>\n",
       "      <td>2</td>\n",
       "      <td>2.0</td>\n",
       "      <td>1411</td>\n",
       "    </tr>\n",
       "  </tbody>\n",
       "</table>\n",
       "</div>"
      ],
      "text/plain": [
       "       bedrooms  bathrooms  indoor_sqft\n",
       "26094         3        2.0         1425\n",
       "43255         3        2.0         1342\n",
       "8763          3        3.0         2994\n",
       "39117         3        1.5         1150\n",
       "48840         2        2.0         1411"
      ]
     },
     "execution_count": 102,
     "metadata": {},
     "output_type": "execute_result"
    }
   ],
   "source": [
    "# Creating a dataframe that holds the features 'bedrooms', 'bathrooms', 'indoor_sqft' only for the test set\n",
    "\n",
    "for_scaling_test = test.drop(['tax_value'], axis=1)\n",
    "\n",
    "for_scaling_test.head()"
   ]
  },
  {
   "cell_type": "markdown",
   "id": "6d31c0f7",
   "metadata": {},
   "source": [
    "**My next step is to create a Scaler Variable for each type of Scaler I am going to use (Standard, Robust, and Quantile)**"
   ]
  },
  {
   "cell_type": "markdown",
   "id": "6da9bf0f",
   "metadata": {},
   "source": [
    "### <font color = 'brown'>Standard Scaler</font>"
   ]
  },
  {
   "cell_type": "code",
   "execution_count": 107,
   "id": "93ec2df9",
   "metadata": {},
   "outputs": [
    {
     "data": {
      "text/plain": [
       "StandardScaler()"
      ]
     },
     "execution_count": 107,
     "metadata": {},
     "output_type": "execute_result"
    }
   ],
   "source": [
    "# Applying the standard scaler to the train data\n",
    "\n",
    "standard_scaler1 = sklearn.preprocessing.StandardScaler()\n",
    "\n",
    "standard_scaler1.fit(for_scaling_train)"
   ]
  },
  {
   "cell_type": "code",
   "execution_count": 108,
   "id": "5cce79f9",
   "metadata": {},
   "outputs": [
    {
     "data": {
      "text/plain": [
       "StandardScaler()"
      ]
     },
     "execution_count": 108,
     "metadata": {},
     "output_type": "execute_result"
    }
   ],
   "source": [
    "# Applying the standard scaler to the validate data\n",
    "\n",
    "standard_scaler2 = sklearn.preprocessing.StandardScaler()\n",
    "\n",
    "standard_scaler2.fit(for_scaling_validate)"
   ]
  },
  {
   "cell_type": "code",
   "execution_count": 109,
   "id": "1c6bf02b",
   "metadata": {},
   "outputs": [
    {
     "data": {
      "text/plain": [
       "StandardScaler()"
      ]
     },
     "execution_count": 109,
     "metadata": {},
     "output_type": "execute_result"
    }
   ],
   "source": [
    "# Applying the standard scaler to the test data\n",
    "\n",
    "standard_scaler3 = sklearn.preprocessing.StandardScaler()\n",
    "\n",
    "standard_scaler3.fit(for_scaling_test)"
   ]
  },
  {
   "cell_type": "markdown",
   "id": "af23e1e6",
   "metadata": {},
   "source": [
    "**I will now scale the data with Standard Scaler**"
   ]
  },
  {
   "cell_type": "code",
   "execution_count": 110,
   "id": "7628b46a",
   "metadata": {},
   "outputs": [],
   "source": [
    "X_train_standard = standard_scaler1.transform(for_scaling_train)\n",
    "X_validate_standard = standard_scaler2.transform(for_scaling_validate)\n",
    "X_test_standard = standard_scaler3.transform(for_scaling_test)"
   ]
  },
  {
   "cell_type": "code",
   "execution_count": 111,
   "id": "9eaa2a8d",
   "metadata": {},
   "outputs": [
    {
     "data": {
      "text/plain": [
       "array([[-1.40188473, -0.29474639, -0.63235425],\n",
       "       [ 0.75344444,  0.71329282,  0.76984155],\n",
       "       [-0.32422014, -0.29474639, -0.27541231],\n",
       "       ...,\n",
       "       [-1.40188473, -0.29474639, -0.4064686 ],\n",
       "       [ 0.75344444, -0.29474639, -0.58440683],\n",
       "       [ 0.75344444,  0.71329282,  0.88384987]])"
      ]
     },
     "execution_count": 111,
     "metadata": {},
     "output_type": "execute_result"
    }
   ],
   "source": [
    "# Checking the shape and content of the X_train_standard to make sure it returns the expected array\n",
    "\n",
    "X_train_standard"
   ]
  },
  {
   "cell_type": "markdown",
   "id": "a62891ee",
   "metadata": {},
   "source": [
    "### <font color = 'brown'>**Robust Scaler**</font>"
   ]
  },
  {
   "cell_type": "code",
   "execution_count": 112,
   "id": "ac3d7c67",
   "metadata": {},
   "outputs": [
    {
     "data": {
      "text/plain": [
       "RobustScaler()"
      ]
     },
     "execution_count": 112,
     "metadata": {},
     "output_type": "execute_result"
    }
   ],
   "source": [
    "robust_scaler1 = sklearn.preprocessing.RobustScaler()\n",
    "\n",
    "robust_scaler1.fit(for_scaling_train)"
   ]
  },
  {
   "cell_type": "code",
   "execution_count": 113,
   "id": "42434214",
   "metadata": {},
   "outputs": [
    {
     "data": {
      "text/plain": [
       "RobustScaler()"
      ]
     },
     "execution_count": 113,
     "metadata": {},
     "output_type": "execute_result"
    }
   ],
   "source": [
    "robust_scaler2 = sklearn.preprocessing.RobustScaler()\n",
    "\n",
    "robust_scaler2.fit(for_scaling_validate)"
   ]
  },
  {
   "cell_type": "code",
   "execution_count": 114,
   "id": "189e9e03",
   "metadata": {},
   "outputs": [
    {
     "data": {
      "text/plain": [
       "RobustScaler()"
      ]
     },
     "execution_count": 114,
     "metadata": {},
     "output_type": "execute_result"
    }
   ],
   "source": [
    "robust_scaler3 = sklearn.preprocessing.RobustScaler()\n",
    "\n",
    "robust_scaler3.fit(for_scaling_test)"
   ]
  },
  {
   "cell_type": "code",
   "execution_count": 115,
   "id": "7c7d2bc0",
   "metadata": {},
   "outputs": [],
   "source": [
    "# Applying the robust scaler to the train data\n",
    "\n",
    "X_train_robust = standard_scaler1.transform(for_scaling_train)\n",
    "X_validate_robust = standard_scaler2.transform(for_scaling_validate)\n",
    "X_test_robust = standard_scaler3.transform(for_scaling_test)"
   ]
  },
  {
   "cell_type": "code",
   "execution_count": 116,
   "id": "09d4c3d2",
   "metadata": {},
   "outputs": [
    {
     "data": {
      "text/plain": [
       "array([[-1.40188473, -0.29474639, -0.63235425],\n",
       "       [ 0.75344444,  0.71329282,  0.76984155],\n",
       "       [-0.32422014, -0.29474639, -0.27541231],\n",
       "       ...,\n",
       "       [-1.40188473, -0.29474639, -0.4064686 ],\n",
       "       [ 0.75344444, -0.29474639, -0.58440683],\n",
       "       [ 0.75344444,  0.71329282,  0.88384987]])"
      ]
     },
     "execution_count": 116,
     "metadata": {},
     "output_type": "execute_result"
    }
   ],
   "source": [
    "# Checking the shape and content of the X_train_robust to make sure it returns the expected array\n",
    "\n",
    "X_train_robust"
   ]
  },
  {
   "cell_type": "markdown",
   "id": "c486dbf3",
   "metadata": {},
   "source": [
    "### <font color = 'brown'>**Quantile Scaler**</font>"
   ]
  },
  {
   "cell_type": "code",
   "execution_count": 117,
   "id": "03a2aa4c",
   "metadata": {},
   "outputs": [
    {
     "data": {
      "text/plain": [
       "QuantileTransformer()"
      ]
     },
     "execution_count": 117,
     "metadata": {},
     "output_type": "execute_result"
    }
   ],
   "source": [
    "quantile_scaler1 = sklearn.preprocessing.QuantileTransformer()\n",
    "\n",
    "quantile_scaler1.fit(for_scaling_train)"
   ]
  },
  {
   "cell_type": "code",
   "execution_count": 118,
   "id": "d9888071",
   "metadata": {},
   "outputs": [
    {
     "data": {
      "text/plain": [
       "QuantileTransformer()"
      ]
     },
     "execution_count": 118,
     "metadata": {},
     "output_type": "execute_result"
    }
   ],
   "source": [
    "quantile_scaler2 = sklearn.preprocessing.QuantileTransformer()\n",
    "\n",
    "quantile_scaler2.fit(for_scaling_validate)"
   ]
  },
  {
   "cell_type": "code",
   "execution_count": 119,
   "id": "331c2b32",
   "metadata": {},
   "outputs": [
    {
     "data": {
      "text/plain": [
       "QuantileTransformer()"
      ]
     },
     "execution_count": 119,
     "metadata": {},
     "output_type": "execute_result"
    }
   ],
   "source": [
    "quantile_scaler3 = sklearn.preprocessing.QuantileTransformer()\n",
    "\n",
    "quantile_scaler3.fit(for_scaling_test)"
   ]
  },
  {
   "cell_type": "code",
   "execution_count": 120,
   "id": "90dbd3b7",
   "metadata": {},
   "outputs": [],
   "source": [
    "# Applying the quantile scaker to the train data\n",
    "\n",
    "X_train_quantile = quantile_scaler1.transform(for_scaling_train)\n",
    "X_validate_quantile = quantile_scaler2.transform(for_scaling_validate)\n",
    "X_test_quantile = quantile_scaler3.transform(for_scaling_test)"
   ]
  },
  {
   "cell_type": "code",
   "execution_count": 121,
   "id": "fe40e2a4",
   "metadata": {
    "scrolled": true
   },
   "outputs": [
    {
     "data": {
      "text/plain": [
       "array([[0.09159159, 0.40990991, 0.28228228],\n",
       "       [0.76476476, 0.7957958 , 0.82802803],\n",
       "       [0.3953954 , 0.40990991, 0.49572489],\n",
       "       ...,\n",
       "       [0.09159159, 0.40990991, 0.42192192],\n",
       "       [0.76476476, 0.40990991, 0.31131131],\n",
       "       [0.76476476, 0.7957958 , 0.84704008]])"
      ]
     },
     "execution_count": 121,
     "metadata": {},
     "output_type": "execute_result"
    }
   ],
   "source": [
    "# Checking the shape and content of the train_scaled_standard to make sure it returns the expected array\n",
    "\n",
    "X_train_quantile"
   ]
  },
  {
   "cell_type": "markdown",
   "id": "b05d8709",
   "metadata": {},
   "source": [
    "**After finishing all these splits and scalers I realized that I don't need all of them for my MVP so I will choose just one for my MVP and come back to the others if I have enough time**"
   ]
  },
  {
   "cell_type": "markdown",
   "id": "c5e39908",
   "metadata": {},
   "source": [
    "## B. Exploration on unscaled data"
   ]
  },
  {
   "cell_type": "markdown",
   "id": "e26545b4",
   "metadata": {},
   "source": [
    "## Bedrooms column"
   ]
  },
  {
   "cell_type": "markdown",
   "id": "a3ec7d10",
   "metadata": {},
   "source": [
    "**Hypothesis setting**\n",
    "- Null hypothesis: $H_{0}$: there is no correlation between the number of bedrooms and the tax value of the properties\n",
    "\n",
    "\n",
    "- Alternative hypothesis: $H_{A}$: there is a correlation between the number of bedrooms and the tax value of the properties."
   ]
  },
  {
   "cell_type": "code",
   "execution_count": 66,
   "id": "96448f1d",
   "metadata": {
    "scrolled": false
   },
   "outputs": [
    {
     "data": {
      "image/png": "[encoded data removed]",
      "text/plain": [
       "<Figure size 360x360 with 1 Axes>"
      ]
     },
     "metadata": {
      "needs_background": "light"
     },
     "output_type": "display_data"
    }
   ],
   "source": [
    "# Plotting a scatter plot to visualize the existence or not of a correlation before running a statistical test\n",
    "\n",
    "sns.relplot(x='bedrooms', y='tax_value', data=train)\n",
    "plt.show()"
   ]
  },
  {
   "cell_type": "code",
   "execution_count": 59,
   "id": "cec9ffb9",
   "metadata": {},
   "outputs": [
    {
     "data": {
      "text/plain": [
       "<AxesSubplot:xlabel='bedrooms', ylabel='tax_value'>"
      ]
     },
     "execution_count": 59,
     "metadata": {},
     "output_type": "execute_result"
    },
    {
     "data": {
      "image/png": "[encoded data removed]",
      "text/plain": [
       "<Figure size 432x288 with 1 Axes>"
      ]
     },
     "metadata": {
      "needs_background": "light"
     },
     "output_type": "display_data"
    }
   ],
   "source": [
    "# Using a stripplot to further investigate the data\n",
    "\n",
    "sns.stripplot(x='bedrooms', y='tax_value', data=train)"
   ]
  },
  {
   "cell_type": "markdown",
   "id": "95f37146",
   "metadata": {},
   "source": [
    "* Observations\n",
    "    - The scatter plot and the strip plot display slightly different distribution of the data\n",
    "        - 11 bedroom outlier missing in strip plot\n",
    "        - outliers better represented\n",
    "        - I would rather use the information from the scatter plot\n",
    "    - As the number of bedrooms go from 0 to 7, I notice that there is an increase of the tax value af the properties\n",
    "    - A great number of properties (with 0 to 11 bedrooms) have their prices conglomerated between the tax value of 0.0 and 0.6*10^7\n",
    "    - The number of bedrooms is not always synonnymous of greater tax value\n",
    "    - There is a 4 bedroom property that has a tax value far greater than all the other properties\n",
    "    - Overall there doesn't seem to be a clear linear relationship between the two series\n",
    "* Action\n",
    "\n",
    "    - Perform statistical analyses to determine the correlation between the two variables (the shape of the chart and the nature of the data hints towards a spearman test su)"
   ]
  },
  {
   "cell_type": "code",
   "execution_count": 62,
   "id": "549c27ab",
   "metadata": {
    "scrolled": true
   },
   "outputs": [
    {
     "name": "stdout",
     "output_type": "stream",
     "text": [
      "r is 0.262\n",
      "p is 0.0000000000\n"
     ]
    }
   ],
   "source": [
    "# I'll perform a Pearson test first to see the the level of correlation\n",
    "\n",
    "bedrooms_pearsonr = stats.pearsonr(train.bedrooms, train.tax_value)\n",
    "r, p = bedrooms_pearsonr\n",
    "\n",
    "print(f'r is {r:.3f}')\n",
    "print(f'p is {p:.10f}')"
   ]
  },
  {
   "cell_type": "markdown",
   "id": "23da767c",
   "metadata": {},
   "source": [
    "<font color = 'brown'>**There is correlation because the p value is 0 up to 10 decimals and I can reject the null hypothesis. However, r is low = 0.26 meaning that 26% of the variation is explained by the relationship Bedrooms/Tax value. This does not surprise me because tax value goes up, then down, and remain the same in some case while bedrooms goes up**</font>\n",
    "\n",
    "I will perform a spearman test to further investigate but the shape of the graph tells me <font color = 'brown'>**I may need a Hoeffding D test**</font> as well but I will leave it for later if I have time"
   ]
  },
  {
   "cell_type": "code",
   "execution_count": 63,
   "id": "b2aa5e07",
   "metadata": {},
   "outputs": [
    {
     "name": "stdout",
     "output_type": "stream",
     "text": [
      "r is 0.296\n",
      "p is 0.0000000000\n"
     ]
    }
   ],
   "source": [
    "# Performing a Spearman test to further investigate the correlation between bedrooms and tax value\n",
    "\n",
    "bedrooms_spearmanr = stats.spearmanr(train.bedrooms, train.tax_value)\n",
    "r, p = bedrooms_spearmanr\n",
    "\n",
    "print(f'r is {r:.3f}')\n",
    "print(f'p is {p:.10f}')"
   ]
  },
  {
   "cell_type": "markdown",
   "id": "6954d621",
   "metadata": {},
   "source": [
    "<font color = 'brown'>**There is correlation because the p value is 0 up to 10 decimals and I can reject the null hypothesis. However, r is low = 0.29 meaning that 29% of the variation is explained by the relationship Bedrooms/Tax value. This does not surprise me because tax value goes up, then down, and remain the same in some case while bedrooms goes up**</font>"
   ]
  },
  {
   "cell_type": "markdown",
   "id": "f6d7e20b",
   "metadata": {},
   "source": [
    "## Bathrooms column"
   ]
  },
  {
   "cell_type": "markdown",
   "id": "fd45bfe2",
   "metadata": {},
   "source": [
    "**Hypothesis setting**\n",
    "- Null hypothesis: $H_{0}$: there is no correlation between the number of bathrooms and the tax value of the properties\n",
    "\n",
    "\n",
    "- Alternative hypothesis: $H_{A}$: there is a correlation between the number of bathrooms and the tax value of the properties."
   ]
  },
  {
   "cell_type": "code",
   "execution_count": 83,
   "id": "207c2489",
   "metadata": {
    "scrolled": false
   },
   "outputs": [
    {
     "data": {
      "image/png": "[encoded data removed]",
      "text/plain": [
       "<Figure size 360x360 with 1 Axes>"
      ]
     },
     "metadata": {
      "needs_background": "light"
     },
     "output_type": "display_data"
    }
   ],
   "source": [
    "# Plotting a scatter plot to visualize the existence or not of a correlation before running a statistical test\n",
    "\n",
    "sns.relplot(x='bathrooms', y='tax_value', data=train)\n",
    "plt.show()"
   ]
  },
  {
   "cell_type": "code",
   "execution_count": 60,
   "id": "ffcdd30d",
   "metadata": {},
   "outputs": [
    {
     "data": {
      "text/plain": [
       "<AxesSubplot:xlabel='bathrooms', ylabel='tax_value'>"
      ]
     },
     "execution_count": 60,
     "metadata": {},
     "output_type": "execute_result"
    },
    {
     "data": {
      "image/png": "[encoded data removed]",
      "text/plain": [
       "<Figure size 432x288 with 1 Axes>"
      ]
     },
     "metadata": {
      "needs_background": "light"
     },
     "output_type": "display_data"
    }
   ],
   "source": [
    "# Using a stripplot to further investigate the data\n",
    "\n",
    "sns.stripplot(x='bathrooms', y='tax_value', data=train)"
   ]
  },
  {
   "cell_type": "markdown",
   "id": "65455471",
   "metadata": {},
   "source": [
    "* Observations\n",
    "    - Here too the scatter plot performs better. I will use it instead\n",
    "    - The correlation seems stronger here because it mostly goes up except for a few outliers\n",
    "    - One constant is that up to a certain tax value, about 0.3, there are houses with 0 to 7 bathrooms except for 6.5 bathrooms\n",
    "    - There are no houses with 0.5 bathrooms\n",
    "* Action\n",
    "    - Perform a Pearson then if necessary a Spearman analysis to test for correlation"
   ]
  },
  {
   "cell_type": "code",
   "execution_count": 64,
   "id": "00093970",
   "metadata": {
    "scrolled": true
   },
   "outputs": [
    {
     "name": "stdout",
     "output_type": "stream",
     "text": [
      "r is 0.513\n",
      "p is 0.0000000000\n"
     ]
    }
   ],
   "source": [
    "# I'll perform a Pearson test first to see the level of correlation\n",
    "\n",
    "bathrooms_pearsonr = stats.pearsonr(train.bathrooms, train.tax_value)\n",
    "r, p = bathrooms_pearsonr\n",
    "\n",
    "print(f'r is {r:.3f}')\n",
    "print(f'p is {p:.10f}')"
   ]
  },
  {
   "cell_type": "markdown",
   "id": "07618138",
   "metadata": {},
   "source": [
    "<font color = 'brown'>**There is correlation and I can reject the null hypothesis because the p value is 0 up to 10 decimals. The r value is twice as high here = 0.5**</font>\n",
    "\n",
    "I will perform a spearman test to further investigate it"
   ]
  },
  {
   "cell_type": "code",
   "execution_count": 85,
   "id": "d6716034",
   "metadata": {},
   "outputs": [
    {
     "name": "stdout",
     "output_type": "stream",
     "text": [
      "r is 0.486\n",
      "p is 0.0000000000\n"
     ]
    }
   ],
   "source": [
    "# Performing a Spearman test to see what insight it can provide\n",
    "\n",
    "bathrooms_spearmanr = stats.spearmanr(train.bathrooms, train.tax_value)\n",
    "r, p = bathrooms_spearmanr\n",
    "\n",
    "print(f'r is {r:.3f}')\n",
    "print(f'p is {p:.10f}')"
   ]
  },
  {
   "cell_type": "markdown",
   "id": "5d740506",
   "metadata": {},
   "source": [
    "<font color = 'brown'>**There is correlation and I can reject the null hypothesis because the p value is 0 up to 10 decimals. The r value is lower than that of the Pearson one**</font>\n",
    "\n",
    "I will consider the Pearson test result"
   ]
  },
  {
   "cell_type": "markdown",
   "id": "b1fd3267",
   "metadata": {},
   "source": [
    "## Indoor square footage column"
   ]
  },
  {
   "cell_type": "markdown",
   "id": "4eb48487",
   "metadata": {},
   "source": [
    "**Hypothesis setting**\n",
    "- Null hypothesis: $H_{0}$: there is no correlation between the indoor square footage and the tax value of the properties\n",
    "\n",
    "\n",
    "- Alternative hypothesis: $H_{A}$: there is a correlation between the indoor square footage and the tax value of the properties."
   ]
  },
  {
   "cell_type": "code",
   "execution_count": 88,
   "id": "89c578bf",
   "metadata": {
    "scrolled": false
   },
   "outputs": [
    {
     "data": {
      "image/png": "[encoded data removed]",
      "text/plain": [
       "<Figure size 360x360 with 1 Axes>"
      ]
     },
     "metadata": {
      "needs_background": "light"
     },
     "output_type": "display_data"
    }
   ],
   "source": [
    "# Plotting a scatter plot to visualize the existence or not of a correlation before running a statistical test\n",
    "\n",
    "sns.relplot(x='indoor_sqft', y='tax_value', data=train)\n",
    "plt.show()"
   ]
  },
  {
   "cell_type": "markdown",
   "id": "6c01ffed",
   "metadata": {},
   "source": [
    "* Observations\n",
    "    - There is a general upward tendency of the data with the with outliers here as well\n",
    "    - The clustering of the data at the bottom of the graph (around y=tax_value= ~0.3) is still present\n",
    "* Actions\n",
    "    - Perform a Pearson then if necessary a Spearman analysis to test for correlation"
   ]
  },
  {
   "cell_type": "code",
   "execution_count": 65,
   "id": "31dbb9e3",
   "metadata": {},
   "outputs": [
    {
     "name": "stdout",
     "output_type": "stream",
     "text": [
      "r is 0.582\n",
      "p is 0.0000000000\n"
     ]
    }
   ],
   "source": [
    "# I'll perform a Pearson test first to see the level of correlation\n",
    "\n",
    "indoor_sqft_pearsonr = stats.pearsonr(train.indoor_sqft, train.tax_value)\n",
    "r, p = indoor_sqft_pearsonr\n",
    "\n",
    "print(f'r is {r:.3f}')\n",
    "print(f'p is {p:.10f}')"
   ]
  },
  {
   "cell_type": "markdown",
   "id": "6f8c157a",
   "metadata": {},
   "source": [
    "<font color = 'brown'>**There is correlation and I can reject the null hypothesis because the p value is 0 up to 10 decimals. The r value is higher here = 0.6**</font>\n",
    "\n",
    "I will perform a spearman test to further investigate it"
   ]
  },
  {
   "cell_type": "code",
   "execution_count": 66,
   "id": "07793acb",
   "metadata": {},
   "outputs": [
    {
     "name": "stdout",
     "output_type": "stream",
     "text": [
      "r is 0.529\n",
      "p is 0.0000000000\n"
     ]
    }
   ],
   "source": [
    "# Performing a Spearman test to see what insight it can provide\n",
    "# but from the shape of the data, I think it won't be more relevant\n",
    "\n",
    "indoor_sqft_spearmanr = stats.spearmanr(train.indoor_sqft, train.tax_value)\n",
    "r, p = indoor_sqft_spearmanr\n",
    "\n",
    "print(f'r is {r:.3f}')\n",
    "print(f'p is {p:.10f}')"
   ]
  },
  {
   "cell_type": "markdown",
   "id": "7889d28b",
   "metadata": {},
   "source": [
    "<font color = 'brown'>**There is correlation and I can reject the null hypothesis because the p value is 0 up to 10 decimals. The r value is lower than that of the Pearson one**</font>\n",
    "\n",
    "I will consider the Pearson test result"
   ]
  },
  {
   "cell_type": "code",
   "execution_count": 67,
   "id": "c875330c",
   "metadata": {},
   "outputs": [
    {
     "data": {
      "text/plain": [
       "['bedrooms', 'bathrooms', 'indoor_sqft', 'tax_value']"
      ]
     },
     "execution_count": 67,
     "metadata": {},
     "output_type": "execute_result"
    }
   ],
   "source": [
    "houses.columns.tolist()"
   ]
  },
  {
   "cell_type": "markdown",
   "id": "c6bda56f",
   "metadata": {},
   "source": [
    "## General Takeaways of Statistical Analysis\n",
    "- There is a correlation between all the 3 columns bedrooms, bathrooms,  and indoor_sqft and tax_value\n",
    "- indoor_sqft seems to have the strongest correlation\n",
    "- I can move forward with"
   ]
  },
  {
   "cell_type": "markdown",
   "id": "a80dc8df",
   "metadata": {},
   "source": [
    "# IV. Modeling"
   ]
  },
  {
   "cell_type": "markdown",
   "id": "d6368de7",
   "metadata": {},
   "source": [
    "## A. Data shape"
   ]
  },
  {
   "cell_type": "markdown",
   "id": "28f5e3f7",
   "metadata": {},
   "source": [
    "**I will plot my data again to have a fresh view of it then I will choose the model(s) I think would best perform**"
   ]
  },
  {
   "cell_type": "code",
   "execution_count": 70,
   "id": "cb38473d",
   "metadata": {},
   "outputs": [
    {
     "name": "stdout",
     "output_type": "stream",
     "text": [
      "bedrooms\n"
     ]
    },
    {
     "data": {
      "image/png": "[encoded data removed]",
      "text/plain": [
       "<Figure size 432x288 with 1 Axes>"
      ]
     },
     "metadata": {
      "needs_background": "light"
     },
     "output_type": "display_data"
    },
    {
     "name": "stdout",
     "output_type": "stream",
     "text": [
      "bathrooms\n"
     ]
    },
    {
     "data": {
      "image/png": "[encoded data removed]",
      "text/plain": [
       "<Figure size 432x288 with 1 Axes>"
      ]
     },
     "metadata": {
      "needs_background": "light"
     },
     "output_type": "display_data"
    },
    {
     "name": "stdout",
     "output_type": "stream",
     "text": [
      "indoor_sqft\n"
     ]
    },
    {
     "data": {
      "image/png": "[encoded data removed]",
      "text/plain": [
       "<Figure size 432x288 with 1 Axes>"
      ]
     },
     "metadata": {
      "needs_background": "light"
     },
     "output_type": "display_data"
    },
    {
     "name": "stdout",
     "output_type": "stream",
     "text": [
      "tax_value\n"
     ]
    },
    {
     "data": {
      "image/png": "[encoded data removed]",
      "text/plain": [
       "<Figure size 432x288 with 1 Axes>"
      ]
     },
     "metadata": {
      "needs_background": "light"
     },
     "output_type": "display_data"
    }
   ],
   "source": [
    "for column in train.columns:\n",
    "    print(column)\n",
    "    plt.title(column)\n",
    "    train[column].hist()\n",
    "    plt.grid(True)\n",
    "    plt.show()"
   ]
  },
  {
   "cell_type": "code",
   "execution_count": 78,
   "id": "af5ece26",
   "metadata": {},
   "outputs": [
    {
     "data": {
      "text/plain": [
       "<AxesSubplot:xlabel='bedrooms', ylabel='count'>"
      ]
     },
     "execution_count": 78,
     "metadata": {},
     "output_type": "execute_result"
    },
    {
     "data": {
      "image/png": "[encoded data removed]",
      "text/plain": [
       "<Figure size 720x504 with 1 Axes>"
      ]
     },
     "metadata": {
      "needs_background": "light"
     },
     "output_type": "display_data"
    }
   ],
   "source": [
    "plt.figure(figsize=(10,7))\n",
    "sns.countplot(x='bedrooms', data=houses)"
   ]
  },
  {
   "cell_type": "code",
   "execution_count": 85,
   "id": "4f3c7e45",
   "metadata": {},
   "outputs": [
    {
     "data": {
      "text/plain": [
       "<AxesSubplot:xlabel='bathrooms', ylabel='count'>"
      ]
     },
     "execution_count": 85,
     "metadata": {},
     "output_type": "execute_result"
    },
    {
     "data": {
      "image/png": "[encoded data removed]",
      "text/plain": [
       "<Figure size 720x504 with 1 Axes>"
      ]
     },
     "metadata": {
      "needs_background": "light"
     },
     "output_type": "display_data"
    }
   ],
   "source": [
    "plt.figure(figsize=(10,7))\n",
    "sns.countplot(x='bathrooms', data=houses)"
   ]
  },
  {
   "cell_type": "code",
   "execution_count": null,
   "id": "f5154d59",
   "metadata": {},
   "outputs": [],
   "source": []
  },
  {
   "cell_type": "markdown",
   "id": "09d3d05d",
   "metadata": {},
   "source": [
    "* Observations\n",
    "    - Tax_value does not really have a normal distribution and has a lot of outliers\n",
    "    - bedrooms is the most normal looking distribution followed by indoor_sqft\n",
    "    - bathroom is somewhat normally distributed\n",
    "    - It seems like the best scaling tool would be Robust Scaler because \n",
    "    - It seems like the best modeling tool would be because \n",
    "* Actions\n",
    "    - R "
   ]
  },
  {
   "cell_type": "markdown",
   "id": "6bfe4055",
   "metadata": {},
   "source": [
    "## B. Modeling"
   ]
  },
  {
   "cell_type": "markdown",
   "id": "10dcb474",
   "metadata": {},
   "source": [
    "### 1. Baseline"
   ]
  },
  {
   "cell_type": "markdown",
   "id": "e32e61bd",
   "metadata": {},
   "source": [
    "**I will establish the baseline through the mean and the median and compare.\n",
    "\n",
    "**My hypothesis is that median would work best because there is a lot of outliers in y_train**"
   ]
  },
  {
   "cell_type": "code",
   "execution_count": 128,
   "id": "e9fac73c",
   "metadata": {},
   "outputs": [],
   "source": [
    "# I will set y_train and y_validate as dataframe first\n",
    "\n",
    "y_train = pd.DataFrame(y_train)\n",
    "y_validate = pd.DataFrame(y_validate)"
   ]
  },
  {
   "cell_type": "code",
   "execution_count": 129,
   "id": "097c3eb5",
   "metadata": {},
   "outputs": [],
   "source": [
    "# I will confirm that y_train has become a dataframe\n",
    "\n",
    "y_train?\n",
    "# y_train has become a dataframe"
   ]
  },
  {
   "cell_type": "code",
   "execution_count": 130,
   "id": "c127c808",
   "metadata": {},
   "outputs": [],
   "source": [
    "# I will confirm that y_validate has become a dataframe\n",
    "\n",
    "y_validate?\n",
    "# y_validate has become a dataframe"
   ]
  },
  {
   "cell_type": "code",
   "execution_count": 133,
   "id": "edcdce3f",
   "metadata": {},
   "outputs": [],
   "source": [
    "# Computing tax_value median\n",
    "\n",
    "tax_value_pred_median = y_train['tax_value'].median()\n",
    "y_train['tax_value_pred_median'] = tax_value_pred_median\n",
    "y_validate['tax_value_pred_median'] = tax_value_pred_median"
   ]
  },
  {
   "cell_type": "code",
   "execution_count": 135,
   "id": "118c3d0f",
   "metadata": {},
   "outputs": [],
   "source": [
    "# Computing tax_value mean\n",
    "\n",
    "tax_value_pred_mean = y_train['tax_value'].mean()\n",
    "y_train['tax_value_pred_mean'] = tax_value_pred_mean\n",
    "y_validate['tax_value_pred_mean'] = tax_value_pred_mean"
   ]
  },
  {
   "cell_type": "code",
   "execution_count": 137,
   "id": "866d107d",
   "metadata": {},
   "outputs": [
    {
     "data": {
      "text/html": [
       "<div>\n",
       "<style scoped>\n",
       "    .dataframe tbody tr th:only-of-type {\n",
       "        vertical-align: middle;\n",
       "    }\n",
       "\n",
       "    .dataframe tbody tr th {\n",
       "        vertical-align: top;\n",
       "    }\n",
       "\n",
       "    .dataframe thead th {\n",
       "        text-align: right;\n",
       "    }\n",
       "</style>\n",
       "<table border=\"1\" class=\"dataframe\">\n",
       "  <thead>\n",
       "    <tr style=\"text-align: right;\">\n",
       "      <th></th>\n",
       "      <th>tax_value</th>\n",
       "      <th>tax_value_pred_median</th>\n",
       "      <th>tax_value_pred_mean</th>\n",
       "    </tr>\n",
       "  </thead>\n",
       "  <tbody>\n",
       "    <tr>\n",
       "      <th>47579</th>\n",
       "      <td>629682</td>\n",
       "      <td>370998.0</td>\n",
       "      <td>514797.1811</td>\n",
       "    </tr>\n",
       "    <tr>\n",
       "      <th>48106</th>\n",
       "      <td>183245</td>\n",
       "      <td>370998.0</td>\n",
       "      <td>514797.1811</td>\n",
       "    </tr>\n",
       "    <tr>\n",
       "      <th>31105</th>\n",
       "      <td>564365</td>\n",
       "      <td>370998.0</td>\n",
       "      <td>514797.1811</td>\n",
       "    </tr>\n",
       "    <tr>\n",
       "      <th>12420</th>\n",
       "      <td>105997</td>\n",
       "      <td>370998.0</td>\n",
       "      <td>514797.1811</td>\n",
       "    </tr>\n",
       "    <tr>\n",
       "      <th>16659</th>\n",
       "      <td>854982</td>\n",
       "      <td>370998.0</td>\n",
       "      <td>514797.1811</td>\n",
       "    </tr>\n",
       "  </tbody>\n",
       "</table>\n",
       "</div>"
      ],
      "text/plain": [
       "       tax_value  tax_value_pred_median  tax_value_pred_mean\n",
       "47579     629682               370998.0          514797.1811\n",
       "48106     183245               370998.0          514797.1811\n",
       "31105     564365               370998.0          514797.1811\n",
       "12420     105997               370998.0          514797.1811\n",
       "16659     854982               370998.0          514797.1811"
      ]
     },
     "execution_count": 137,
     "metadata": {},
     "output_type": "execute_result"
    }
   ],
   "source": [
    "# Displaying my median and mean\n",
    "\n",
    "y_train.head()"
   ]
  },
  {
   "cell_type": "markdown",
   "id": "040f75f6",
   "metadata": {},
   "source": [
    "**Time to evaluate the baseline**"
   ]
  },
  {
   "cell_type": "code",
   "execution_count": 146,
   "id": "4e58dd01",
   "metadata": {},
   "outputs": [
    {
     "name": "stdout",
     "output_type": "stream",
     "text": [
      "RMSE using the median\n",
      "Train:  654028.5169540899 \n",
      "Validate:  619700.2305704806\n"
     ]
    }
   ],
   "source": [
    "# Calculating RMSE for median\n",
    "\n",
    "rmse_train_median = math.sqrt(mean_squared_error(y_train.tax_value, y_train.tax_value_pred_median))\n",
    "rmse_validate_median = math.sqrt(mean_squared_error(y_validate.tax_value, y_validate.tax_value_pred_median))\n",
    "\n",
    "print('RMSE using the median\\nTrain: ', rmse_train_median, '\\nValidate: ', rmse_validate_median)"
   ]
  },
  {
   "cell_type": "code",
   "execution_count": 147,
   "id": "e7c66860",
   "metadata": {},
   "outputs": [
    {
     "name": "stdout",
     "output_type": "stream",
     "text": [
      "RMSE using the mean\n",
      "Train:  638024.3698355088 \n",
      "Validate:  602948.5814780932\n"
     ]
    }
   ],
   "source": [
    "# Calculating RMSE for median\n",
    "\n",
    "rmse_train_mean = math.sqrt(mean_squared_error(y_train.tax_value, y_train.tax_value_pred_mean))\n",
    "rmse_validate_mean = math.sqrt(mean_squared_error(y_validate.tax_value, y_validate.tax_value_pred_mean))\n",
    "\n",
    "print('RMSE using the mean\\nTrain: ', rmse_train_mean, '\\nValidate: ', rmse_validate_mean)"
   ]
  },
  {
   "cell_type": "code",
   "execution_count": null,
   "id": "fc4e3890",
   "metadata": {},
   "outputs": [],
   "source": []
  }
 ],
 "metadata": {
  "kernelspec": {
   "display_name": "Python 3 (ipykernel)",
   "language": "python",
   "name": "python3"
  },
  "language_info": {
   "codemirror_mode": {
    "name": "ipython",
    "version": 3
   },
   "file_extension": ".py",
   "mimetype": "text/x-python",
   "name": "python",
   "nbconvert_exporter": "python",
   "pygments_lexer": "ipython3",
   "version": "3.9.7"
  }
 },
 "nbformat": 4,
 "nbformat_minor": 5
}
